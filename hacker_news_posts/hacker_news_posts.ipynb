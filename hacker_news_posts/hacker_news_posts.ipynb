{
 "cells": [
  {
   "cell_type": "markdown",
   "id": "associate-device",
   "metadata": {},
   "source": [
    "# What 'Hacker News' Posts Gets the Greatest Response?"
   ]
  },
  {
   "attachments": {},
   "cell_type": "markdown",
   "id": "31f64a5e",
   "metadata": {},
   "source": [
    "This project explores a dataset of posts from the popular Hacker News website. Hacker News is a website were user-submitted stories are voted on by the sites users. Posts that make it to the top of the site can receive hundreds of thousands of clicks. The original dataset can be found [here](https://www.kaggle.com/hacker-news/hacker-news-posts).\n",
    "The dataset used in this exercise is a modified version where all posts that received no comments have been removed. This leaves about 20,000 rows, down from the original 300,000 rows.\n",
    "\n",
    "The project specifically looks at the difference between `Show HN` and `Ask HN` types of posts. The `Show HN` submits a project, product, or something else of interest for the Hacker News community to peruse. In `Ask HN` submissions a question is posed to the community. The project will attempt to determine the following:\n",
    "- Do `Show HN` or `Ask HN` receive more comments on average?\n",
    "- Does the average number of comments on a post depend on when it was posted?"
   ]
  },
  {
   "cell_type": "markdown",
   "id": "respected-score",
   "metadata": {},
   "source": [
    "## Modification & Exploration of the dataset"
   ]
  },
  {
   "cell_type": "code",
   "execution_count": 13,
   "id": "expired-preliminary",
   "metadata": {},
   "outputs": [],
   "source": [
    "import datetime as dt\n",
    "from pprint import pprint as pp\n",
    "from csv import reader\n",
    "\n",
    "opened_file = open('hacker_news.csv')\n",
    "read_file = reader(opened_file)\n",
    "hn = list(read_file)"
   ]
  },
  {
   "cell_type": "code",
   "execution_count": 14,
   "id": "standard-plaintiff",
   "metadata": {},
   "outputs": [
    {
     "name": "stdout",
     "output_type": "stream",
     "text": [
      "[['id', 'title', 'url', 'num_points', 'num_comments', 'author', 'created_at'], ['12224879', 'Interactive Dynamic Video', 'http://www.interactivedynamicvideo.com/', '386', '52', 'ne0phyte', '8/4/2016 11:52'], ['10975351', 'How to Use Open Source and Shut the Fuck Up at the Same Time', 'http://hueniverse.com/2016/01/26/how-to-use-open-source-and-shut-the-fuck-up-at-the-same-time/', '39', '10', 'josep2', '1/26/2016 19:30'], ['11964716', \"Florida DJs May Face Felony for April Fools' Water Joke\", 'http://www.thewire.com/entertainment/2013/04/florida-djs-april-fools-water-joke/63798/', '2', '1', 'vezycash', '6/23/2016 22:20'], ['11919867', 'Technology ventures: From Idea to Enterprise', 'https://www.amazon.com/Technology-Ventures-Enterprise-Thomas-Byers/dp/0073523429', '3', '1', 'hswarna', '6/17/2016 0:01']]\n"
     ]
    }
   ],
   "source": [
    "print(hn[:5])"
   ]
  },
  {
   "cell_type": "code",
   "execution_count": 15,
   "id": "figured-astrology",
   "metadata": {},
   "outputs": [
    {
     "name": "stdout",
     "output_type": "stream",
     "text": [
      "['id', 'title', 'url', 'num_points', 'num_comments', 'author', 'created_at'] \n",
      "\n",
      "[['12224879', 'Interactive Dynamic Video', 'http://www.interactivedynamicvideo.com/', '386', '52', 'ne0phyte', '8/4/2016 11:52'], ['10975351', 'How to Use Open Source and Shut the Fuck Up at the Same Time', 'http://hueniverse.com/2016/01/26/how-to-use-open-source-and-shut-the-fuck-up-at-the-same-time/', '39', '10', 'josep2', '1/26/2016 19:30'], ['11964716', \"Florida DJs May Face Felony for April Fools' Water Joke\", 'http://www.thewire.com/entertainment/2013/04/florida-djs-april-fools-water-joke/63798/', '2', '1', 'vezycash', '6/23/2016 22:20'], ['11919867', 'Technology ventures: From Idea to Enterprise', 'https://www.amazon.com/Technology-Ventures-Enterprise-Thomas-Byers/dp/0073523429', '3', '1', 'hswarna', '6/17/2016 0:01'], ['10301696', 'Note by Note: The Making of Steinway L1037 (2007)', 'http://www.nytimes.com/2007/11/07/movies/07stein.html?_r=0', '8', '2', 'walterbell', '9/30/2015 4:12']]\n"
     ]
    }
   ],
   "source": [
    "#Separating out the headers\n",
    "headers = list(hn)\n",
    "headers = headers[0]\n",
    "hn = hn[1:]\n",
    "print(headers, \"\\n\")\n",
    "print(hn[:5])"
   ]
  },
  {
   "cell_type": "markdown",
   "id": "other-timothy",
   "metadata": {},
   "source": [
    "## 'Ask HN' & 'Show HN' Posts"
   ]
  },
  {
   "cell_type": "markdown",
   "id": "8b28ca6b",
   "metadata": {},
   "source": [
    "We'll separates out the various type of 'Hacker News' post for comparison."
   ]
  },
  {
   "cell_type": "code",
   "execution_count": 16,
   "id": "bibliographic-fundamentals",
   "metadata": {},
   "outputs": [],
   "source": [
    "#Separating out Ask HN, Show HN & other posts\n",
    "ask_posts = []\n",
    "show_posts = []\n",
    "other_posts = []\n",
    "\n",
    "title = [row[1] for row in hn]\n",
    "title = [row.lower() for row in title]\n",
    "\n",
    "for row in hn:\n",
    "    #convert headlines to lowercase\n",
    "    title = row[1].lower()\n",
    "    \n",
    "    if title.startswith('ask hn'):\n",
    "        ask_posts.append(row)\n",
    "    elif title.startswith('show hn'):\n",
    "        show_posts.append(row)\n",
    "    else:\n",
    "        other_posts.append(row)"
   ]
  },
  {
   "cell_type": "code",
   "execution_count": 17,
   "id": "medieval-mouse",
   "metadata": {},
   "outputs": [
    {
     "name": "stdout",
     "output_type": "stream",
     "text": [
      "Number of 'Ask HN' posts:  1744\n",
      "Number of 'Show HN' posts:  1162\n",
      "Number of other posts:  17194 \n",
      "\n",
      "['12296411', 'Ask HN: How to improve my personal website?', '', '2', '6', 'ahmedbaracat', '8/16/2016 9:55']\n",
      "['10610020', 'Ask HN: Am I the only one outraged by Twitter shutting down share counts?', '', '28', '29', 'tkfx', '11/22/2015 13:43']\n",
      "['11610310', 'Ask HN: Aby recent changes to CSS that broke mobile?', '', '1', '1', 'polskibus', '5/2/2016 10:14']\n",
      "['12210105', 'Ask HN: Looking for Employee #3 How do I do it?', '', '1', '3', 'sph130', '8/2/2016 14:20']\n",
      "['10394168', 'Ask HN: Someone offered to buy my browser extension from me. What now?', '', '28', '17', 'roykolak', '10/15/2015 16:38']\n",
      "\n",
      "\n",
      "['10627194', 'Show HN: Wio Link  ESP8266 Based Web of Things Hardware Development Platform', 'https://iot.seeed.cc', '26', '22', 'kfihihc', '11/25/2015 14:03']\n",
      "['10646440', 'Show HN: Something pointless I made', 'http://dn.ht/picklecat/', '747', '102', 'dhotson', '11/29/2015 22:46']\n",
      "['11590768', 'Show HN: Shanhu.io, a programming playground powered by e8vm', 'https://shanhu.io', '1', '1', 'h8liu', '4/28/2016 18:05']\n",
      "['12178806', 'Show HN: Webscope  Easy way for web developers to communicate with Clients', 'http://webscopeapp.com', '3', '3', 'fastbrick', '7/28/2016 7:11']\n",
      "['10872799', 'Show HN: GeoScreenshot  Easily test Geo-IP based web pages', 'https://www.geoscreenshot.com/', '1', '9', 'kpsychwave', '1/9/2016 20:45']\n"
     ]
    }
   ],
   "source": [
    "#Checking the lists\n",
    "print(\"Number of 'Ask HN' posts: \", len(ask_posts))\n",
    "print(\"Number of 'Show HN' posts: \", len(show_posts))\n",
    "print(\"Number of other posts: \", len(other_posts), \"\\n\") \n",
    "\n",
    "print(*ask_posts[:5], sep = \"\\n\")\n",
    "print(\"\\n\")\n",
    "print(*show_posts[:5], sep = \"\\n\")"
   ]
  },
  {
   "cell_type": "code",
   "execution_count": 18,
   "id": "incredible-promise",
   "metadata": {},
   "outputs": [
    {
     "name": "stdout",
     "output_type": "stream",
     "text": [
      "24483\n",
      "14.038417431192661\n"
     ]
    }
   ],
   "source": [
    "#average number of comments on Ask HN posts\n",
    "total_ask_comments = 0\n",
    "total_ask_comments = sum([int(row[4]) for row in ask_posts])\n",
    "avg_ask_comments = total_ask_comments / len(ask_posts)\n",
    "\n",
    "print(total_ask_comments)\n",
    "print(avg_ask_comments)"
   ]
  },
  {
   "cell_type": "code",
   "execution_count": 19,
   "id": "rational-tablet",
   "metadata": {},
   "outputs": [
    {
     "name": "stdout",
     "output_type": "stream",
     "text": [
      "11988\n",
      "10.31669535283993\n"
     ]
    }
   ],
   "source": [
    "#find the average number of comments on Show HN posts\n",
    "total_show_comments = 0\n",
    "total_show_comments = sum([int(row[4]) for row in show_posts])\n",
    "avg_show_comments = total_show_comments / len(show_posts)\n",
    "\n",
    "print(total_show_comments)\n",
    "print(avg_show_comments)"
   ]
  },
  {
   "cell_type": "markdown",
   "id": "organizational-wings",
   "metadata": {},
   "source": [
    "### Comparison of number of comments"
   ]
  },
  {
   "attachments": {},
   "cell_type": "markdown",
   "id": "05c519e3",
   "metadata": {},
   "source": [
    "Exploration of the dataset shows that `Ask HN` posts receive about a third more comments than `Show HN` posts:\n",
    "\n",
    "| Post Type | Total Comments | Avg. Comments per Article |\n",
    "| ----------- | :-----------: | :----: |\n",
    "| `Ask HN`  | 24483 | ~ 14 |\n",
    "| `Show HN` | 11988 | ~ 10.5 |\n",
    "\n",
    "Since `Ask HN` posts receive on average more comments the rest of the analysis will focus on that post type."
   ]
  },
  {
   "cell_type": "markdown",
   "id": "tribal-conversation",
   "metadata": {},
   "source": [
    "## 'Ask HN' posts & comments breakdown by hour"
   ]
  },
  {
   "cell_type": "code",
   "execution_count": 20,
   "id": "major-juice",
   "metadata": {},
   "outputs": [
    {
     "name": "stdout",
     "output_type": "stream",
     "text": [
      "['id', 'title', 'url', 'num_points', 'num_comments', 'author', 'created_at']\n"
     ]
    }
   ],
   "source": [
    "print(headers)"
   ]
  },
  {
   "cell_type": "code",
   "execution_count": 21,
   "id": "transparent-category",
   "metadata": {},
   "outputs": [
    {
     "name": "stdout",
     "output_type": "stream",
     "text": [
      "[['8/16/2016 9:55', 6], ['11/22/2015 13:43', 29], ['5/2/2016 10:14', 1], ['8/2/2016 14:20', 3], ['10/15/2015 16:38', 17]]\n"
     ]
    }
   ],
   "source": [
    "result_list = []\n",
    "\n",
    "#list of 'Ask HN' post creation time and # of comments on that post\n",
    "for post in ask_posts:\n",
    "    result_list.append([post[6], int(post[4])])\n",
    "\n",
    "print(result_list[:5])"
   ]
  },
  {
   "cell_type": "code",
   "execution_count": 22,
   "id": "partial-segment",
   "metadata": {},
   "outputs": [
    {
     "name": "stdout",
     "output_type": "stream",
     "text": [
      "[('00', 55), ('01', 60), ('02', 58), ('03', 54), ('04', 47), ('05', 46), ('06', 44), ('07', 34), ('08', 48), ('09', 45), ('10', 59), ('11', 58), ('12', 73), ('13', 85), ('14', 107), ('15', 116), ('16', 108), ('17', 100), ('18', 109), ('19', 110), ('20', 80), ('21', 109), ('22', 71), ('23', 68)] \n",
      "\n",
      "[('00', 447), ('01', 683), ('02', 1381), ('03', 421), ('04', 337), ('05', 464), ('06', 397), ('07', 267), ('08', 492), ('09', 251), ('10', 793), ('11', 641), ('12', 687), ('13', 1253), ('14', 1416), ('15', 4477), ('16', 1814), ('17', 1146), ('18', 1439), ('19', 1188), ('20', 1722), ('21', 1745), ('22', 479), ('23', 543)] \n",
      "\n"
     ]
    }
   ],
   "source": [
    "counts_by_hour = {} #amount of Ask HN posts for each hour of the day\n",
    "comments_by_hour = {} # amount of comments on all Ask HN posts for the hour\n",
    "\n",
    "for result in result_list:\n",
    "    \n",
    "    date = result[0]\n",
    "    date = dt.datetime.strptime(date, \"%m/%d/%Y %H:%M\")\n",
    "    hour = dt.datetime.strftime(date, \"%H\")\n",
    "    comment = result[1]\n",
    "    \n",
    "    if hour not in counts_by_hour:\n",
    "        counts_by_hour[hour] = 1\n",
    "        comments_by_hour[hour] = int(comment)\n",
    "    else:\n",
    "        counts_by_hour[hour] += 1\n",
    "        comments_by_hour[hour] += int(comment)\n",
    "    \n",
    "print(sorted(counts_by_hour.items()), \"\\n\")\n",
    "print(sorted(comments_by_hour.items()), \"\\n\")"
   ]
  },
  {
   "cell_type": "code",
   "execution_count": 23,
   "id": "seven-field",
   "metadata": {},
   "outputs": [
    {
     "name": "stdout",
     "output_type": "stream",
     "text": [
      "[['00', 8.13],\n",
      " ['01', 11.38],\n",
      " ['02', 23.81],\n",
      " ['03', 7.8],\n",
      " ['04', 7.17],\n",
      " ['05', 10.09],\n",
      " ['06', 9.02],\n",
      " ['07', 7.85],\n",
      " ['08', 10.25],\n",
      " ['09', 5.58],\n",
      " ['10', 13.44],\n",
      " ['11', 11.05],\n",
      " ['12', 9.41],\n",
      " ['13', 14.74],\n",
      " ['14', 13.23],\n",
      " ['15', 38.59],\n",
      " ['16', 16.8],\n",
      " ['17', 11.46],\n",
      " ['18', 13.2],\n",
      " ['19', 10.8],\n",
      " ['20', 21.52],\n",
      " ['21', 16.01],\n",
      " ['22', 6.75],\n",
      " ['23', 7.99]]\n"
     ]
    }
   ],
   "source": [
    "#average # of comments for post created during each hour of the day\n",
    "avg_by_hour = []\n",
    "\n",
    "for element in comments_by_hour:\n",
    "    \n",
    "    avg_by_hour.append([element, round(comments_by_hour[element] / counts_by_hour[element], 2)])\n",
    "    \n",
    "pp(sorted(avg_by_hour))\n"
   ]
  },
  {
   "cell_type": "code",
   "execution_count": 24,
   "id": "cultural-religious",
   "metadata": {},
   "outputs": [
    {
     "name": "stdout",
     "output_type": "stream",
     "text": [
      "Top 5 Hours for Ask Posts Comments\n",
      "15:00: 38.59 average comments per post\n",
      "02:00: 23.81 average comments per post\n",
      "20:00: 21.52 average comments per post\n",
      "16:00: 16.8 average comments per post\n",
      "21:00: 16.01 average comments per post\n"
     ]
    }
   ],
   "source": [
    "#Swap columns in order to sort according to highest average number of comments\n",
    "swap_avg_by_hour = []\n",
    "\n",
    "for row in avg_by_hour:\n",
    "    temp = dt.datetime.strptime(row[0], \"%H\")\n",
    "    time_format = dt.datetime.strftime(temp, \"%H:%M\")\n",
    "    swap_avg_by_hour.append([time_format, row[1]])\n",
    "    \n",
    "sorted_swap = sorted(swap_avg_by_hour, key=lambda x: x[1],  reverse=True)\n",
    "\n",
    "print('Top 5 Hours for Ask Posts Comments')\n",
    "for row in sorted_swap[:5]:\n",
    "    print(str.format('{hour}: {comments} average comments per post', hour=row[0], comments=row[1]))\n",
    "    "
   ]
  },
  {
   "cell_type": "markdown",
   "id": "thick-accuracy",
   "metadata": {},
   "source": [
    "## Conclusion"
   ]
  },
  {
   "attachments": {},
   "cell_type": "markdown",
   "id": "e844cde5",
   "metadata": {},
   "source": [
    "The analysis reveal that the `Ask HN` type of posts are the most popular on 'Hacker News'. Further exploration of the number of comments on post for a particular hour of the day shows `15:00` to be the most active. In other words: a post has a greater chance of being commented on if it is visible on the front page of 'Hacker News' at around 15:00 (the time zone used in the dataset is **Eastern Standard Time in the US (EST, UTC - 5)**)."
   ]
  }
 ],
 "metadata": {
  "kernelspec": {
   "display_name": "Python 3",
   "language": "python",
   "name": "python3"
  },
  "language_info": {
   "codemirror_mode": {
    "name": "ipython",
    "version": 3
   },
   "file_extension": ".py",
   "mimetype": "text/x-python",
   "name": "python",
   "nbconvert_exporter": "python",
   "pygments_lexer": "ipython3",
   "version": "3.8.13"
  },
  "toc-showcode": true,
  "widgets": {
   "application/vnd.jupyter.widget-state+json": {
    "state": {},
    "version_major": 2,
    "version_minor": 0
   }
  }
 },
 "nbformat": 4,
 "nbformat_minor": 5
}
