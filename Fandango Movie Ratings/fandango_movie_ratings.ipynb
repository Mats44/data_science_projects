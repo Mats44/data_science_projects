{
 "cells": [
  {
   "cell_type": "markdown",
   "metadata": {},
   "source": [
    "# Are Fandango Movie Ratings Inflated?"
   ]
  },
  {
   "cell_type": "markdown",
   "metadata": {},
   "source": [
    "In October 2015, data journalist Walt Hickey discovered than the movie ratings on the [Fandango]() website were inflated by biased rounding. Instead of being rounded to the nearest half-star the ratings were rounded up. In some cases the ratings were even rounded up one whole star. Fandango later released a statement saying the rounding was an unintentional bug in the system that has now been fixed.\n",
    "\n",
    "In this project we will investigate whether Fandango's ratings are still biased. We will use Hickey's original dataset and a new dataset collected by Dataquest for movies released in 2016 and 2017."
   ]
  },
  {
   "cell_type": "markdown",
   "metadata": {},
   "source": [
    "## Import Data & Install Dependencies"
   ]
  },
  {
   "cell_type": "code",
   "execution_count": 290,
   "metadata": {},
   "outputs": [],
   "source": [
    "#Setup and reading in datasets\n",
    "import pandas as pd\n",
    "import numpy as np\n",
    "import matplotlib.pyplot as plt\n",
    "import seaborn as sns\n",
    "from tabulate import tabulate\n",
    "from IPython.display import display\n",
    "\n",
    "pd.options.display.max_columns = 100  # Avoid having displayed truncated output\n",
    "#pd.options.display.max_columns = 100  # Avoid having displayed truncated output\n",
    "\n",
    "before = pd.read_csv('fandango_score_comparison.csv')\n",
    "after = pd.read_csv('movie_ratings_16_17.csv')"
   ]
  },
  {
   "cell_type": "markdown",
   "metadata": {},
   "source": [
    "# I. Explore the Data"
   ]
  },
  {
   "cell_type": "code",
   "execution_count": 291,
   "metadata": {},
   "outputs": [
    {
     "data": {
      "text/html": [
       "<div>\n",
       "<style scoped>\n",
       "    .dataframe tbody tr th:only-of-type {\n",
       "        vertical-align: middle;\n",
       "    }\n",
       "\n",
       "    .dataframe tbody tr th {\n",
       "        vertical-align: top;\n",
       "    }\n",
       "\n",
       "    .dataframe thead th {\n",
       "        text-align: right;\n",
       "    }\n",
       "</style>\n",
       "<table border=\"1\" class=\"dataframe\">\n",
       "  <thead>\n",
       "    <tr style=\"text-align: right;\">\n",
       "      <th></th>\n",
       "      <th>FILM</th>\n",
       "      <th>RottenTomatoes</th>\n",
       "      <th>RottenTomatoes_User</th>\n",
       "      <th>Metacritic</th>\n",
       "      <th>Metacritic_User</th>\n",
       "      <th>IMDB</th>\n",
       "      <th>Fandango_Stars</th>\n",
       "      <th>Fandango_Ratingvalue</th>\n",
       "      <th>RT_norm</th>\n",
       "      <th>RT_user_norm</th>\n",
       "      <th>Metacritic_norm</th>\n",
       "      <th>Metacritic_user_nom</th>\n",
       "      <th>IMDB_norm</th>\n",
       "      <th>RT_norm_round</th>\n",
       "      <th>RT_user_norm_round</th>\n",
       "      <th>Metacritic_norm_round</th>\n",
       "      <th>Metacritic_user_norm_round</th>\n",
       "      <th>IMDB_norm_round</th>\n",
       "      <th>Metacritic_user_vote_count</th>\n",
       "      <th>IMDB_user_vote_count</th>\n",
       "      <th>Fandango_votes</th>\n",
       "      <th>Fandango_Difference</th>\n",
       "    </tr>\n",
       "  </thead>\n",
       "  <tbody>\n",
       "    <tr>\n",
       "      <th>75</th>\n",
       "      <td>San Andreas (2015)</td>\n",
       "      <td>50</td>\n",
       "      <td>58</td>\n",
       "      <td>43</td>\n",
       "      <td>5.5</td>\n",
       "      <td>6.5</td>\n",
       "      <td>4.5</td>\n",
       "      <td>4.3</td>\n",
       "      <td>2.50</td>\n",
       "      <td>2.90</td>\n",
       "      <td>2.15</td>\n",
       "      <td>2.75</td>\n",
       "      <td>3.25</td>\n",
       "      <td>2.5</td>\n",
       "      <td>3.0</td>\n",
       "      <td>2.0</td>\n",
       "      <td>3.0</td>\n",
       "      <td>3.5</td>\n",
       "      <td>199</td>\n",
       "      <td>45723</td>\n",
       "      <td>9749</td>\n",
       "      <td>0.2</td>\n",
       "    </tr>\n",
       "    <tr>\n",
       "      <th>119</th>\n",
       "      <td>Phoenix (2015)</td>\n",
       "      <td>99</td>\n",
       "      <td>81</td>\n",
       "      <td>91</td>\n",
       "      <td>8.0</td>\n",
       "      <td>7.2</td>\n",
       "      <td>3.5</td>\n",
       "      <td>3.4</td>\n",
       "      <td>4.95</td>\n",
       "      <td>4.05</td>\n",
       "      <td>4.55</td>\n",
       "      <td>4.00</td>\n",
       "      <td>3.60</td>\n",
       "      <td>5.0</td>\n",
       "      <td>4.0</td>\n",
       "      <td>4.5</td>\n",
       "      <td>4.0</td>\n",
       "      <td>3.5</td>\n",
       "      <td>21</td>\n",
       "      <td>3687</td>\n",
       "      <td>70</td>\n",
       "      <td>0.1</td>\n",
       "    </tr>\n",
       "    <tr>\n",
       "      <th>92</th>\n",
       "      <td>Dope (2015)</td>\n",
       "      <td>87</td>\n",
       "      <td>86</td>\n",
       "      <td>72</td>\n",
       "      <td>7.2</td>\n",
       "      <td>7.5</td>\n",
       "      <td>4.5</td>\n",
       "      <td>4.3</td>\n",
       "      <td>4.35</td>\n",
       "      <td>4.30</td>\n",
       "      <td>3.60</td>\n",
       "      <td>3.60</td>\n",
       "      <td>3.75</td>\n",
       "      <td>4.5</td>\n",
       "      <td>4.5</td>\n",
       "      <td>3.5</td>\n",
       "      <td>3.5</td>\n",
       "      <td>4.0</td>\n",
       "      <td>43</td>\n",
       "      <td>4911</td>\n",
       "      <td>2195</td>\n",
       "      <td>0.2</td>\n",
       "    </tr>\n",
       "    <tr>\n",
       "      <th>38</th>\n",
       "      <td>Saint Laurent (2015)</td>\n",
       "      <td>51</td>\n",
       "      <td>45</td>\n",
       "      <td>52</td>\n",
       "      <td>6.8</td>\n",
       "      <td>6.3</td>\n",
       "      <td>3.5</td>\n",
       "      <td>3.1</td>\n",
       "      <td>2.55</td>\n",
       "      <td>2.25</td>\n",
       "      <td>2.60</td>\n",
       "      <td>3.40</td>\n",
       "      <td>3.15</td>\n",
       "      <td>2.5</td>\n",
       "      <td>2.5</td>\n",
       "      <td>2.5</td>\n",
       "      <td>3.5</td>\n",
       "      <td>3.0</td>\n",
       "      <td>8</td>\n",
       "      <td>2196</td>\n",
       "      <td>43</td>\n",
       "      <td>0.4</td>\n",
       "    </tr>\n",
       "    <tr>\n",
       "      <th>93</th>\n",
       "      <td>What We Do in the Shadows (2015)</td>\n",
       "      <td>96</td>\n",
       "      <td>86</td>\n",
       "      <td>75</td>\n",
       "      <td>8.3</td>\n",
       "      <td>7.6</td>\n",
       "      <td>4.5</td>\n",
       "      <td>4.3</td>\n",
       "      <td>4.80</td>\n",
       "      <td>4.30</td>\n",
       "      <td>3.75</td>\n",
       "      <td>4.15</td>\n",
       "      <td>3.80</td>\n",
       "      <td>5.0</td>\n",
       "      <td>4.5</td>\n",
       "      <td>4.0</td>\n",
       "      <td>4.0</td>\n",
       "      <td>4.0</td>\n",
       "      <td>69</td>\n",
       "      <td>39561</td>\n",
       "      <td>259</td>\n",
       "      <td>0.2</td>\n",
       "    </tr>\n",
       "  </tbody>\n",
       "</table>\n",
       "</div>"
      ],
      "text/plain": [
       "                                 FILM  RottenTomatoes  RottenTomatoes_User  \\\n",
       "75                 San Andreas (2015)              50                   58   \n",
       "119                    Phoenix (2015)              99                   81   \n",
       "92                        Dope (2015)              87                   86   \n",
       "38               Saint Laurent (2015)              51                   45   \n",
       "93   What We Do in the Shadows (2015)              96                   86   \n",
       "\n",
       "     Metacritic  Metacritic_User  IMDB  Fandango_Stars  Fandango_Ratingvalue  \\\n",
       "75           43              5.5   6.5             4.5                   4.3   \n",
       "119          91              8.0   7.2             3.5                   3.4   \n",
       "92           72              7.2   7.5             4.5                   4.3   \n",
       "38           52              6.8   6.3             3.5                   3.1   \n",
       "93           75              8.3   7.6             4.5                   4.3   \n",
       "\n",
       "     RT_norm  RT_user_norm  Metacritic_norm  Metacritic_user_nom  IMDB_norm  \\\n",
       "75      2.50          2.90             2.15                 2.75       3.25   \n",
       "119     4.95          4.05             4.55                 4.00       3.60   \n",
       "92      4.35          4.30             3.60                 3.60       3.75   \n",
       "38      2.55          2.25             2.60                 3.40       3.15   \n",
       "93      4.80          4.30             3.75                 4.15       3.80   \n",
       "\n",
       "     RT_norm_round  RT_user_norm_round  Metacritic_norm_round  \\\n",
       "75             2.5                 3.0                    2.0   \n",
       "119            5.0                 4.0                    4.5   \n",
       "92             4.5                 4.5                    3.5   \n",
       "38             2.5                 2.5                    2.5   \n",
       "93             5.0                 4.5                    4.0   \n",
       "\n",
       "     Metacritic_user_norm_round  IMDB_norm_round  Metacritic_user_vote_count  \\\n",
       "75                          3.0              3.5                         199   \n",
       "119                         4.0              3.5                          21   \n",
       "92                          3.5              4.0                          43   \n",
       "38                          3.5              3.0                           8   \n",
       "93                          4.0              4.0                          69   \n",
       "\n",
       "     IMDB_user_vote_count  Fandango_votes  Fandango_Difference  \n",
       "75                  45723            9749                  0.2  \n",
       "119                  3687              70                  0.1  \n",
       "92                   4911            2195                  0.2  \n",
       "38                   2196              43                  0.4  \n",
       "93                  39561             259                  0.2  "
      ]
     },
     "metadata": {},
     "output_type": "display_data"
    },
    {
     "data": {
      "text/html": [
       "<div>\n",
       "<style scoped>\n",
       "    .dataframe tbody tr th:only-of-type {\n",
       "        vertical-align: middle;\n",
       "    }\n",
       "\n",
       "    .dataframe tbody tr th {\n",
       "        vertical-align: top;\n",
       "    }\n",
       "\n",
       "    .dataframe thead th {\n",
       "        text-align: right;\n",
       "    }\n",
       "</style>\n",
       "<table border=\"1\" class=\"dataframe\">\n",
       "  <thead>\n",
       "    <tr style=\"text-align: right;\">\n",
       "      <th></th>\n",
       "      <th>movie</th>\n",
       "      <th>year</th>\n",
       "      <th>metascore</th>\n",
       "      <th>imdb</th>\n",
       "      <th>tmeter</th>\n",
       "      <th>audience</th>\n",
       "      <th>fandango</th>\n",
       "      <th>n_metascore</th>\n",
       "      <th>n_imdb</th>\n",
       "      <th>n_tmeter</th>\n",
       "      <th>n_audience</th>\n",
       "      <th>nr_metascore</th>\n",
       "      <th>nr_imdb</th>\n",
       "      <th>nr_tmeter</th>\n",
       "      <th>nr_audience</th>\n",
       "    </tr>\n",
       "  </thead>\n",
       "  <tbody>\n",
       "    <tr>\n",
       "      <th>86</th>\n",
       "      <td>Julieta</td>\n",
       "      <td>2016</td>\n",
       "      <td>73</td>\n",
       "      <td>7.1</td>\n",
       "      <td>84</td>\n",
       "      <td>74</td>\n",
       "      <td>3.5</td>\n",
       "      <td>3.65</td>\n",
       "      <td>3.55</td>\n",
       "      <td>4.20</td>\n",
       "      <td>3.70</td>\n",
       "      <td>3.5</td>\n",
       "      <td>3.5</td>\n",
       "      <td>4.0</td>\n",
       "      <td>3.5</td>\n",
       "    </tr>\n",
       "    <tr>\n",
       "      <th>89</th>\n",
       "      <td>Kickboxer</td>\n",
       "      <td>2016</td>\n",
       "      <td>37</td>\n",
       "      <td>4.9</td>\n",
       "      <td>43</td>\n",
       "      <td>34</td>\n",
       "      <td>4.0</td>\n",
       "      <td>1.85</td>\n",
       "      <td>2.45</td>\n",
       "      <td>2.15</td>\n",
       "      <td>1.70</td>\n",
       "      <td>2.0</td>\n",
       "      <td>2.5</td>\n",
       "      <td>2.0</td>\n",
       "      <td>1.5</td>\n",
       "    </tr>\n",
       "    <tr>\n",
       "      <th>175</th>\n",
       "      <td>The Forest</td>\n",
       "      <td>2016</td>\n",
       "      <td>34</td>\n",
       "      <td>4.8</td>\n",
       "      <td>10</td>\n",
       "      <td>22</td>\n",
       "      <td>3.0</td>\n",
       "      <td>1.70</td>\n",
       "      <td>2.40</td>\n",
       "      <td>0.50</td>\n",
       "      <td>1.10</td>\n",
       "      <td>1.5</td>\n",
       "      <td>2.5</td>\n",
       "      <td>0.5</td>\n",
       "      <td>1.0</td>\n",
       "    </tr>\n",
       "    <tr>\n",
       "      <th>187</th>\n",
       "      <td>The Magnificent Seven</td>\n",
       "      <td>2016</td>\n",
       "      <td>54</td>\n",
       "      <td>7.0</td>\n",
       "      <td>63</td>\n",
       "      <td>73</td>\n",
       "      <td>4.5</td>\n",
       "      <td>2.70</td>\n",
       "      <td>3.50</td>\n",
       "      <td>3.15</td>\n",
       "      <td>3.65</td>\n",
       "      <td>2.5</td>\n",
       "      <td>3.5</td>\n",
       "      <td>3.0</td>\n",
       "      <td>3.5</td>\n",
       "    </tr>\n",
       "    <tr>\n",
       "      <th>162</th>\n",
       "      <td>The BFG</td>\n",
       "      <td>2016</td>\n",
       "      <td>66</td>\n",
       "      <td>6.4</td>\n",
       "      <td>75</td>\n",
       "      <td>58</td>\n",
       "      <td>4.0</td>\n",
       "      <td>3.30</td>\n",
       "      <td>3.20</td>\n",
       "      <td>3.75</td>\n",
       "      <td>2.90</td>\n",
       "      <td>3.5</td>\n",
       "      <td>3.0</td>\n",
       "      <td>4.0</td>\n",
       "      <td>3.0</td>\n",
       "    </tr>\n",
       "  </tbody>\n",
       "</table>\n",
       "</div>"
      ],
      "text/plain": [
       "                     movie  year  metascore  imdb  tmeter  audience  fandango  \\\n",
       "86                 Julieta  2016         73   7.1      84        74       3.5   \n",
       "89               Kickboxer  2016         37   4.9      43        34       4.0   \n",
       "175             The Forest  2016         34   4.8      10        22       3.0   \n",
       "187  The Magnificent Seven  2016         54   7.0      63        73       4.5   \n",
       "162                The BFG  2016         66   6.4      75        58       4.0   \n",
       "\n",
       "     n_metascore  n_imdb  n_tmeter  n_audience  nr_metascore  nr_imdb  \\\n",
       "86          3.65    3.55      4.20        3.70           3.5      3.5   \n",
       "89          1.85    2.45      2.15        1.70           2.0      2.5   \n",
       "175         1.70    2.40      0.50        1.10           1.5      2.5   \n",
       "187         2.70    3.50      3.15        3.65           2.5      3.5   \n",
       "162         3.30    3.20      3.75        2.90           3.5      3.0   \n",
       "\n",
       "     nr_tmeter  nr_audience  \n",
       "86         4.0          3.5  \n",
       "89         2.0          1.5  \n",
       "175        0.5          1.0  \n",
       "187        3.0          3.5  \n",
       "162        4.0          3.0  "
      ]
     },
     "metadata": {},
     "output_type": "display_data"
    }
   ],
   "source": [
    "display(before.sample(5))\n",
    "display(after.sample(5))"
   ]
  },
  {
   "cell_type": "code",
   "execution_count": 292,
   "metadata": {},
   "outputs": [
    {
     "data": {
      "text/html": [
       "<div>\n",
       "<style scoped>\n",
       "    .dataframe tbody tr th:only-of-type {\n",
       "        vertical-align: middle;\n",
       "    }\n",
       "\n",
       "    .dataframe tbody tr th {\n",
       "        vertical-align: top;\n",
       "    }\n",
       "\n",
       "    .dataframe thead th {\n",
       "        text-align: right;\n",
       "    }\n",
       "</style>\n",
       "<table border=\"1\" class=\"dataframe\">\n",
       "  <thead>\n",
       "    <tr style=\"text-align: right;\">\n",
       "      <th></th>\n",
       "      <th>FILM</th>\n",
       "      <th>Fandango_Stars</th>\n",
       "      <th>Fandango_Ratingvalue</th>\n",
       "      <th>Fandango_votes</th>\n",
       "      <th>Fandango_Difference</th>\n",
       "    </tr>\n",
       "  </thead>\n",
       "  <tbody>\n",
       "    <tr>\n",
       "      <th>15</th>\n",
       "      <td>Taken 3 (2015)</td>\n",
       "      <td>4.5</td>\n",
       "      <td>4.1</td>\n",
       "      <td>6757</td>\n",
       "      <td>0.4</td>\n",
       "    </tr>\n",
       "    <tr>\n",
       "      <th>30</th>\n",
       "      <td>Red Army (2015)</td>\n",
       "      <td>4.5</td>\n",
       "      <td>4.1</td>\n",
       "      <td>54</td>\n",
       "      <td>0.4</td>\n",
       "    </tr>\n",
       "    <tr>\n",
       "      <th>55</th>\n",
       "      <td>Black or White (2015)</td>\n",
       "      <td>4.5</td>\n",
       "      <td>4.2</td>\n",
       "      <td>1862</td>\n",
       "      <td>0.3</td>\n",
       "    </tr>\n",
       "    <tr>\n",
       "      <th>33</th>\n",
       "      <td>The Boy Next Door (2015)</td>\n",
       "      <td>4.0</td>\n",
       "      <td>3.6</td>\n",
       "      <td>2800</td>\n",
       "      <td>0.4</td>\n",
       "    </tr>\n",
       "    <tr>\n",
       "      <th>107</th>\n",
       "      <td>The Vatican Tapes (2015)</td>\n",
       "      <td>3.0</td>\n",
       "      <td>2.9</td>\n",
       "      <td>210</td>\n",
       "      <td>0.1</td>\n",
       "    </tr>\n",
       "  </tbody>\n",
       "</table>\n",
       "</div>"
      ],
      "text/plain": [
       "                         FILM  Fandango_Stars  Fandango_Ratingvalue  \\\n",
       "15             Taken 3 (2015)             4.5                   4.1   \n",
       "30            Red Army (2015)             4.5                   4.1   \n",
       "55      Black or White (2015)             4.5                   4.2   \n",
       "33   The Boy Next Door (2015)             4.0                   3.6   \n",
       "107  The Vatican Tapes (2015)             3.0                   2.9   \n",
       "\n",
       "     Fandango_votes  Fandango_Difference  \n",
       "15             6757                  0.4  \n",
       "30               54                  0.4  \n",
       "55             1862                  0.3  \n",
       "33             2800                  0.4  \n",
       "107             210                  0.1  "
      ]
     },
     "metadata": {},
     "output_type": "display_data"
    },
    {
     "data": {
      "text/html": [
       "<div>\n",
       "<style scoped>\n",
       "    .dataframe tbody tr th:only-of-type {\n",
       "        vertical-align: middle;\n",
       "    }\n",
       "\n",
       "    .dataframe tbody tr th {\n",
       "        vertical-align: top;\n",
       "    }\n",
       "\n",
       "    .dataframe thead th {\n",
       "        text-align: right;\n",
       "    }\n",
       "</style>\n",
       "<table border=\"1\" class=\"dataframe\">\n",
       "  <thead>\n",
       "    <tr style=\"text-align: right;\">\n",
       "      <th></th>\n",
       "      <th>movie</th>\n",
       "      <th>year</th>\n",
       "      <th>fandango</th>\n",
       "    </tr>\n",
       "  </thead>\n",
       "  <tbody>\n",
       "    <tr>\n",
       "      <th>31</th>\n",
       "      <td>Captain America: Civil War</td>\n",
       "      <td>2016</td>\n",
       "      <td>4.5</td>\n",
       "    </tr>\n",
       "    <tr>\n",
       "      <th>98</th>\n",
       "      <td>Logan</td>\n",
       "      <td>2017</td>\n",
       "      <td>4.5</td>\n",
       "    </tr>\n",
       "    <tr>\n",
       "      <th>130</th>\n",
       "      <td>Patriots Day</td>\n",
       "      <td>2016</td>\n",
       "      <td>4.5</td>\n",
       "    </tr>\n",
       "    <tr>\n",
       "      <th>41</th>\n",
       "      <td>Deepwater Horizon</td>\n",
       "      <td>2016</td>\n",
       "      <td>4.5</td>\n",
       "    </tr>\n",
       "    <tr>\n",
       "      <th>60</th>\n",
       "      <td>Get a Job</td>\n",
       "      <td>2016</td>\n",
       "      <td>3.0</td>\n",
       "    </tr>\n",
       "  </tbody>\n",
       "</table>\n",
       "</div>"
      ],
      "text/plain": [
       "                          movie  year  fandango\n",
       "31   Captain America: Civil War  2016       4.5\n",
       "98                        Logan  2017       4.5\n",
       "130                Patriots Day  2016       4.5\n",
       "41            Deepwater Horizon  2016       4.5\n",
       "60                    Get a Job  2016       3.0"
      ]
     },
     "metadata": {},
     "output_type": "display_data"
    }
   ],
   "source": [
    "# selecting only the columns that are relevant to Fandango ratings\n",
    "\n",
    "fandango_before = before[['FILM', 'Fandango_Stars', 'Fandango_Ratingvalue', 'Fandango_votes', 'Fandango_Difference']].copy()\n",
    "fandango_after = after[['movie', 'year', 'fandango']].copy()\n",
    "\n",
    "display(fandango_before.sample(5))\n",
    "display(fandango_after.sample(5))"
   ]
  },
  {
   "cell_type": "markdown",
   "metadata": {},
   "source": [
    "The aim of the project is to check for any change in Fandango scores after the release of Hick's article. Which means our analysis population, ideally, would be all of the ratings on Fandango's website.\n",
    "\n",
    "To perform the analysis we need to take two samples from the population: one before the analysis (Hick's data) and one after (our DataQuest dataset). We need to make sure these two samples are representative of the population we want to analyze.\n",
    "\n",
    "The sampling conditions for Hick's data (according to the [README](https://github.com/fivethirtyeight/data/tree/master/fandango)):\n",
    "- At least 30 fan ratings on Fandango at the time of sampling (24.08.2015)\n",
    "- The movie must have had tickets for sale in 2015\n",
    "\n",
    "The sampling was not done randomly. It might not be representative. It doesn't capture any time trends extending over the years; 2015 might have been an outlier.\n",
    "\n",
    "The sampling conditions for the DataQuest data (according to the [README](https://github.com/mircealex/Movie_ratings_2016_17)):\n",
    "- Only movies from 2016 or later\n",
    "- Only the 214 most popular movies, determined by number of rating votes, were included.\n",
    "\n",
    "This dataset sampling has the same problem with temporal trends and is unlikely to be representative of our population."
   ]
  },
  {
   "cell_type": "markdown",
   "metadata": {},
   "source": [
    "# II. Refining Project Goal"
   ]
  },
  {
   "cell_type": "markdown",
   "metadata": {},
   "source": [
    "Based on the limitations discovered in the datasets samplings we will narrow down our initial goal.\n",
    "\n",
    "Instead of attempting to determine if there was a change in Fandango's entire rating system after Hick's article, we will try to determine if there was a change in the rating of popular movies in 2015 and ratings for popular movies in 2016.\n",
    "\n",
    "The new goal takes into account the limitations of our datasets, but is still fairly close to the original goal."
   ]
  },
  {
   "cell_type": "markdown",
   "metadata": {},
   "source": [
    "## Refining the Datasets"
   ]
  },
  {
   "cell_type": "markdown",
   "metadata": {},
   "source": [
    "Based on our new goal of comparing popular movies on Fandango in 2015 with popular movies on Fandango in 2016 we will need to filter our datasets.\n",
    "\n",
    "Hick's dataset used the criteria of 30 or more fan ratings to determine popularity. We will apply this same criteria to our DataQuest dataset. In other words, our definition of 'popular' will be movies with at least 30 fan ratings on Fandango."
   ]
  },
  {
   "cell_type": "markdown",
   "metadata": {},
   "source": [
    "### Filtering `fandango_before` Dataset"
   ]
  },
  {
   "cell_type": "code",
   "execution_count": 293,
   "metadata": {},
   "outputs": [
    {
     "data": {
      "text/html": [
       "<div>\n",
       "<style scoped>\n",
       "    .dataframe tbody tr th:only-of-type {\n",
       "        vertical-align: middle;\n",
       "    }\n",
       "\n",
       "    .dataframe tbody tr th {\n",
       "        vertical-align: top;\n",
       "    }\n",
       "\n",
       "    .dataframe thead th {\n",
       "        text-align: right;\n",
       "    }\n",
       "</style>\n",
       "<table border=\"1\" class=\"dataframe\">\n",
       "  <thead>\n",
       "    <tr style=\"text-align: right;\">\n",
       "      <th></th>\n",
       "      <th>FILM</th>\n",
       "      <th>Fandango_Stars</th>\n",
       "      <th>Fandango_Ratingvalue</th>\n",
       "      <th>Fandango_votes</th>\n",
       "      <th>Fandango_Difference</th>\n",
       "      <th>Year</th>\n",
       "    </tr>\n",
       "  </thead>\n",
       "  <tbody>\n",
       "    <tr>\n",
       "      <th>0</th>\n",
       "      <td>Avengers: Age of Ultron (2015)</td>\n",
       "      <td>5.0</td>\n",
       "      <td>4.5</td>\n",
       "      <td>14846</td>\n",
       "      <td>0.5</td>\n",
       "      <td>2015</td>\n",
       "    </tr>\n",
       "    <tr>\n",
       "      <th>1</th>\n",
       "      <td>Cinderella (2015)</td>\n",
       "      <td>5.0</td>\n",
       "      <td>4.5</td>\n",
       "      <td>12640</td>\n",
       "      <td>0.5</td>\n",
       "      <td>2015</td>\n",
       "    </tr>\n",
       "    <tr>\n",
       "      <th>2</th>\n",
       "      <td>Ant-Man (2015)</td>\n",
       "      <td>5.0</td>\n",
       "      <td>4.5</td>\n",
       "      <td>12055</td>\n",
       "      <td>0.5</td>\n",
       "      <td>2015</td>\n",
       "    </tr>\n",
       "  </tbody>\n",
       "</table>\n",
       "</div>"
      ],
      "text/plain": [
       "                             FILM  Fandango_Stars  Fandango_Ratingvalue  \\\n",
       "0  Avengers: Age of Ultron (2015)             5.0                   4.5   \n",
       "1               Cinderella (2015)             5.0                   4.5   \n",
       "2                  Ant-Man (2015)             5.0                   4.5   \n",
       "\n",
       "   Fandango_votes  Fandango_Difference  Year  \n",
       "0           14846                  0.5  2015  \n",
       "1           12640                  0.5  2015  \n",
       "2           12055                  0.5  2015  "
      ]
     },
     "execution_count": 293,
     "metadata": {},
     "output_type": "execute_result"
    }
   ],
   "source": [
    "fandango_before['Year'] = fandango_before['FILM'].str[-5:-1]\n",
    "fandango_before.head(3)"
   ]
  },
  {
   "cell_type": "code",
   "execution_count": 294,
   "metadata": {},
   "outputs": [
    {
     "data": {
      "text/plain": [
       "2015    129\n",
       "2014     17\n",
       "Name: Year, dtype: int64"
      ]
     },
     "execution_count": 294,
     "metadata": {},
     "output_type": "execute_result"
    }
   ],
   "source": [
    "fandango_before['Year'].value_counts()"
   ]
  },
  {
   "cell_type": "code",
   "execution_count": 295,
   "metadata": {},
   "outputs": [
    {
     "data": {
      "text/plain": [
       "2015    129\n",
       "Name: Year, dtype: int64"
      ]
     },
     "execution_count": 295,
     "metadata": {},
     "output_type": "execute_result"
    }
   ],
   "source": [
    "fandango_2015 = fandango_before[fandango_before['Year'] == '2015'].copy()\n",
    "fandango_2015['Year'].value_counts()"
   ]
  },
  {
   "cell_type": "markdown",
   "metadata": {},
   "source": [
    "### Filtering `fandango_after` Dataset"
   ]
  },
  {
   "cell_type": "code",
   "execution_count": 296,
   "metadata": {},
   "outputs": [
    {
     "data": {
      "text/html": [
       "<div>\n",
       "<style scoped>\n",
       "    .dataframe tbody tr th:only-of-type {\n",
       "        vertical-align: middle;\n",
       "    }\n",
       "\n",
       "    .dataframe tbody tr th {\n",
       "        vertical-align: top;\n",
       "    }\n",
       "\n",
       "    .dataframe thead th {\n",
       "        text-align: right;\n",
       "    }\n",
       "</style>\n",
       "<table border=\"1\" class=\"dataframe\">\n",
       "  <thead>\n",
       "    <tr style=\"text-align: right;\">\n",
       "      <th></th>\n",
       "      <th>movie</th>\n",
       "      <th>year</th>\n",
       "      <th>fandango</th>\n",
       "    </tr>\n",
       "  </thead>\n",
       "  <tbody>\n",
       "    <tr>\n",
       "      <th>183</th>\n",
       "      <td>The Last Word</td>\n",
       "      <td>2017</td>\n",
       "      <td>3.5</td>\n",
       "    </tr>\n",
       "    <tr>\n",
       "      <th>74</th>\n",
       "      <td>I.T.</td>\n",
       "      <td>2016</td>\n",
       "      <td>3.5</td>\n",
       "    </tr>\n",
       "    <tr>\n",
       "      <th>19</th>\n",
       "      <td>Beauty and the Beast</td>\n",
       "      <td>2017</td>\n",
       "      <td>4.5</td>\n",
       "    </tr>\n",
       "  </tbody>\n",
       "</table>\n",
       "</div>"
      ],
      "text/plain": [
       "                    movie  year  fandango\n",
       "183         The Last Word  2017       3.5\n",
       "74                   I.T.  2016       3.5\n",
       "19   Beauty and the Beast  2017       4.5"
      ]
     },
     "metadata": {},
     "output_type": "display_data"
    },
    {
     "data": {
      "text/plain": [
       "2016    191\n",
       "2017     23\n",
       "Name: year, dtype: int64"
      ]
     },
     "metadata": {},
     "output_type": "display_data"
    }
   ],
   "source": [
    "display(fandango_after.sample(3))\n",
    "display((fandango_after['year'].value_counts()))"
   ]
  },
  {
   "cell_type": "code",
   "execution_count": 297,
   "metadata": {},
   "outputs": [
    {
     "data": {
      "text/plain": [
       "2016    191\n",
       "Name: year, dtype: int64"
      ]
     },
     "execution_count": 297,
     "metadata": {},
     "output_type": "execute_result"
    }
   ],
   "source": [
    "fandango_2016 = fandango_after[fandango_after['year'] == 2016]\n",
    "fandango_2016['year'].value_counts()"
   ]
  },
  {
   "cell_type": "markdown",
   "metadata": {},
   "source": [
    "## Checking the Datasets"
   ]
  },
  {
   "cell_type": "markdown",
   "metadata": {},
   "source": [
    "Using Hick's benchmark of a minimum of 30 fan ratings let's check if the datasets contain only information that matches this."
   ]
  },
  {
   "cell_type": "code",
   "execution_count": 298,
   "metadata": {},
   "outputs": [
    {
     "data": {
      "text/plain": [
       "35"
      ]
     },
     "execution_count": 298,
     "metadata": {},
     "output_type": "execute_result"
    }
   ],
   "source": [
    "fandango_before['Fandango_votes'].min()"
   ]
  },
  {
   "cell_type": "markdown",
   "metadata": {},
   "source": [
    "The minimum nr. of fan ratings in Hick's data is 35. All films in the dataset can therefore be classified as popular."
   ]
  },
  {
   "cell_type": "markdown",
   "metadata": {},
   "source": [
    "Next, we check the dataset collected by DataQuest. However, this dataset does not contain information about the nr. of votes.\n",
    "\n",
    "Instead we will sample 10 films randomly from the dataset and check the films manually. At least 8 out 10 samples should match our criteria.\n",
    "\n",
    "We can't check against Fandango anymore since they replaced their rating system with the Rotten Tomatoes one in 2019. We will instead check the films against the Rotten Tomatoes ratings.\n",
    "\n"
   ]
  },
  {
   "cell_type": "code",
   "execution_count": 299,
   "metadata": {},
   "outputs": [
    {
     "name": "stdout",
     "output_type": "stream",
     "text": [
      "|     | movie                           |   year |   fandango |\n",
      "|----:|:--------------------------------|-------:|-----------:|\n",
      "|  36 | Collide                         |   2016 |        3.5 |\n",
      "|  75 | Ice Age: Collision Course       |   2016 |        4   |\n",
      "| 125 | Now You See Me 2                |   2016 |        4   |\n",
      "| 171 | The Disappointments Room        |   2016 |        2.5 |\n",
      "|  92 | Kubo and the Two Strings        |   2016 |        4.5 |\n",
      "| 134 | Pride and Prejudice and Zombies |   2016 |        4   |\n",
      "|  40 | Deadpool                        |   2016 |        4.5 |\n",
      "| 115 | Money Monster                   |   2016 |        4   |\n",
      "| 204 | War Dogs                        |   2016 |        4   |\n",
      "| 111 | Miracles from Heaven            |   2016 |        4.5 |\n"
     ]
    }
   ],
   "source": [
    "print(fandango_2016.sample(10, random_state=1).to_markdown())"
   ]
  },
  {
   "cell_type": "markdown",
   "metadata": {},
   "source": [
    "After consulting Rotten Tomatoes for all of the movies above we end up with the following table:\n",
    "\n",
    "|     | movie                           |   year |   fandango | rotten tomatoes fan reviews |\n",
    "|----:|:--------------------------------|-------:|-----------:|----------------------------:|\n",
    "|  36 | Collide                         |   2016 |        3.5 |                2500+    |   \n",
    "|  75 | Ice Age: Collision Course       |   2016 |        4   |               25000+    |\n",
    "| 125 | Now You See Me 2                |   2016 |        4   |               50000+    |\n",
    "| 171 | The Disappointments Room        |   2016 |        2.5 |                2500+    |\n",
    "|  92 | Kubo and the Two Strings        |   2016 |        4.5 |               25000+    |\n",
    "| 134 | Pride and Prejudice and Zombies |   2016 |        4   |               25000+    |\n",
    "|  40 | Deadpool                        |   2016 |        4.5 |              100000+    | \n",
    "| 115 | Money Monster                   |   2016 |        4   |               10000+    |\n",
    "| 204 | War Dogs                        |   2016 |        4   |               25000+    |\n",
    "| 111 | Miracles from Heaven            |   2016 |        4.5 |               10000+    |\n",
    "\n",
    "All the movies have received far more than 30 fan ratings. We will proceed with the assumption that this holds for the rest of the dataset."
   ]
  },
  {
   "cell_type": "markdown",
   "metadata": {},
   "source": [
    "# III. Analyzing the Data"
   ]
  },
  {
   "cell_type": "markdown",
   "metadata": {},
   "source": [
    "Now that we finally have our analysis goal and the datasets needed we can start our analysis.\n",
    "\n",
    "We will start by looking at the distribution of movie ratings for the two datasets."
   ]
  },
  {
   "cell_type": "markdown",
   "metadata": {},
   "source": [
    "## Kernel Density Plot"
   ]
  },
  {
   "cell_type": "code",
   "execution_count": 300,
   "metadata": {},
   "outputs": [
    {
     "data": {
      "image/png": "[encoded data removed]",
      "image/svg+xml": "<?xml version=\"1.0\" encoding=\"utf-8\" standalone=\"no\"?>\n<!DOCTYPE svg PUBLIC \"-//W3C//DTD SVG 1.1//EN\"\n  \"http://www.w3.org/Graphics/SVG/1.1/DTD/svg11.dtd\">\n<svg xmlns:xlink=\"http://www.w3.org/1999/xlink\" width=\"731.55pt\" height=\"500.146406pt\" viewBox=\"0 0 731.55 500.146406\" xmlns=\"http://www.w3.org/2000/svg\" version=\"1.1\">\n <metadata>\n  <rdf:RDF xmlns:dc=\"http://purl.org/dc/elements/1.1/\" xmlns:cc=\"http://creativecommons.org/ns#\" xmlns:rdf=\"http://www.w3.org/1999/02/22-rdf-syntax-ns#\">\n   <cc:Work>\n    <dc:type rdf:resource=\"http://purl.org/dc/dcmitype/StillImage\"/>\n    <dc:date>2022-02-06T11:59:06.450170</dc:date>\n    <dc:format>image/svg+xml</dc:format>\n    <dc:creator>\n     <cc:Agent>\n      <dc:title>Matplotlib v3.5.0, https://matplotlib.org/</dc:title>\n     </cc:Agent>\n    </dc:creator>\n   </cc:Work>\n  </rdf:RDF>\n </metadata>\n <defs>\n  <style type=\"text/css\">*{stroke-linejoin: round; stroke-linecap: butt}</style>\n </defs>\n <g id=\"figure_1\">\n  <g id=\"patch_1\">\n   <path d=\"M -0 500.146406 \nL 731.55 500.146406 \nL 731.55 0 \nL -0 0 \nz\n\" style=\"fill: #ffffff\"/>\n  </g>\n  <g id=\"axes_1\">\n   <g id=\"patch_2\">\n    <path d=\"M 47.105 458.271562 \nL 716.705 458.271562 \nL 716.705 23.391562 \nL 47.105 23.391562 \nz\n\" style=\"fill: #eaeaf2\"/>\n   </g>\n   <g id=\"matplotlib.axis_1\">\n    <g id=\"xtick_1\">\n     <g id=\"line2d_1\">\n      <path d=\"M 47.105 458.271562 \nL 47.105 23.391562 \n\" clip-path=\"url(#pdc2d446a2c)\" style=\"fill: none; stroke: #ffffff; stroke-linecap: round\"/>\n     </g>\n     <g id=\"text_1\">\n      <!-- 0.0 -->\n      <g style=\"fill: #262626\" transform=\"translate(39.46 475.645156)scale(0.11 -0.11)\">\n       <defs>\n        <path id=\"ArialMT-30\" d=\"M 266 2259 \nQ 266 3072 433 3567 \nQ 600 4063 929 4331 \nQ 1259 4600 1759 4600 \nQ 2128 4600 2406 4451 \nQ 2684 4303 2865 4023 \nQ 3047 3744 3150 3342 \nQ 3253 2941 3253 2259 \nQ 3253 1453 3087 958 \nQ 2922 463 2592 192 \nQ 2263 -78 1759 -78 \nQ 1097 -78 719 397 \nQ 266 969 266 2259 \nz\nM 844 2259 \nQ 844 1131 1108 757 \nQ 1372 384 1759 384 \nQ 2147 384 2411 759 \nQ 2675 1134 2675 2259 \nQ 2675 3391 2411 3762 \nQ 2147 4134 1753 4134 \nQ 1366 4134 1134 3806 \nQ 844 3388 844 2259 \nz\n\" transform=\"scale(0.015625)\"/>\n        <path id=\"ArialMT-2e\" d=\"M 581 0 \nL 581 641 \nL 1222 641 \nL 1222 0 \nL 581 0 \nz\n\" transform=\"scale(0.015625)\"/>\n       </defs>\n       <use xlink:href=\"#ArialMT-30\"/>\n       <use xlink:href=\"#ArialMT-2e\" x=\"55.615234\"/>\n       <use xlink:href=\"#ArialMT-30\" x=\"83.398438\"/>\n      </g>\n     </g>\n    </g>\n    <g id=\"xtick_2\">\n     <g id=\"line2d_2\">\n      <path d=\"M 114.065 458.271562 \nL 114.065 23.391562 \n\" clip-path=\"url(#pdc2d446a2c)\" style=\"fill: none; stroke: #ffffff; stroke-linecap: round\"/>\n     </g>\n     <g id=\"text_2\">\n      <!-- 0.5 -->\n      <g style=\"fill: #262626\" transform=\"translate(106.42 475.645156)scale(0.11 -0.11)\">\n       <defs>\n        <path id=\"ArialMT-35\" d=\"M 266 1200 \nL 856 1250 \nQ 922 819 1161 601 \nQ 1400 384 1738 384 \nQ 2144 384 2425 690 \nQ 2706 997 2706 1503 \nQ 2706 1984 2436 2262 \nQ 2166 2541 1728 2541 \nQ 1456 2541 1237 2417 \nQ 1019 2294 894 2097 \nL 366 2166 \nL 809 4519 \nL 3088 4519 \nL 3088 3981 \nL 1259 3981 \nL 1013 2750 \nQ 1425 3038 1878 3038 \nQ 2478 3038 2890 2622 \nQ 3303 2206 3303 1553 \nQ 3303 931 2941 478 \nQ 2500 -78 1738 -78 \nQ 1113 -78 717 272 \nQ 322 622 266 1200 \nz\n\" transform=\"scale(0.015625)\"/>\n       </defs>\n       <use xlink:href=\"#ArialMT-30\"/>\n       <use xlink:href=\"#ArialMT-2e\" x=\"55.615234\"/>\n       <use xlink:href=\"#ArialMT-35\" x=\"83.398438\"/>\n      </g>\n     </g>\n    </g>\n    <g id=\"xtick_3\">\n     <g id=\"line2d_3\">\n      <path d=\"M 181.025 458.271562 \nL 181.025 23.391562 \n\" clip-path=\"url(#pdc2d446a2c)\" style=\"fill: none; stroke: #ffffff; stroke-linecap: round\"/>\n     </g>\n     <g id=\"text_3\">\n      <!-- 1.0 -->\n      <g style=\"fill: #262626\" transform=\"translate(173.38 475.645156)scale(0.11 -0.11)\">\n       <defs>\n        <path id=\"ArialMT-31\" d=\"M 2384 0 \nL 1822 0 \nL 1822 3584 \nQ 1619 3391 1289 3197 \nQ 959 3003 697 2906 \nL 697 3450 \nQ 1169 3672 1522 3987 \nQ 1875 4303 2022 4600 \nL 2384 4600 \nL 2384 0 \nz\n\" transform=\"scale(0.015625)\"/>\n       </defs>\n       <use xlink:href=\"#ArialMT-31\"/>\n       <use xlink:href=\"#ArialMT-2e\" x=\"55.615234\"/>\n       <use xlink:href=\"#ArialMT-30\" x=\"83.398438\"/>\n      </g>\n     </g>\n    </g>\n    <g id=\"xtick_4\">\n     <g id=\"line2d_4\">\n      <path d=\"M 247.985 458.271562 \nL 247.985 23.391562 \n\" clip-path=\"url(#pdc2d446a2c)\" style=\"fill: none; stroke: #ffffff; stroke-linecap: round\"/>\n     </g>\n     <g id=\"text_4\">\n      <!-- 1.5 -->\n      <g style=\"fill: #262626\" transform=\"translate(240.34 475.645156)scale(0.11 -0.11)\">\n       <use xlink:href=\"#ArialMT-31\"/>\n       <use xlink:href=\"#ArialMT-2e\" x=\"55.615234\"/>\n       <use xlink:href=\"#ArialMT-35\" x=\"83.398438\"/>\n      </g>\n     </g>\n    </g>\n    <g id=\"xtick_5\">\n     <g id=\"line2d_5\">\n      <path d=\"M 314.945 458.271562 \nL 314.945 23.391562 \n\" clip-path=\"url(#pdc2d446a2c)\" style=\"fill: none; stroke: #ffffff; stroke-linecap: round\"/>\n     </g>\n     <g id=\"text_5\">\n      <!-- 2.0 -->\n      <g style=\"fill: #262626\" transform=\"translate(307.3 475.645156)scale(0.11 -0.11)\">\n       <defs>\n        <path id=\"ArialMT-32\" d=\"M 3222 541 \nL 3222 0 \nL 194 0 \nQ 188 203 259 391 \nQ 375 700 629 1000 \nQ 884 1300 1366 1694 \nQ 2113 2306 2375 2664 \nQ 2638 3022 2638 3341 \nQ 2638 3675 2398 3904 \nQ 2159 4134 1775 4134 \nQ 1369 4134 1125 3890 \nQ 881 3647 878 3216 \nL 300 3275 \nQ 359 3922 746 4261 \nQ 1134 4600 1788 4600 \nQ 2447 4600 2831 4234 \nQ 3216 3869 3216 3328 \nQ 3216 3053 3103 2787 \nQ 2991 2522 2730 2228 \nQ 2469 1934 1863 1422 \nQ 1356 997 1212 845 \nQ 1069 694 975 541 \nL 3222 541 \nz\n\" transform=\"scale(0.015625)\"/>\n       </defs>\n       <use xlink:href=\"#ArialMT-32\"/>\n       <use xlink:href=\"#ArialMT-2e\" x=\"55.615234\"/>\n       <use xlink:href=\"#ArialMT-30\" x=\"83.398438\"/>\n      </g>\n     </g>\n    </g>\n    <g id=\"xtick_6\">\n     <g id=\"line2d_6\">\n      <path d=\"M 381.905 458.271562 \nL 381.905 23.391562 \n\" clip-path=\"url(#pdc2d446a2c)\" style=\"fill: none; stroke: #ffffff; stroke-linecap: round\"/>\n     </g>\n     <g id=\"text_6\">\n      <!-- 2.5 -->\n      <g style=\"fill: #262626\" transform=\"translate(374.26 475.645156)scale(0.11 -0.11)\">\n       <use xlink:href=\"#ArialMT-32\"/>\n       <use xlink:href=\"#ArialMT-2e\" x=\"55.615234\"/>\n       <use xlink:href=\"#ArialMT-35\" x=\"83.398438\"/>\n      </g>\n     </g>\n    </g>\n    <g id=\"xtick_7\">\n     <g id=\"line2d_7\">\n      <path d=\"M 448.865 458.271562 \nL 448.865 23.391562 \n\" clip-path=\"url(#pdc2d446a2c)\" style=\"fill: none; stroke: #ffffff; stroke-linecap: round\"/>\n     </g>\n     <g id=\"text_7\">\n      <!-- 3.0 -->\n      <g style=\"fill: #262626\" transform=\"translate(441.22 475.645156)scale(0.11 -0.11)\">\n       <defs>\n        <path id=\"ArialMT-33\" d=\"M 269 1209 \nL 831 1284 \nQ 928 806 1161 595 \nQ 1394 384 1728 384 \nQ 2125 384 2398 659 \nQ 2672 934 2672 1341 \nQ 2672 1728 2419 1979 \nQ 2166 2231 1775 2231 \nQ 1616 2231 1378 2169 \nL 1441 2663 \nQ 1497 2656 1531 2656 \nQ 1891 2656 2178 2843 \nQ 2466 3031 2466 3422 \nQ 2466 3731 2256 3934 \nQ 2047 4138 1716 4138 \nQ 1388 4138 1169 3931 \nQ 950 3725 888 3313 \nL 325 3413 \nQ 428 3978 793 4289 \nQ 1159 4600 1703 4600 \nQ 2078 4600 2393 4439 \nQ 2709 4278 2876 4000 \nQ 3044 3722 3044 3409 \nQ 3044 3113 2884 2869 \nQ 2725 2625 2413 2481 \nQ 2819 2388 3044 2092 \nQ 3269 1797 3269 1353 \nQ 3269 753 2831 336 \nQ 2394 -81 1725 -81 \nQ 1122 -81 723 278 \nQ 325 638 269 1209 \nz\n\" transform=\"scale(0.015625)\"/>\n       </defs>\n       <use xlink:href=\"#ArialMT-33\"/>\n       <use xlink:href=\"#ArialMT-2e\" x=\"55.615234\"/>\n       <use xlink:href=\"#ArialMT-30\" x=\"83.398438\"/>\n      </g>\n     </g>\n    </g>\n    <g id=\"xtick_8\">\n     <g id=\"line2d_8\">\n      <path d=\"M 515.825 458.271562 \nL 515.825 23.391562 \n\" clip-path=\"url(#pdc2d446a2c)\" style=\"fill: none; stroke: #ffffff; stroke-linecap: round\"/>\n     </g>\n     <g id=\"text_8\">\n      <!-- 3.5 -->\n      <g style=\"fill: #262626\" transform=\"translate(508.18 475.645156)scale(0.11 -0.11)\">\n       <use xlink:href=\"#ArialMT-33\"/>\n       <use xlink:href=\"#ArialMT-2e\" x=\"55.615234\"/>\n       <use xlink:href=\"#ArialMT-35\" x=\"83.398438\"/>\n      </g>\n     </g>\n    </g>\n    <g id=\"xtick_9\">\n     <g id=\"line2d_9\">\n      <path d=\"M 582.785 458.271562 \nL 582.785 23.391562 \n\" clip-path=\"url(#pdc2d446a2c)\" style=\"fill: none; stroke: #ffffff; stroke-linecap: round\"/>\n     </g>\n     <g id=\"text_9\">\n      <!-- 4.0 -->\n      <g style=\"fill: #262626\" transform=\"translate(575.14 475.645156)scale(0.11 -0.11)\">\n       <defs>\n        <path id=\"ArialMT-34\" d=\"M 2069 0 \nL 2069 1097 \nL 81 1097 \nL 81 1613 \nL 2172 4581 \nL 2631 4581 \nL 2631 1613 \nL 3250 1613 \nL 3250 1097 \nL 2631 1097 \nL 2631 0 \nL 2069 0 \nz\nM 2069 1613 \nL 2069 3678 \nL 634 1613 \nL 2069 1613 \nz\n\" transform=\"scale(0.015625)\"/>\n       </defs>\n       <use xlink:href=\"#ArialMT-34\"/>\n       <use xlink:href=\"#ArialMT-2e\" x=\"55.615234\"/>\n       <use xlink:href=\"#ArialMT-30\" x=\"83.398438\"/>\n      </g>\n     </g>\n    </g>\n    <g id=\"xtick_10\">\n     <g id=\"line2d_10\">\n      <path d=\"M 649.745 458.271562 \nL 649.745 23.391562 \n\" clip-path=\"url(#pdc2d446a2c)\" style=\"fill: none; stroke: #ffffff; stroke-linecap: round\"/>\n     </g>\n     <g id=\"text_10\">\n      <!-- 4.5 -->\n      <g style=\"fill: #262626\" transform=\"translate(642.1 475.645156)scale(0.11 -0.11)\">\n       <use xlink:href=\"#ArialMT-34\"/>\n       <use xlink:href=\"#ArialMT-2e\" x=\"55.615234\"/>\n       <use xlink:href=\"#ArialMT-35\" x=\"83.398438\"/>\n      </g>\n     </g>\n    </g>\n    <g id=\"xtick_11\">\n     <g id=\"line2d_11\">\n      <path d=\"M 716.705 458.271562 \nL 716.705 23.391562 \n\" clip-path=\"url(#pdc2d446a2c)\" style=\"fill: none; stroke: #ffffff; stroke-linecap: round\"/>\n     </g>\n     <g id=\"text_11\">\n      <!-- 5.0 -->\n      <g style=\"fill: #262626\" transform=\"translate(709.06 475.645156)scale(0.11 -0.11)\">\n       <use xlink:href=\"#ArialMT-35\"/>\n       <use xlink:href=\"#ArialMT-2e\" x=\"55.615234\"/>\n       <use xlink:href=\"#ArialMT-30\" x=\"83.398438\"/>\n      </g>\n     </g>\n    </g>\n    <g id=\"text_12\">\n     <!-- Fandango User Ratings -->\n     <g style=\"fill: #262626\" transform=\"translate(318.540313 490.420781)scale(0.12 -0.12)\">\n      <defs>\n       <path id=\"ArialMT-46\" d=\"M 525 0 \nL 525 4581 \nL 3616 4581 \nL 3616 4041 \nL 1131 4041 \nL 1131 2622 \nL 3281 2622 \nL 3281 2081 \nL 1131 2081 \nL 1131 0 \nL 525 0 \nz\n\" transform=\"scale(0.015625)\"/>\n       <path id=\"ArialMT-61\" d=\"M 2588 409 \nQ 2275 144 1986 34 \nQ 1697 -75 1366 -75 \nQ 819 -75 525 192 \nQ 231 459 231 875 \nQ 231 1119 342 1320 \nQ 453 1522 633 1644 \nQ 813 1766 1038 1828 \nQ 1203 1872 1538 1913 \nQ 2219 1994 2541 2106 \nQ 2544 2222 2544 2253 \nQ 2544 2597 2384 2738 \nQ 2169 2928 1744 2928 \nQ 1347 2928 1158 2789 \nQ 969 2650 878 2297 \nL 328 2372 \nQ 403 2725 575 2942 \nQ 747 3159 1072 3276 \nQ 1397 3394 1825 3394 \nQ 2250 3394 2515 3294 \nQ 2781 3194 2906 3042 \nQ 3031 2891 3081 2659 \nQ 3109 2516 3109 2141 \nL 3109 1391 \nQ 3109 606 3145 398 \nQ 3181 191 3288 0 \nL 2700 0 \nQ 2613 175 2588 409 \nz\nM 2541 1666 \nQ 2234 1541 1622 1453 \nQ 1275 1403 1131 1340 \nQ 988 1278 909 1158 \nQ 831 1038 831 891 \nQ 831 666 1001 516 \nQ 1172 366 1500 366 \nQ 1825 366 2078 508 \nQ 2331 650 2450 897 \nQ 2541 1088 2541 1459 \nL 2541 1666 \nz\n\" transform=\"scale(0.015625)\"/>\n       <path id=\"ArialMT-6e\" d=\"M 422 0 \nL 422 3319 \nL 928 3319 \nL 928 2847 \nQ 1294 3394 1984 3394 \nQ 2284 3394 2536 3286 \nQ 2788 3178 2913 3003 \nQ 3038 2828 3088 2588 \nQ 3119 2431 3119 2041 \nL 3119 0 \nL 2556 0 \nL 2556 2019 \nQ 2556 2363 2490 2533 \nQ 2425 2703 2258 2804 \nQ 2091 2906 1866 2906 \nQ 1506 2906 1245 2678 \nQ 984 2450 984 1813 \nL 984 0 \nL 422 0 \nz\n\" transform=\"scale(0.015625)\"/>\n       <path id=\"ArialMT-64\" d=\"M 2575 0 \nL 2575 419 \nQ 2259 -75 1647 -75 \nQ 1250 -75 917 144 \nQ 584 363 401 755 \nQ 219 1147 219 1656 \nQ 219 2153 384 2558 \nQ 550 2963 881 3178 \nQ 1213 3394 1622 3394 \nQ 1922 3394 2156 3267 \nQ 2391 3141 2538 2938 \nL 2538 4581 \nL 3097 4581 \nL 3097 0 \nL 2575 0 \nz\nM 797 1656 \nQ 797 1019 1065 703 \nQ 1334 388 1700 388 \nQ 2069 388 2326 689 \nQ 2584 991 2584 1609 \nQ 2584 2291 2321 2609 \nQ 2059 2928 1675 2928 \nQ 1300 2928 1048 2622 \nQ 797 2316 797 1656 \nz\n\" transform=\"scale(0.015625)\"/>\n       <path id=\"ArialMT-67\" d=\"M 319 -275 \nL 866 -356 \nQ 900 -609 1056 -725 \nQ 1266 -881 1628 -881 \nQ 2019 -881 2231 -725 \nQ 2444 -569 2519 -288 \nQ 2563 -116 2559 434 \nQ 2191 0 1641 0 \nQ 956 0 581 494 \nQ 206 988 206 1678 \nQ 206 2153 378 2554 \nQ 550 2956 876 3175 \nQ 1203 3394 1644 3394 \nQ 2231 3394 2613 2919 \nL 2613 3319 \nL 3131 3319 \nL 3131 450 \nQ 3131 -325 2973 -648 \nQ 2816 -972 2473 -1159 \nQ 2131 -1347 1631 -1347 \nQ 1038 -1347 672 -1080 \nQ 306 -813 319 -275 \nz\nM 784 1719 \nQ 784 1066 1043 766 \nQ 1303 466 1694 466 \nQ 2081 466 2343 764 \nQ 2606 1063 2606 1700 \nQ 2606 2309 2336 2618 \nQ 2066 2928 1684 2928 \nQ 1309 2928 1046 2623 \nQ 784 2319 784 1719 \nz\n\" transform=\"scale(0.015625)\"/>\n       <path id=\"ArialMT-6f\" d=\"M 213 1659 \nQ 213 2581 725 3025 \nQ 1153 3394 1769 3394 \nQ 2453 3394 2887 2945 \nQ 3322 2497 3322 1706 \nQ 3322 1066 3130 698 \nQ 2938 331 2570 128 \nQ 2203 -75 1769 -75 \nQ 1072 -75 642 372 \nQ 213 819 213 1659 \nz\nM 791 1659 \nQ 791 1022 1069 705 \nQ 1347 388 1769 388 \nQ 2188 388 2466 706 \nQ 2744 1025 2744 1678 \nQ 2744 2294 2464 2611 \nQ 2184 2928 1769 2928 \nQ 1347 2928 1069 2612 \nQ 791 2297 791 1659 \nz\n\" transform=\"scale(0.015625)\"/>\n       <path id=\"ArialMT-20\" transform=\"scale(0.015625)\"/>\n       <path id=\"ArialMT-55\" d=\"M 3500 4581 \nL 4106 4581 \nL 4106 1934 \nQ 4106 1244 3950 837 \nQ 3794 431 3386 176 \nQ 2978 -78 2316 -78 \nQ 1672 -78 1262 144 \nQ 853 366 678 786 \nQ 503 1206 503 1934 \nL 503 4581 \nL 1109 4581 \nL 1109 1938 \nQ 1109 1341 1220 1058 \nQ 1331 775 1601 622 \nQ 1872 469 2263 469 \nQ 2931 469 3215 772 \nQ 3500 1075 3500 1938 \nL 3500 4581 \nz\n\" transform=\"scale(0.015625)\"/>\n       <path id=\"ArialMT-73\" d=\"M 197 991 \nL 753 1078 \nQ 800 744 1014 566 \nQ 1228 388 1613 388 \nQ 2000 388 2187 545 \nQ 2375 703 2375 916 \nQ 2375 1106 2209 1216 \nQ 2094 1291 1634 1406 \nQ 1016 1563 777 1677 \nQ 538 1791 414 1992 \nQ 291 2194 291 2438 \nQ 291 2659 392 2848 \nQ 494 3038 669 3163 \nQ 800 3259 1026 3326 \nQ 1253 3394 1513 3394 \nQ 1903 3394 2198 3281 \nQ 2494 3169 2634 2976 \nQ 2775 2784 2828 2463 \nL 2278 2388 \nQ 2241 2644 2061 2787 \nQ 1881 2931 1553 2931 \nQ 1166 2931 1000 2803 \nQ 834 2675 834 2503 \nQ 834 2394 903 2306 \nQ 972 2216 1119 2156 \nQ 1203 2125 1616 2013 \nQ 2213 1853 2448 1751 \nQ 2684 1650 2818 1456 \nQ 2953 1263 2953 975 \nQ 2953 694 2789 445 \nQ 2625 197 2315 61 \nQ 2006 -75 1616 -75 \nQ 969 -75 630 194 \nQ 291 463 197 991 \nz\n\" transform=\"scale(0.015625)\"/>\n       <path id=\"ArialMT-65\" d=\"M 2694 1069 \nL 3275 997 \nQ 3138 488 2766 206 \nQ 2394 -75 1816 -75 \nQ 1088 -75 661 373 \nQ 234 822 234 1631 \nQ 234 2469 665 2931 \nQ 1097 3394 1784 3394 \nQ 2450 3394 2872 2941 \nQ 3294 2488 3294 1666 \nQ 3294 1616 3291 1516 \nL 816 1516 \nQ 847 969 1125 678 \nQ 1403 388 1819 388 \nQ 2128 388 2347 550 \nQ 2566 713 2694 1069 \nz\nM 847 1978 \nL 2700 1978 \nQ 2663 2397 2488 2606 \nQ 2219 2931 1791 2931 \nQ 1403 2931 1139 2672 \nQ 875 2413 847 1978 \nz\n\" transform=\"scale(0.015625)\"/>\n       <path id=\"ArialMT-72\" d=\"M 416 0 \nL 416 3319 \nL 922 3319 \nL 922 2816 \nQ 1116 3169 1280 3281 \nQ 1444 3394 1641 3394 \nQ 1925 3394 2219 3213 \nL 2025 2691 \nQ 1819 2813 1613 2813 \nQ 1428 2813 1281 2702 \nQ 1134 2591 1072 2394 \nQ 978 2094 978 1738 \nL 978 0 \nL 416 0 \nz\n\" transform=\"scale(0.015625)\"/>\n       <path id=\"ArialMT-52\" d=\"M 503 0 \nL 503 4581 \nL 2534 4581 \nQ 3147 4581 3465 4457 \nQ 3784 4334 3975 4021 \nQ 4166 3709 4166 3331 \nQ 4166 2844 3850 2509 \nQ 3534 2175 2875 2084 \nQ 3116 1969 3241 1856 \nQ 3506 1613 3744 1247 \nL 4541 0 \nL 3778 0 \nL 3172 953 \nQ 2906 1366 2734 1584 \nQ 2563 1803 2427 1890 \nQ 2291 1978 2150 2013 \nQ 2047 2034 1813 2034 \nL 1109 2034 \nL 1109 0 \nL 503 0 \nz\nM 1109 2559 \nL 2413 2559 \nQ 2828 2559 3062 2645 \nQ 3297 2731 3419 2920 \nQ 3541 3109 3541 3331 \nQ 3541 3656 3305 3865 \nQ 3069 4075 2559 4075 \nL 1109 4075 \nL 1109 2559 \nz\n\" transform=\"scale(0.015625)\"/>\n       <path id=\"ArialMT-74\" d=\"M 1650 503 \nL 1731 6 \nQ 1494 -44 1306 -44 \nQ 1000 -44 831 53 \nQ 663 150 594 308 \nQ 525 466 525 972 \nL 525 2881 \nL 113 2881 \nL 113 3319 \nL 525 3319 \nL 525 4141 \nL 1084 4478 \nL 1084 3319 \nL 1650 3319 \nL 1650 2881 \nL 1084 2881 \nL 1084 941 \nQ 1084 700 1114 631 \nQ 1144 563 1211 522 \nQ 1278 481 1403 481 \nQ 1497 481 1650 503 \nz\n\" transform=\"scale(0.015625)\"/>\n       <path id=\"ArialMT-69\" d=\"M 425 3934 \nL 425 4581 \nL 988 4581 \nL 988 3934 \nL 425 3934 \nz\nM 425 0 \nL 425 3319 \nL 988 3319 \nL 988 0 \nL 425 0 \nz\n\" transform=\"scale(0.015625)\"/>\n      </defs>\n      <use xlink:href=\"#ArialMT-46\"/>\n      <use xlink:href=\"#ArialMT-61\" x=\"61.083984\"/>\n      <use xlink:href=\"#ArialMT-6e\" x=\"116.699219\"/>\n      <use xlink:href=\"#ArialMT-64\" x=\"172.314453\"/>\n      <use xlink:href=\"#ArialMT-61\" x=\"227.929688\"/>\n      <use xlink:href=\"#ArialMT-6e\" x=\"283.544922\"/>\n      <use xlink:href=\"#ArialMT-67\" x=\"339.160156\"/>\n      <use xlink:href=\"#ArialMT-6f\" x=\"394.775391\"/>\n      <use xlink:href=\"#ArialMT-20\" x=\"450.390625\"/>\n      <use xlink:href=\"#ArialMT-55\" x=\"478.173828\"/>\n      <use xlink:href=\"#ArialMT-73\" x=\"550.390625\"/>\n      <use xlink:href=\"#ArialMT-65\" x=\"600.390625\"/>\n      <use xlink:href=\"#ArialMT-72\" x=\"656.005859\"/>\n      <use xlink:href=\"#ArialMT-20\" x=\"689.306641\"/>\n      <use xlink:href=\"#ArialMT-52\" x=\"717.089844\"/>\n      <use xlink:href=\"#ArialMT-61\" x=\"789.306641\"/>\n      <use xlink:href=\"#ArialMT-74\" x=\"844.921875\"/>\n      <use xlink:href=\"#ArialMT-69\" x=\"872.705078\"/>\n      <use xlink:href=\"#ArialMT-6e\" x=\"894.921875\"/>\n      <use xlink:href=\"#ArialMT-67\" x=\"950.537109\"/>\n      <use xlink:href=\"#ArialMT-73\" x=\"1006.152344\"/>\n     </g>\n    </g>\n   </g>\n   <g id=\"matplotlib.axis_2\">\n    <g id=\"ytick_1\">\n     <g id=\"line2d_12\">\n      <path d=\"M 47.105 458.271562 \nL 716.705 458.271562 \n\" clip-path=\"url(#pdc2d446a2c)\" style=\"fill: none; stroke: #ffffff; stroke-linecap: round\"/>\n     </g>\n     <g id=\"text_13\">\n      <!-- 0.0 -->\n      <g style=\"fill: #262626\" transform=\"translate(22.315 462.208359)scale(0.11 -0.11)\">\n       <use xlink:href=\"#ArialMT-30\"/>\n       <use xlink:href=\"#ArialMT-2e\" x=\"55.615234\"/>\n       <use xlink:href=\"#ArialMT-30\" x=\"83.398438\"/>\n      </g>\n     </g>\n    </g>\n    <g id=\"ytick_2\">\n     <g id=\"line2d_13\">\n      <path d=\"M 47.105 368.520093 \nL 716.705 368.520093 \n\" clip-path=\"url(#pdc2d446a2c)\" style=\"fill: none; stroke: #ffffff; stroke-linecap: round\"/>\n     </g>\n     <g id=\"text_14\">\n      <!-- 0.2 -->\n      <g style=\"fill: #262626\" transform=\"translate(22.315 372.45689)scale(0.11 -0.11)\">\n       <use xlink:href=\"#ArialMT-30\"/>\n       <use xlink:href=\"#ArialMT-2e\" x=\"55.615234\"/>\n       <use xlink:href=\"#ArialMT-32\" x=\"83.398438\"/>\n      </g>\n     </g>\n    </g>\n    <g id=\"ytick_3\">\n     <g id=\"line2d_14\">\n      <path d=\"M 47.105 278.768624 \nL 716.705 278.768624 \n\" clip-path=\"url(#pdc2d446a2c)\" style=\"fill: none; stroke: #ffffff; stroke-linecap: round\"/>\n     </g>\n     <g id=\"text_15\">\n      <!-- 0.4 -->\n      <g style=\"fill: #262626\" transform=\"translate(22.315 282.705421)scale(0.11 -0.11)\">\n       <use xlink:href=\"#ArialMT-30\"/>\n       <use xlink:href=\"#ArialMT-2e\" x=\"55.615234\"/>\n       <use xlink:href=\"#ArialMT-34\" x=\"83.398438\"/>\n      </g>\n     </g>\n    </g>\n    <g id=\"ytick_4\">\n     <g id=\"line2d_15\">\n      <path d=\"M 47.105 189.017155 \nL 716.705 189.017155 \n\" clip-path=\"url(#pdc2d446a2c)\" style=\"fill: none; stroke: #ffffff; stroke-linecap: round\"/>\n     </g>\n     <g id=\"text_16\">\n      <!-- 0.6 -->\n      <g style=\"fill: #262626\" transform=\"translate(22.315 192.953952)scale(0.11 -0.11)\">\n       <defs>\n        <path id=\"ArialMT-36\" d=\"M 3184 3459 \nL 2625 3416 \nQ 2550 3747 2413 3897 \nQ 2184 4138 1850 4138 \nQ 1581 4138 1378 3988 \nQ 1113 3794 959 3422 \nQ 806 3050 800 2363 \nQ 1003 2672 1297 2822 \nQ 1591 2972 1913 2972 \nQ 2475 2972 2870 2558 \nQ 3266 2144 3266 1488 \nQ 3266 1056 3080 686 \nQ 2894 316 2569 119 \nQ 2244 -78 1831 -78 \nQ 1128 -78 684 439 \nQ 241 956 241 2144 \nQ 241 3472 731 4075 \nQ 1159 4600 1884 4600 \nQ 2425 4600 2770 4297 \nQ 3116 3994 3184 3459 \nz\nM 888 1484 \nQ 888 1194 1011 928 \nQ 1134 663 1356 523 \nQ 1578 384 1822 384 \nQ 2178 384 2434 671 \nQ 2691 959 2691 1453 \nQ 2691 1928 2437 2201 \nQ 2184 2475 1800 2475 \nQ 1419 2475 1153 2201 \nQ 888 1928 888 1484 \nz\n\" transform=\"scale(0.015625)\"/>\n       </defs>\n       <use xlink:href=\"#ArialMT-30\"/>\n       <use xlink:href=\"#ArialMT-2e\" x=\"55.615234\"/>\n       <use xlink:href=\"#ArialMT-36\" x=\"83.398438\"/>\n      </g>\n     </g>\n    </g>\n    <g id=\"ytick_5\">\n     <g id=\"line2d_16\">\n      <path d=\"M 47.105 99.265686 \nL 716.705 99.265686 \n\" clip-path=\"url(#pdc2d446a2c)\" style=\"fill: none; stroke: #ffffff; stroke-linecap: round\"/>\n     </g>\n     <g id=\"text_17\">\n      <!-- 0.8 -->\n      <g style=\"fill: #262626\" transform=\"translate(22.315 103.202483)scale(0.11 -0.11)\">\n       <defs>\n        <path id=\"ArialMT-38\" d=\"M 1131 2484 \nQ 781 2613 612 2850 \nQ 444 3088 444 3419 \nQ 444 3919 803 4259 \nQ 1163 4600 1759 4600 \nQ 2359 4600 2725 4251 \nQ 3091 3903 3091 3403 \nQ 3091 3084 2923 2848 \nQ 2756 2613 2416 2484 \nQ 2838 2347 3058 2040 \nQ 3278 1734 3278 1309 \nQ 3278 722 2862 322 \nQ 2447 -78 1769 -78 \nQ 1091 -78 675 323 \nQ 259 725 259 1325 \nQ 259 1772 486 2073 \nQ 713 2375 1131 2484 \nz\nM 1019 3438 \nQ 1019 3113 1228 2906 \nQ 1438 2700 1772 2700 \nQ 2097 2700 2305 2904 \nQ 2513 3109 2513 3406 \nQ 2513 3716 2298 3927 \nQ 2084 4138 1766 4138 \nQ 1444 4138 1231 3931 \nQ 1019 3725 1019 3438 \nz\nM 838 1322 \nQ 838 1081 952 856 \nQ 1066 631 1291 507 \nQ 1516 384 1775 384 \nQ 2178 384 2440 643 \nQ 2703 903 2703 1303 \nQ 2703 1709 2433 1975 \nQ 2163 2241 1756 2241 \nQ 1359 2241 1098 1978 \nQ 838 1716 838 1322 \nz\n\" transform=\"scale(0.015625)\"/>\n       </defs>\n       <use xlink:href=\"#ArialMT-30\"/>\n       <use xlink:href=\"#ArialMT-2e\" x=\"55.615234\"/>\n       <use xlink:href=\"#ArialMT-38\" x=\"83.398438\"/>\n      </g>\n     </g>\n    </g>\n    <g id=\"text_18\">\n     <!-- Density -->\n     <g style=\"fill: #262626\" transform=\"translate(15.789375 260.837812)rotate(-90)scale(0.12 -0.12)\">\n      <defs>\n       <path id=\"ArialMT-44\" d=\"M 494 0 \nL 494 4581 \nL 2072 4581 \nQ 2606 4581 2888 4516 \nQ 3281 4425 3559 4188 \nQ 3922 3881 4101 3404 \nQ 4281 2928 4281 2316 \nQ 4281 1794 4159 1391 \nQ 4038 988 3847 723 \nQ 3656 459 3429 307 \nQ 3203 156 2883 78 \nQ 2563 0 2147 0 \nL 494 0 \nz\nM 1100 541 \nL 2078 541 \nQ 2531 541 2789 625 \nQ 3047 709 3200 863 \nQ 3416 1078 3536 1442 \nQ 3656 1806 3656 2325 \nQ 3656 3044 3420 3430 \nQ 3184 3816 2847 3947 \nQ 2603 4041 2063 4041 \nL 1100 4041 \nL 1100 541 \nz\n\" transform=\"scale(0.015625)\"/>\n       <path id=\"ArialMT-79\" d=\"M 397 -1278 \nL 334 -750 \nQ 519 -800 656 -800 \nQ 844 -800 956 -737 \nQ 1069 -675 1141 -563 \nQ 1194 -478 1313 -144 \nQ 1328 -97 1363 -6 \nL 103 3319 \nL 709 3319 \nL 1400 1397 \nQ 1534 1031 1641 628 \nQ 1738 1016 1872 1384 \nL 2581 3319 \nL 3144 3319 \nL 1881 -56 \nQ 1678 -603 1566 -809 \nQ 1416 -1088 1222 -1217 \nQ 1028 -1347 759 -1347 \nQ 597 -1347 397 -1278 \nz\n\" transform=\"scale(0.015625)\"/>\n      </defs>\n      <use xlink:href=\"#ArialMT-44\"/>\n      <use xlink:href=\"#ArialMT-65\" x=\"72.216797\"/>\n      <use xlink:href=\"#ArialMT-6e\" x=\"127.832031\"/>\n      <use xlink:href=\"#ArialMT-73\" x=\"183.447266\"/>\n      <use xlink:href=\"#ArialMT-69\" x=\"233.447266\"/>\n      <use xlink:href=\"#ArialMT-74\" x=\"255.664062\"/>\n      <use xlink:href=\"#ArialMT-79\" x=\"283.447266\"/>\n     </g>\n    </g>\n   </g>\n   <g id=\"PolyCollection_1\">\n    <defs>\n     <path id=\"m9ac169f99f\" d=\"M 367.073479 -42.707922 \nL 367.073479 -41.874844 \nL 369.241434 -41.874844 \nL 371.409389 -41.874844 \nL 373.577344 -41.874844 \nL 375.745299 -41.874844 \nL 377.913254 -41.874844 \nL 380.081209 -41.874844 \nL 382.249164 -41.874844 \nL 384.417119 -41.874844 \nL 386.585074 -41.874844 \nL 388.753029 -41.874844 \nL 390.920984 -41.874844 \nL 393.088939 -41.874844 \nL 395.256894 -41.874844 \nL 397.424849 -41.874844 \nL 399.592804 -41.874844 \nL 401.760759 -41.874844 \nL 403.928714 -41.874844 \nL 406.096669 -41.874844 \nL 408.264624 -41.874844 \nL 410.432579 -41.874844 \nL 412.600534 -41.874844 \nL 414.768489 -41.874844 \nL 416.936444 -41.874844 \nL 419.104399 -41.874844 \nL 421.272354 -41.874844 \nL 423.440309 -41.874844 \nL 425.608263 -41.874844 \nL 427.776218 -41.874844 \nL 429.944173 -41.874844 \nL 432.112128 -41.874844 \nL 434.280083 -41.874844 \nL 436.448038 -41.874844 \nL 438.615993 -41.874844 \nL 440.783948 -41.874844 \nL 442.951903 -41.874844 \nL 445.119858 -41.874844 \nL 447.287813 -41.874844 \nL 449.455768 -41.874844 \nL 451.623723 -41.874844 \nL 453.791678 -41.874844 \nL 455.959633 -41.874844 \nL 458.127588 -41.874844 \nL 460.295543 -41.874844 \nL 462.463498 -41.874844 \nL 464.631453 -41.874844 \nL 466.799408 -41.874844 \nL 468.967363 -41.874844 \nL 471.135318 -41.874844 \nL 473.303273 -41.874844 \nL 475.471228 -41.874844 \nL 477.639183 -41.874844 \nL 479.807138 -41.874844 \nL 481.975093 -41.874844 \nL 484.143048 -41.874844 \nL 486.311003 -41.874844 \nL 488.478958 -41.874844 \nL 490.646913 -41.874844 \nL 492.814868 -41.874844 \nL 494.982823 -41.874844 \nL 497.150778 -41.874844 \nL 499.318733 -41.874844 \nL 501.486688 -41.874844 \nL 503.654643 -41.874844 \nL 505.822598 -41.874844 \nL 507.990553 -41.874844 \nL 510.158508 -41.874844 \nL 512.326463 -41.874844 \nL 514.494418 -41.874844 \nL 516.662373 -41.874844 \nL 518.830328 -41.874844 \nL 520.998283 -41.874844 \nL 523.166238 -41.874844 \nL 525.334193 -41.874844 \nL 527.502148 -41.874844 \nL 529.670103 -41.874844 \nL 531.838058 -41.874844 \nL 534.006013 -41.874844 \nL 536.173968 -41.874844 \nL 538.341923 -41.874844 \nL 540.509878 -41.874844 \nL 542.677833 -41.874844 \nL 544.845788 -41.874844 \nL 547.013743 -41.874844 \nL 549.181698 -41.874844 \nL 551.349653 -41.874844 \nL 553.517608 -41.874844 \nL 555.685563 -41.874844 \nL 557.853518 -41.874844 \nL 560.021473 -41.874844 \nL 562.189428 -41.874844 \nL 564.357383 -41.874844 \nL 566.525338 -41.874844 \nL 568.693293 -41.874844 \nL 570.861248 -41.874844 \nL 573.029203 -41.874844 \nL 575.197158 -41.874844 \nL 577.365113 -41.874844 \nL 579.533068 -41.874844 \nL 581.701023 -41.874844 \nL 583.868977 -41.874844 \nL 586.036932 -41.874844 \nL 588.204887 -41.874844 \nL 590.372842 -41.874844 \nL 592.540797 -41.874844 \nL 594.708752 -41.874844 \nL 596.876707 -41.874844 \nL 599.044662 -41.874844 \nL 601.212617 -41.874844 \nL 603.380572 -41.874844 \nL 605.548527 -41.874844 \nL 607.716482 -41.874844 \nL 609.884437 -41.874844 \nL 612.052392 -41.874844 \nL 614.220347 -41.874844 \nL 616.388302 -41.874844 \nL 618.556257 -41.874844 \nL 620.724212 -41.874844 \nL 622.892167 -41.874844 \nL 625.060122 -41.874844 \nL 627.228077 -41.874844 \nL 629.396032 -41.874844 \nL 631.563987 -41.874844 \nL 633.731942 -41.874844 \nL 635.899897 -41.874844 \nL 638.067852 -41.874844 \nL 640.235807 -41.874844 \nL 642.403762 -41.874844 \nL 644.571717 -41.874844 \nL 646.739672 -41.874844 \nL 648.907627 -41.874844 \nL 651.075582 -41.874844 \nL 653.243537 -41.874844 \nL 655.411492 -41.874844 \nL 657.579447 -41.874844 \nL 659.747402 -41.874844 \nL 661.915357 -41.874844 \nL 664.083312 -41.874844 \nL 666.251267 -41.874844 \nL 668.419222 -41.874844 \nL 670.587177 -41.874844 \nL 672.755132 -41.874844 \nL 674.923087 -41.874844 \nL 677.091042 -41.874844 \nL 679.258997 -41.874844 \nL 681.426952 -41.874844 \nL 683.594907 -41.874844 \nL 685.762862 -41.874844 \nL 687.930817 -41.874844 \nL 690.098772 -41.874844 \nL 692.266727 -41.874844 \nL 694.434682 -41.874844 \nL 696.602637 -41.874844 \nL 698.770592 -41.874844 \nL 700.938547 -41.874844 \nL 703.106502 -41.874844 \nL 705.274457 -41.874844 \nL 707.442412 -41.874844 \nL 709.610367 -41.874844 \nL 711.778322 -41.874844 \nL 713.946277 -41.874844 \nL 716.114232 -41.874844 \nL 718.282187 -41.874844 \nL 720.450142 -41.874844 \nL 722.618097 -41.874844 \nL 724.786052 -41.874844 \nL 726.954007 -41.874844 \nL 729.121962 -41.874844 \nL 731.289917 -41.874844 \nL 733.457872 -41.874844 \nL 735.625827 -41.874844 \nL 737.793782 -41.874844 \nL 739.961737 -41.874844 \nL 742.129691 -41.874844 \nL 744.297646 -41.874844 \nL 746.465601 -41.874844 \nL 748.633556 -41.874844 \nL 750.801511 -41.874844 \nL 752.969466 -41.874844 \nL 755.137421 -41.874844 \nL 757.305376 -41.874844 \nL 759.473331 -41.874844 \nL 761.641286 -41.874844 \nL 763.809241 -41.874844 \nL 765.977196 -41.874844 \nL 768.145151 -41.874844 \nL 770.313106 -41.874844 \nL 772.481061 -41.874844 \nL 774.649016 -41.874844 \nL 776.816971 -41.874844 \nL 778.984926 -41.874844 \nL 781.152881 -41.874844 \nL 783.320836 -41.874844 \nL 785.488791 -41.874844 \nL 787.656746 -41.874844 \nL 789.824701 -41.874844 \nL 791.992656 -41.874844 \nL 794.160611 -41.874844 \nL 796.328566 -41.874844 \nL 798.496521 -41.874844 \nL 798.496521 -42.556524 \nL 798.496521 -42.556524 \nL 796.328566 -42.737476 \nL 794.160611 -42.959589 \nL 791.992656 -43.230308 \nL 789.824701 -43.557934 \nL 787.656746 -43.951606 \nL 785.488791 -44.421248 \nL 783.320836 -44.977481 \nL 781.152881 -45.631483 \nL 778.984926 -46.394811 \nL 776.816971 -47.279165 \nL 774.649016 -48.29611 \nL 772.481061 -49.456743 \nL 770.313106 -50.771326 \nL 768.145151 -52.248882 \nL 765.977196 -53.896773 \nL 763.809241 -55.720274 \nL 761.641286 -57.722165 \nL 759.473331 -59.902358 \nL 757.305376 -62.257595 \nL 755.137421 -64.781224 \nL 752.969466 -67.463105 \nL 750.801511 -70.289646 \nL 748.633556 -73.244002 \nL 746.465601 -76.306459 \nL 744.297646 -79.455004 \nL 742.129691 -82.666086 \nL 739.961737 -85.915567 \nL 737.793782 -89.17984 \nL 735.625827 -92.437092 \nL 733.457872 -95.668671 \nL 731.289917 -98.860506 \nL 729.121962 -102.004528 \nL 726.954007 -105.100025 \nL 724.786052 -108.154854 \nL 722.618097 -111.186444 \nL 720.450142 -114.222512 \nL 718.282187 -117.301427 \nL 716.114232 -120.472153 \nL 713.946277 -123.793734 \nL 711.778322 -127.334272 \nL 709.610367 -131.169391 \nL 707.442412 -135.380191 \nL 705.274457 -140.050711 \nL 703.106502 -145.264974 \nL 700.938547 -151.103659 \nL 698.770592 -157.640539 \nL 696.602637 -164.938772 \nL 694.434682 -173.047209 \nL 692.266727 -181.996864 \nL 690.098772 -191.797704 \nL 687.930817 -202.435934 \nL 685.762862 -213.871918 \nL 683.594907 -226.038895 \nL 681.426952 -238.842591 \nL 679.258997 -252.161839 \nL 677.091042 -265.850245 \nL 674.923087 -279.738914 \nL 672.755132 -293.640207 \nL 670.587177 -307.352451 \nL 668.419222 -320.665452 \nL 666.251267 -333.366668 \nL 664.083312 -345.247801 \nL 661.915357 -356.111578 \nL 659.747402 -365.778463 \nL 657.579447 -374.093004 \nL 655.411492 -380.92957 \nL 653.243537 -386.197195 \nL 651.075582 -389.84333 \nL 648.907627 -391.856294 \nL 646.739672 -392.266307 \nL 644.571717 -391.145008 \nL 642.403762 -388.603466 \nL 640.235807 -384.788717 \nL 638.067852 -379.878952 \nL 635.899897 -374.077526 \nL 633.731942 -367.606013 \nL 631.563987 -360.696575 \nL 629.396032 -353.583951 \nL 627.228077 -346.497362 \nL 625.060122 -339.652676 \nL 622.892167 -333.245112 \nL 620.724212 -327.442793 \nL 618.556257 -322.381379 \nL 616.388302 -318.159991 \nL 614.220347 -314.838566 \nL 612.052392 -312.436744 \nL 609.884437 -310.934301 \nL 607.716482 -310.273101 \nL 605.548527 -310.360467 \nL 603.380572 -311.073814 \nL 601.212617 -312.266347 \nL 599.044662 -313.773588 \nL 596.876707 -315.420442 \nL 594.708752 -317.028534 \nL 592.540797 -318.423506 \nL 590.372842 -319.441988 \nL 588.204887 -319.937973 \nL 586.036932 -319.78835 \nL 583.868977 -318.897389 \nL 581.701023 -317.200023 \nL 579.533068 -314.663816 \nL 577.365113 -311.289575 \nL 575.197158 -307.110595 \nL 573.029203 -302.190626 \nL 570.861248 -296.62065 \nL 568.693293 -290.514643 \nL 566.525338 -284.004516 \nL 564.357383 -277.234459 \nL 562.189428 -270.354944 \nL 560.021473 -263.516623 \nL 557.853518 -256.864387 \nL 555.685563 -250.531815 \nL 553.517608 -244.636224 \nL 551.349653 -239.274514 \nL 549.181698 -234.519942 \nL 547.013743 -230.41993 \nL 544.845788 -226.994971 \nL 542.677833 -224.238642 \nL 540.509878 -222.118683 \nL 538.341923 -220.579081 \nL 536.173968 -219.543029 \nL 534.006013 -218.916632 \nL 531.838058 -218.593173 \nL 529.670103 -218.457759 \nL 527.502148 -218.392145 \nL 525.334193 -218.279544 \nL 523.166238 -218.009215 \nL 520.998283 -217.48067 \nL 518.830328 -216.607325 \nL 516.662373 -215.319476 \nL 514.494418 -213.566504 \nL 512.326463 -211.318234 \nL 510.158508 -208.565438 \nL 507.990553 -205.319469 \nL 505.822598 -201.611105 \nL 503.654643 -197.488634 \nL 501.486688 -193.015334 \nL 499.318733 -188.266429 \nL 497.150778 -183.325696 \nL 494.982823 -178.281852 \nL 492.814868 -173.224898 \nL 490.646913 -168.242538 \nL 488.478958 -163.416853 \nL 486.311003 -158.821311 \nL 484.143048 -154.51826 \nL 481.975093 -150.556945 \nL 479.807138 -146.972139 \nL 477.639183 -143.783387 \nL 475.471228 -140.994882 \nL 473.303273 -138.595949 \nL 471.135318 -136.56208 \nL 468.967363 -134.856455 \nL 466.799408 -133.431877 \nL 464.631453 -132.23301 \nL 462.463498 -131.198825 \nL 460.295543 -130.265144 \nL 458.127588 -129.367181 \nL 455.959633 -128.441979 \nL 453.791678 -127.430644 \nL 451.623723 -126.280319 \nL 449.455768 -124.945812 \nL 447.287813 -123.390856 \nL 445.119858 -121.588953 \nL 442.951903 -119.523812 \nL 440.783948 -117.189381 \nL 438.615993 -114.589489 \nL 436.448038 -111.737168 \nL 434.280083 -108.653663 \nL 432.112128 -105.367227 \nL 429.944173 -101.911747 \nL 427.776218 -98.325268 \nL 425.608263 -94.64849 \nL 423.440309 -90.923285 \nL 421.272354 -87.191313 \nL 419.104399 -83.492749 \nL 416.936444 -79.865193 \nL 414.768489 -76.342767 \nL 412.600534 -72.955419 \nL 410.432579 -69.728443 \nL 408.264624 -66.682205 \nL 406.096669 -63.832068 \nL 403.928714 -61.188488 \nL 401.760759 -58.757258 \nL 399.592804 -56.539882 \nL 397.424849 -54.534031 \nL 395.256894 -52.734071 \nL 393.088939 -51.131615 \nL 390.920984 -49.716093 \nL 388.753029 -48.475302 \nL 386.585074 -47.395929 \nL 384.417119 -46.464022 \nL 382.249164 -45.665414 \nL 380.081209 -44.986075 \nL 377.913254 -44.41241 \nL 375.745299 -43.931489 \nL 373.577344 -43.531214 \nL 371.409389 -43.200441 \nL 369.241434 -42.929039 \nL 367.073479 -42.707922 \nz\n\" style=\"stroke: #4c72b0\"/>\n    </defs>\n    <g clip-path=\"url(#pdc2d446a2c)\">\n     <use xlink:href=\"#m9ac169f99f\" x=\"0\" y=\"500.146406\" style=\"fill: #4c72b0; fill-opacity: 0.4; stroke: #4c72b0\"/>\n    </g>\n   </g>\n   <g id=\"PolyCollection_2\">\n    <defs>\n     <path id=\"mc3413b5168\" d=\"M 310.300867 -42.225392 \nL 310.300867 -41.874844 \nL 312.702919 -41.874844 \nL 315.104971 -41.874844 \nL 317.507022 -41.874844 \nL 319.909074 -41.874844 \nL 322.311125 -41.874844 \nL 324.713177 -41.874844 \nL 327.115229 -41.874844 \nL 329.51728 -41.874844 \nL 331.919332 -41.874844 \nL 334.321383 -41.874844 \nL 336.723435 -41.874844 \nL 339.125486 -41.874844 \nL 341.527538 -41.874844 \nL 343.92959 -41.874844 \nL 346.331641 -41.874844 \nL 348.733693 -41.874844 \nL 351.135744 -41.874844 \nL 353.537796 -41.874844 \nL 355.939848 -41.874844 \nL 358.341899 -41.874844 \nL 360.743951 -41.874844 \nL 363.146002 -41.874844 \nL 365.548054 -41.874844 \nL 367.950105 -41.874844 \nL 370.352157 -41.874844 \nL 372.754209 -41.874844 \nL 375.15626 -41.874844 \nL 377.558312 -41.874844 \nL 379.960363 -41.874844 \nL 382.362415 -41.874844 \nL 384.764467 -41.874844 \nL 387.166518 -41.874844 \nL 389.56857 -41.874844 \nL 391.970621 -41.874844 \nL 394.372673 -41.874844 \nL 396.774724 -41.874844 \nL 399.176776 -41.874844 \nL 401.578828 -41.874844 \nL 403.980879 -41.874844 \nL 406.382931 -41.874844 \nL 408.784982 -41.874844 \nL 411.187034 -41.874844 \nL 413.589086 -41.874844 \nL 415.991137 -41.874844 \nL 418.393189 -41.874844 \nL 420.79524 -41.874844 \nL 423.197292 -41.874844 \nL 425.599343 -41.874844 \nL 428.001395 -41.874844 \nL 430.403447 -41.874844 \nL 432.805498 -41.874844 \nL 435.20755 -41.874844 \nL 437.609601 -41.874844 \nL 440.011653 -41.874844 \nL 442.413705 -41.874844 \nL 444.815756 -41.874844 \nL 447.217808 -41.874844 \nL 449.619859 -41.874844 \nL 452.021911 -41.874844 \nL 454.423962 -41.874844 \nL 456.826014 -41.874844 \nL 459.228066 -41.874844 \nL 461.630117 -41.874844 \nL 464.032169 -41.874844 \nL 466.43422 -41.874844 \nL 468.836272 -41.874844 \nL 471.238324 -41.874844 \nL 473.640375 -41.874844 \nL 476.042427 -41.874844 \nL 478.444478 -41.874844 \nL 480.84653 -41.874844 \nL 483.248581 -41.874844 \nL 485.650633 -41.874844 \nL 488.052685 -41.874844 \nL 490.454736 -41.874844 \nL 492.856788 -41.874844 \nL 495.258839 -41.874844 \nL 497.660891 -41.874844 \nL 500.062943 -41.874844 \nL 502.464994 -41.874844 \nL 504.867046 -41.874844 \nL 507.269097 -41.874844 \nL 509.671149 -41.874844 \nL 512.0732 -41.874844 \nL 514.475252 -41.874844 \nL 516.877304 -41.874844 \nL 519.279355 -41.874844 \nL 521.681407 -41.874844 \nL 524.083458 -41.874844 \nL 526.48551 -41.874844 \nL 528.887562 -41.874844 \nL 531.289613 -41.874844 \nL 533.691665 -41.874844 \nL 536.093716 -41.874844 \nL 538.495768 -41.874844 \nL 540.897819 -41.874844 \nL 543.299871 -41.874844 \nL 545.701923 -41.874844 \nL 548.103974 -41.874844 \nL 550.506026 -41.874844 \nL 552.908077 -41.874844 \nL 555.310129 -41.874844 \nL 557.712181 -41.874844 \nL 560.114232 -41.874844 \nL 562.516284 -41.874844 \nL 564.918335 -41.874844 \nL 567.320387 -41.874844 \nL 569.722438 -41.874844 \nL 572.12449 -41.874844 \nL 574.526542 -41.874844 \nL 576.928593 -41.874844 \nL 579.330645 -41.874844 \nL 581.732696 -41.874844 \nL 584.134748 -41.874844 \nL 586.5368 -41.874844 \nL 588.938851 -41.874844 \nL 591.340903 -41.874844 \nL 593.742954 -41.874844 \nL 596.145006 -41.874844 \nL 598.547057 -41.874844 \nL 600.949109 -41.874844 \nL 603.351161 -41.874844 \nL 605.753212 -41.874844 \nL 608.155264 -41.874844 \nL 610.557315 -41.874844 \nL 612.959367 -41.874844 \nL 615.361419 -41.874844 \nL 617.76347 -41.874844 \nL 620.165522 -41.874844 \nL 622.567573 -41.874844 \nL 624.969625 -41.874844 \nL 627.371676 -41.874844 \nL 629.773728 -41.874844 \nL 632.17578 -41.874844 \nL 634.577831 -41.874844 \nL 636.979883 -41.874844 \nL 639.381934 -41.874844 \nL 641.783986 -41.874844 \nL 644.186038 -41.874844 \nL 646.588089 -41.874844 \nL 648.990141 -41.874844 \nL 651.392192 -41.874844 \nL 653.794244 -41.874844 \nL 656.196295 -41.874844 \nL 658.598347 -41.874844 \nL 661.000399 -41.874844 \nL 663.40245 -41.874844 \nL 665.804502 -41.874844 \nL 668.206553 -41.874844 \nL 670.608605 -41.874844 \nL 673.010657 -41.874844 \nL 675.412708 -41.874844 \nL 677.81476 -41.874844 \nL 680.216811 -41.874844 \nL 682.618863 -41.874844 \nL 685.020914 -41.874844 \nL 687.422966 -41.874844 \nL 689.825018 -41.874844 \nL 692.227069 -41.874844 \nL 694.629121 -41.874844 \nL 697.031172 -41.874844 \nL 699.433224 -41.874844 \nL 701.835276 -41.874844 \nL 704.237327 -41.874844 \nL 706.639379 -41.874844 \nL 709.04143 -41.874844 \nL 711.443482 -41.874844 \nL 713.845533 -41.874844 \nL 716.247585 -41.874844 \nL 718.649637 -41.874844 \nL 721.051688 -41.874844 \nL 723.45374 -41.874844 \nL 725.855791 -41.874844 \nL 728.257843 -41.874844 \nL 730.659895 -41.874844 \nL 733.061946 -41.874844 \nL 735.463998 -41.874844 \nL 737.866049 -41.874844 \nL 740.268101 -41.874844 \nL 742.670152 -41.874844 \nL 745.072204 -41.874844 \nL 747.474256 -41.874844 \nL 749.876307 -41.874844 \nL 752.278359 -41.874844 \nL 754.68041 -41.874844 \nL 757.082462 -41.874844 \nL 759.484514 -41.874844 \nL 761.886565 -41.874844 \nL 764.288617 -41.874844 \nL 766.690668 -41.874844 \nL 769.09272 -41.874844 \nL 771.494771 -41.874844 \nL 773.896823 -41.874844 \nL 776.298875 -41.874844 \nL 778.700926 -41.874844 \nL 781.102978 -41.874844 \nL 783.505029 -41.874844 \nL 785.907081 -41.874844 \nL 788.309133 -41.874844 \nL 788.309133 -41.93328 \nL 788.309133 -41.93328 \nL 785.907081 -41.953481 \nL 783.505029 -41.979603 \nL 781.102978 -42.012998 \nL 778.700926 -42.055211 \nL 776.298875 -42.107961 \nL 773.896823 -42.173121 \nL 771.494771 -42.252683 \nL 769.09272 -42.348698 \nL 766.690668 -42.463216 \nL 764.288617 -42.598197 \nL 761.886565 -42.755423 \nL 759.484514 -42.936404 \nL 757.082462 -43.142288 \nL 754.68041 -43.373798 \nL 752.278359 -43.63119 \nL 749.876307 -43.914273 \nL 747.474256 -44.222493 \nL 745.072204 -44.555108 \nL 742.670152 -44.911473 \nL 740.268101 -45.291448 \nL 737.866049 -45.695952 \nL 735.463998 -46.127657 \nL 733.061946 -46.591832 \nL 730.659895 -47.097331 \nL 728.257843 -47.657679 \nL 725.855791 -48.292247 \nL 723.45374 -49.027442 \nL 721.051688 -49.897851 \nL 718.649637 -50.947241 \nL 716.247585 -52.229318 \nL 713.845533 -53.808126 \nL 711.443482 -55.757951 \nL 709.04143 -58.162615 \nL 706.639379 -61.114019 \nL 704.237327 -64.709869 \nL 701.835276 -69.050483 \nL 699.433224 -74.234692 \nL 697.031172 -80.354867 \nL 694.629121 -87.491199 \nL 692.227069 -95.705445 \nL 689.825018 -105.034421 \nL 687.422966 -115.48363 \nL 685.020914 -127.021457 \nL 682.618863 -139.57443 \nL 680.216811 -153.024023 \nL 677.81476 -167.205502 \nL 675.412708 -181.909191 \nL 673.010657 -196.884447 \nL 670.608605 -211.846486 \nL 668.206553 -226.485982 \nL 665.804502 -240.481198 \nL 663.40245 -253.512147 \nL 661.000399 -265.276146 \nL 658.598347 -275.503911 \nL 656.196295 -283.975264 \nL 653.794244 -290.533476 \nL 651.392192 -295.097254 \nL 648.990141 -297.669528 \nL 646.588089 -298.342305 \nL 644.186038 -297.297085 \nL 641.783986 -294.800596 \nL 639.381934 -291.195846 \nL 636.979883 -286.8888 \nL 634.577831 -282.331211 \nL 632.17578 -278.000369 \nL 629.773728 -274.376728 \nL 627.371676 -271.920473 \nL 624.969625 -271.048175 \nL 622.567573 -272.110709 \nL 620.165522 -275.373572 \nL 617.76347 -281.000634 \nL 615.361419 -289.042262 \nL 612.959367 -299.428548 \nL 610.557315 -311.968174 \nL 608.155264 -326.353188 \nL 605.753212 -342.169693 \nL 603.351161 -358.914135 \nL 600.949109 -376.014592 \nL 598.547057 -392.856136 \nL 596.145006 -408.809098 \nL 593.742954 -423.258831 \nL 591.340903 -435.635417 \nL 588.938851 -445.441715 \nL 586.5368 -452.278171 \nL 584.134748 -455.862955 \nL 581.732696 -456.046272 \nL 579.330645 -452.817958 \nL 576.928593 -446.307936 \nL 574.526542 -436.779499 \nL 572.12449 -424.615818 \nL 569.722438 -410.300505 \nL 567.320387 -394.393354 \nL 564.918335 -377.502689 \nL 562.516284 -360.255859 \nL 560.114232 -343.269509 \nL 557.712181 -327.121172 \nL 555.310129 -312.323616 \nL 552.908077 -299.303135 \nL 550.506026 -288.382739 \nL 548.103974 -279.77088 \nL 545.701923 -273.556037 \nL 543.299871 -269.707215 \nL 540.897819 -268.080091 \nL 538.495768 -268.428315 \nL 536.093716 -270.419242 \nL 533.691665 -273.653205 \nL 531.289613 -277.685296 \nL 528.887562 -282.048536 \nL 526.48551 -286.277291 \nL 524.083458 -289.929762 \nL 521.681407 -292.608507 \nL 519.279355 -293.977998 \nL 516.877304 -293.778448 \nL 514.475252 -291.835295 \nL 512.0732 -288.064027 \nL 509.671149 -282.47026 \nL 507.269097 -275.14524 \nL 504.867046 -266.257241 \nL 502.464994 -256.03947 \nL 500.062943 -244.775339 \nL 497.660891 -232.782025 \nL 495.258839 -220.393294 \nL 492.856788 -207.942576 \nL 490.454736 -195.747157 \nL 488.052685 -184.094259 \nL 485.650633 -173.229604 \nL 483.248581 -163.348867 \nL 480.84653 -154.592233 \nL 478.444478 -147.042084 \nL 476.042427 -140.723685 \nL 473.640375 -135.608581 \nL 471.238324 -131.620311 \nL 468.836272 -128.641976 \nL 466.43422 -126.52514 \nL 464.032169 -125.099532 \nL 461.630117 -124.183024 \nL 459.228066 -123.591396 \nL 456.826014 -123.147436 \nL 454.423962 -122.688997 \nL 452.021911 -122.075693 \nL 449.619859 -121.194033 \nL 447.217808 -119.960819 \nL 444.815756 -118.32479 \nL 442.413705 -116.266541 \nL 440.011653 -113.796834 \nL 437.609601 -110.953507 \nL 435.20755 -107.797226 \nL 432.805498 -104.406384 \nL 430.403447 -100.871472 \nL 428.001395 -97.289237 \nL 425.599343 -93.756959 \nL 423.197292 -90.367122 \nL 420.79524 -87.202719 \nL 418.393189 -84.333395 \nL 415.991137 -81.812542 \nL 413.589086 -79.675427 \nL 411.187034 -77.938373 \nL 408.784982 -76.598938 \nL 406.382931 -75.637025 \nL 403.980879 -75.016795 \nL 401.578828 -74.689237 \nL 399.176776 -74.595218 \nL 396.774724 -74.668858 \nL 394.372673 -74.84101 \nL 391.970621 -75.042716 \nL 389.56857 -75.208425 \nL 387.166518 -75.278875 \nL 384.764467 -75.20347 \nL 382.362415 -74.942104 \nL 379.960363 -74.466339 \nL 377.558312 -73.759931 \nL 375.15626 -72.818719 \nL 372.754209 -71.649911 \nL 370.352157 -70.270862 \nL 367.950105 -68.707436 \nL 365.548054 -66.992082 \nL 363.146002 -65.16175 \nL 360.743951 -63.255769 \nL 358.341899 -61.313834 \nL 355.939848 -59.37417 \nL 353.537796 -57.47199 \nL 351.135744 -55.638277 \nL 348.733693 -53.898939 \nL 346.331641 -52.274323 \nL 343.92959 -50.779074 \nL 341.527538 -49.422305 \nL 339.125486 -48.208005 \nL 336.723435 -47.135646 \nL 334.321383 -46.200905 \nL 331.919332 -45.396449 \nL 329.51728 -44.712727 \nL 327.115229 -44.138722 \nL 324.713177 -43.66263 \nL 322.311125 -43.272439 \nL 319.909074 -42.956403 \nL 317.507022 -42.703399 \nL 315.104971 -42.503184 \nL 312.702919 -42.346548 \nL 310.300867 -42.225392 \nz\n\" style=\"stroke: #dd8452\"/>\n    </defs>\n    <g clip-path=\"url(#pdc2d446a2c)\">\n     <use xlink:href=\"#mc3413b5168\" x=\"0\" y=\"500.146406\" style=\"fill: #dd8452; fill-opacity: 0.4; stroke: #dd8452\"/>\n    </g>\n   </g>\n   <g id=\"patch_3\">\n    <path d=\"M 47.105 458.271562 \nL 47.105 23.391562 \n\" style=\"fill: none; stroke: #ffffff; stroke-width: 1.25; stroke-linejoin: miter; stroke-linecap: square\"/>\n   </g>\n   <g id=\"patch_4\">\n    <path d=\"M 716.705 458.271562 \nL 716.705 23.391562 \n\" style=\"fill: none; stroke: #ffffff; stroke-width: 1.25; stroke-linejoin: miter; stroke-linecap: square\"/>\n   </g>\n   <g id=\"patch_5\">\n    <path d=\"M 47.105 458.271562 \nL 716.705 458.271562 \n\" style=\"fill: none; stroke: #ffffff; stroke-width: 1.25; stroke-linejoin: miter; stroke-linecap: square\"/>\n   </g>\n   <g id=\"patch_6\">\n    <path d=\"M 47.105 23.391562 \nL 716.705 23.391562 \n\" style=\"fill: none; stroke: #ffffff; stroke-width: 1.25; stroke-linejoin: miter; stroke-linecap: square\"/>\n   </g>\n   <g id=\"text_19\">\n    <!-- Comparison of KDE Distributions for Fandango User ratings (2015 vs. 2016) -->\n    <g style=\"fill: #262626\" transform=\"translate(129.87 17.391562)scale(0.14 -0.14)\">\n     <defs>\n      <path id=\"Arial-BoldMT-43\" d=\"M 3397 1684 \nL 4294 1400 \nQ 4088 650 3608 286 \nQ 3128 -78 2391 -78 \nQ 1478 -78 890 545 \nQ 303 1169 303 2250 \nQ 303 3394 893 4026 \nQ 1484 4659 2447 4659 \nQ 3288 4659 3813 4163 \nQ 4125 3869 4281 3319 \nL 3366 3100 \nQ 3284 3456 3026 3662 \nQ 2769 3869 2400 3869 \nQ 1891 3869 1573 3503 \nQ 1256 3138 1256 2319 \nQ 1256 1450 1568 1081 \nQ 1881 713 2381 713 \nQ 2750 713 3015 947 \nQ 3281 1181 3397 1684 \nz\n\" transform=\"scale(0.015625)\"/>\n      <path id=\"Arial-BoldMT-6f\" d=\"M 256 1706 \nQ 256 2144 472 2553 \nQ 688 2963 1083 3178 \nQ 1478 3394 1966 3394 \nQ 2719 3394 3200 2905 \nQ 3681 2416 3681 1669 \nQ 3681 916 3195 420 \nQ 2709 -75 1972 -75 \nQ 1516 -75 1102 131 \nQ 688 338 472 736 \nQ 256 1134 256 1706 \nz\nM 1156 1659 \nQ 1156 1166 1390 903 \nQ 1625 641 1969 641 \nQ 2313 641 2545 903 \nQ 2778 1166 2778 1666 \nQ 2778 2153 2545 2415 \nQ 2313 2678 1969 2678 \nQ 1625 2678 1390 2415 \nQ 1156 2153 1156 1659 \nz\n\" transform=\"scale(0.015625)\"/>\n      <path id=\"Arial-BoldMT-6d\" d=\"M 394 3319 \nL 1203 3319 \nL 1203 2866 \nQ 1638 3394 2238 3394 \nQ 2556 3394 2790 3262 \nQ 3025 3131 3175 2866 \nQ 3394 3131 3647 3262 \nQ 3900 3394 4188 3394 \nQ 4553 3394 4806 3245 \nQ 5059 3097 5184 2809 \nQ 5275 2597 5275 2122 \nL 5275 0 \nL 4397 0 \nL 4397 1897 \nQ 4397 2391 4306 2534 \nQ 4184 2722 3931 2722 \nQ 3747 2722 3584 2609 \nQ 3422 2497 3350 2280 \nQ 3278 2063 3278 1594 \nL 3278 0 \nL 2400 0 \nL 2400 1819 \nQ 2400 2303 2353 2443 \nQ 2306 2584 2207 2653 \nQ 2109 2722 1941 2722 \nQ 1738 2722 1575 2612 \nQ 1413 2503 1342 2297 \nQ 1272 2091 1272 1613 \nL 1272 0 \nL 394 0 \nL 394 3319 \nz\n\" transform=\"scale(0.015625)\"/>\n      <path id=\"Arial-BoldMT-70\" d=\"M 434 3319 \nL 1253 3319 \nL 1253 2831 \nQ 1413 3081 1684 3237 \nQ 1956 3394 2288 3394 \nQ 2866 3394 3269 2941 \nQ 3672 2488 3672 1678 \nQ 3672 847 3265 386 \nQ 2859 -75 2281 -75 \nQ 2006 -75 1782 34 \nQ 1559 144 1313 409 \nL 1313 -1263 \nL 434 -1263 \nL 434 3319 \nz\nM 1303 1716 \nQ 1303 1156 1525 889 \nQ 1747 622 2066 622 \nQ 2372 622 2575 867 \nQ 2778 1113 2778 1672 \nQ 2778 2194 2568 2447 \nQ 2359 2700 2050 2700 \nQ 1728 2700 1515 2451 \nQ 1303 2203 1303 1716 \nz\n\" transform=\"scale(0.015625)\"/>\n      <path id=\"Arial-BoldMT-61\" d=\"M 1116 2306 \nL 319 2450 \nQ 453 2931 781 3162 \nQ 1109 3394 1756 3394 \nQ 2344 3394 2631 3255 \nQ 2919 3116 3036 2902 \nQ 3153 2688 3153 2116 \nL 3144 1091 \nQ 3144 653 3186 445 \nQ 3228 238 3344 0 \nL 2475 0 \nQ 2441 88 2391 259 \nQ 2369 338 2359 363 \nQ 2134 144 1878 34 \nQ 1622 -75 1331 -75 \nQ 819 -75 523 203 \nQ 228 481 228 906 \nQ 228 1188 362 1408 \nQ 497 1628 739 1745 \nQ 981 1863 1438 1950 \nQ 2053 2066 2291 2166 \nL 2291 2253 \nQ 2291 2506 2166 2614 \nQ 2041 2722 1694 2722 \nQ 1459 2722 1328 2630 \nQ 1197 2538 1116 2306 \nz\nM 2291 1594 \nQ 2122 1538 1756 1459 \nQ 1391 1381 1278 1306 \nQ 1106 1184 1106 997 \nQ 1106 813 1243 678 \nQ 1381 544 1594 544 \nQ 1831 544 2047 700 \nQ 2206 819 2256 991 \nQ 2291 1103 2291 1419 \nL 2291 1594 \nz\n\" transform=\"scale(0.015625)\"/>\n      <path id=\"Arial-BoldMT-72\" d=\"M 1300 0 \nL 422 0 \nL 422 3319 \nL 1238 3319 \nL 1238 2847 \nQ 1447 3181 1614 3287 \nQ 1781 3394 1994 3394 \nQ 2294 3394 2572 3228 \nL 2300 2463 \nQ 2078 2606 1888 2606 \nQ 1703 2606 1575 2504 \nQ 1447 2403 1373 2137 \nQ 1300 1872 1300 1025 \nL 1300 0 \nz\n\" transform=\"scale(0.015625)\"/>\n      <path id=\"Arial-BoldMT-69\" d=\"M 459 3769 \nL 459 4581 \nL 1338 4581 \nL 1338 3769 \nL 459 3769 \nz\nM 459 0 \nL 459 3319 \nL 1338 3319 \nL 1338 0 \nL 459 0 \nz\n\" transform=\"scale(0.015625)\"/>\n      <path id=\"Arial-BoldMT-73\" d=\"M 150 947 \nL 1031 1081 \nQ 1088 825 1259 692 \nQ 1431 559 1741 559 \nQ 2081 559 2253 684 \nQ 2369 772 2369 919 \nQ 2369 1019 2306 1084 \nQ 2241 1147 2013 1200 \nQ 950 1434 666 1628 \nQ 272 1897 272 2375 \nQ 272 2806 612 3100 \nQ 953 3394 1669 3394 \nQ 2350 3394 2681 3172 \nQ 3013 2950 3138 2516 \nL 2309 2363 \nQ 2256 2556 2107 2659 \nQ 1959 2763 1684 2763 \nQ 1338 2763 1188 2666 \nQ 1088 2597 1088 2488 \nQ 1088 2394 1175 2328 \nQ 1294 2241 1995 2081 \nQ 2697 1922 2975 1691 \nQ 3250 1456 3250 1038 \nQ 3250 581 2869 253 \nQ 2488 -75 1741 -75 \nQ 1063 -75 667 200 \nQ 272 475 150 947 \nz\n\" transform=\"scale(0.015625)\"/>\n      <path id=\"Arial-BoldMT-6e\" d=\"M 3478 0 \nL 2600 0 \nL 2600 1694 \nQ 2600 2231 2544 2389 \nQ 2488 2547 2361 2634 \nQ 2234 2722 2056 2722 \nQ 1828 2722 1647 2597 \nQ 1466 2472 1398 2265 \nQ 1331 2059 1331 1503 \nL 1331 0 \nL 453 0 \nL 453 3319 \nL 1269 3319 \nL 1269 2831 \nQ 1703 3394 2363 3394 \nQ 2653 3394 2893 3289 \nQ 3134 3184 3257 3021 \nQ 3381 2859 3429 2653 \nQ 3478 2447 3478 2063 \nL 3478 0 \nz\n\" transform=\"scale(0.015625)\"/>\n      <path id=\"Arial-BoldMT-20\" transform=\"scale(0.015625)\"/>\n      <path id=\"Arial-BoldMT-66\" d=\"M 75 3319 \nL 563 3319 \nL 563 3569 \nQ 563 3988 652 4194 \nQ 741 4400 980 4529 \nQ 1219 4659 1584 4659 \nQ 1959 4659 2319 4547 \nL 2200 3934 \nQ 1991 3984 1797 3984 \nQ 1606 3984 1523 3895 \nQ 1441 3806 1441 3553 \nL 1441 3319 \nL 2097 3319 \nL 2097 2628 \nL 1441 2628 \nL 1441 0 \nL 563 0 \nL 563 2628 \nL 75 2628 \nL 75 3319 \nz\n\" transform=\"scale(0.015625)\"/>\n      <path id=\"Arial-BoldMT-4b\" d=\"M 478 0 \nL 478 4581 \nL 1403 4581 \nL 1403 2547 \nL 3272 4581 \nL 4516 4581 \nL 2791 2797 \nL 4609 0 \nL 3413 0 \nL 2153 2150 \nL 1403 1384 \nL 1403 0 \nL 478 0 \nz\n\" transform=\"scale(0.015625)\"/>\n      <path id=\"Arial-BoldMT-44\" d=\"M 463 4581 \nL 2153 4581 \nQ 2725 4581 3025 4494 \nQ 3428 4375 3715 4072 \nQ 4003 3769 4153 3330 \nQ 4303 2891 4303 2247 \nQ 4303 1681 4163 1272 \nQ 3991 772 3672 463 \nQ 3431 228 3022 97 \nQ 2716 0 2203 0 \nL 463 0 \nL 463 4581 \nz\nM 1388 3806 \nL 1388 772 \nL 2078 772 \nQ 2466 772 2638 816 \nQ 2863 872 3011 1006 \nQ 3159 1141 3253 1448 \nQ 3347 1756 3347 2288 \nQ 3347 2819 3253 3103 \nQ 3159 3388 2990 3547 \nQ 2822 3706 2563 3763 \nQ 2369 3806 1803 3806 \nL 1388 3806 \nz\n\" transform=\"scale(0.015625)\"/>\n      <path id=\"Arial-BoldMT-45\" d=\"M 466 0 \nL 466 4581 \nL 3863 4581 \nL 3863 3806 \nL 1391 3806 \nL 1391 2791 \nL 3691 2791 \nL 3691 2019 \nL 1391 2019 \nL 1391 772 \nL 3950 772 \nL 3950 0 \nL 466 0 \nz\n\" transform=\"scale(0.015625)\"/>\n      <path id=\"Arial-BoldMT-74\" d=\"M 1981 3319 \nL 1981 2619 \nL 1381 2619 \nL 1381 1281 \nQ 1381 875 1398 808 \nQ 1416 741 1477 697 \nQ 1538 653 1625 653 \nQ 1747 653 1978 738 \nL 2053 56 \nQ 1747 -75 1359 -75 \nQ 1122 -75 931 4 \nQ 741 84 652 211 \nQ 563 338 528 553 \nQ 500 706 500 1172 \nL 500 2619 \nL 97 2619 \nL 97 3319 \nL 500 3319 \nL 500 3978 \nL 1381 4491 \nL 1381 3319 \nL 1981 3319 \nz\n\" transform=\"scale(0.015625)\"/>\n      <path id=\"Arial-BoldMT-62\" d=\"M 422 0 \nL 422 4581 \nL 1300 4581 \nL 1300 2931 \nQ 1706 3394 2263 3394 \nQ 2869 3394 3266 2955 \nQ 3663 2516 3663 1694 \nQ 3663 844 3258 384 \nQ 2853 -75 2275 -75 \nQ 1991 -75 1714 67 \nQ 1438 209 1238 488 \nL 1238 0 \nL 422 0 \nz\nM 1294 1731 \nQ 1294 1216 1456 969 \nQ 1684 619 2063 619 \nQ 2353 619 2558 867 \nQ 2763 1116 2763 1650 \nQ 2763 2219 2556 2470 \nQ 2350 2722 2028 2722 \nQ 1713 2722 1503 2476 \nQ 1294 2231 1294 1731 \nz\n\" transform=\"scale(0.015625)\"/>\n      <path id=\"Arial-BoldMT-75\" d=\"M 2644 0 \nL 2644 497 \nQ 2463 231 2167 78 \nQ 1872 -75 1544 -75 \nQ 1209 -75 943 72 \nQ 678 219 559 484 \nQ 441 750 441 1219 \nL 441 3319 \nL 1319 3319 \nL 1319 1794 \nQ 1319 1094 1367 936 \nQ 1416 778 1544 686 \nQ 1672 594 1869 594 \nQ 2094 594 2272 717 \nQ 2450 841 2515 1023 \nQ 2581 1206 2581 1919 \nL 2581 3319 \nL 3459 3319 \nL 3459 0 \nL 2644 0 \nz\n\" transform=\"scale(0.015625)\"/>\n      <path id=\"Arial-BoldMT-46\" d=\"M 472 0 \nL 472 4581 \nL 3613 4581 \nL 3613 3806 \nL 1397 3806 \nL 1397 2722 \nL 3309 2722 \nL 3309 1947 \nL 1397 1947 \nL 1397 0 \nL 472 0 \nz\n\" transform=\"scale(0.015625)\"/>\n      <path id=\"Arial-BoldMT-64\" d=\"M 3503 0 \nL 2688 0 \nL 2688 488 \nQ 2484 203 2207 64 \nQ 1931 -75 1650 -75 \nQ 1078 -75 670 386 \nQ 263 847 263 1672 \nQ 263 2516 659 2955 \nQ 1056 3394 1663 3394 \nQ 2219 3394 2625 2931 \nL 2625 4581 \nL 3503 4581 \nL 3503 0 \nz\nM 1159 1731 \nQ 1159 1200 1306 963 \nQ 1519 619 1900 619 \nQ 2203 619 2415 876 \nQ 2628 1134 2628 1647 \nQ 2628 2219 2422 2470 \nQ 2216 2722 1894 2722 \nQ 1581 2722 1370 2473 \nQ 1159 2225 1159 1731 \nz\n\" transform=\"scale(0.015625)\"/>\n      <path id=\"Arial-BoldMT-67\" d=\"M 378 -219 \nL 1381 -341 \nQ 1406 -516 1497 -581 \nQ 1622 -675 1891 -675 \nQ 2234 -675 2406 -572 \nQ 2522 -503 2581 -350 \nQ 2622 -241 2622 53 \nL 2622 538 \nQ 2228 0 1628 0 \nQ 959 0 569 566 \nQ 263 1013 263 1678 \nQ 263 2513 664 2953 \nQ 1066 3394 1663 3394 \nQ 2278 3394 2678 2853 \nL 2678 3319 \nL 3500 3319 \nL 3500 341 \nQ 3500 -247 3403 -537 \nQ 3306 -828 3131 -993 \nQ 2956 -1159 2664 -1253 \nQ 2372 -1347 1925 -1347 \nQ 1081 -1347 728 -1058 \nQ 375 -769 375 -325 \nQ 375 -281 378 -219 \nz\nM 1163 1728 \nQ 1163 1200 1367 954 \nQ 1572 709 1872 709 \nQ 2194 709 2416 961 \nQ 2638 1213 2638 1706 \nQ 2638 2222 2425 2472 \nQ 2213 2722 1888 2722 \nQ 1572 2722 1367 2476 \nQ 1163 2231 1163 1728 \nz\n\" transform=\"scale(0.015625)\"/>\n      <path id=\"Arial-BoldMT-55\" d=\"M 459 4581 \nL 1384 4581 \nL 1384 2100 \nQ 1384 1509 1419 1334 \nQ 1478 1053 1701 883 \nQ 1925 713 2313 713 \nQ 2706 713 2906 873 \nQ 3106 1034 3147 1268 \nQ 3188 1503 3188 2047 \nL 3188 4581 \nL 4113 4581 \nL 4113 2175 \nQ 4113 1350 4038 1009 \nQ 3963 669 3761 434 \nQ 3559 200 3221 61 \nQ 2884 -78 2341 -78 \nQ 1684 -78 1345 73 \nQ 1006 225 809 467 \nQ 613 709 550 975 \nQ 459 1369 459 2138 \nL 459 4581 \nz\n\" transform=\"scale(0.015625)\"/>\n      <path id=\"Arial-BoldMT-65\" d=\"M 2381 1056 \nL 3256 909 \nQ 3088 428 2723 176 \nQ 2359 -75 1813 -75 \nQ 947 -75 531 491 \nQ 203 944 203 1634 \nQ 203 2459 634 2926 \nQ 1066 3394 1725 3394 \nQ 2466 3394 2894 2905 \nQ 3322 2416 3303 1406 \nL 1103 1406 \nQ 1113 1016 1316 798 \nQ 1519 581 1822 581 \nQ 2028 581 2168 693 \nQ 2309 806 2381 1056 \nz\nM 2431 1944 \nQ 2422 2325 2234 2523 \nQ 2047 2722 1778 2722 \nQ 1491 2722 1303 2513 \nQ 1116 2303 1119 1944 \nL 2431 1944 \nz\n\" transform=\"scale(0.015625)\"/>\n      <path id=\"Arial-BoldMT-28\" d=\"M 1916 -1347 \nL 1313 -1347 \nQ 834 -625 584 153 \nQ 334 931 334 1659 \nQ 334 2563 644 3369 \nQ 913 4069 1325 4659 \nL 1925 4659 \nQ 1497 3713 1336 3048 \nQ 1175 2384 1175 1641 \nQ 1175 1128 1270 590 \nQ 1366 53 1531 -431 \nQ 1641 -750 1916 -1347 \nz\n\" transform=\"scale(0.015625)\"/>\n      <path id=\"Arial-BoldMT-32\" d=\"M 3238 816 \nL 3238 0 \nL 159 0 \nQ 209 463 459 877 \nQ 709 1291 1447 1975 \nQ 2041 2528 2175 2725 \nQ 2356 2997 2356 3263 \nQ 2356 3556 2198 3714 \nQ 2041 3872 1763 3872 \nQ 1488 3872 1325 3706 \nQ 1163 3541 1138 3156 \nL 263 3244 \nQ 341 3969 753 4284 \nQ 1166 4600 1784 4600 \nQ 2463 4600 2850 4234 \nQ 3238 3869 3238 3325 \nQ 3238 3016 3127 2736 \nQ 3016 2456 2775 2150 \nQ 2616 1947 2200 1565 \nQ 1784 1184 1673 1059 \nQ 1563 934 1494 816 \nL 3238 816 \nz\n\" transform=\"scale(0.015625)\"/>\n      <path id=\"Arial-BoldMT-30\" d=\"M 1756 4600 \nQ 2422 4600 2797 4125 \nQ 3244 3563 3244 2259 \nQ 3244 959 2794 391 \nQ 2422 -78 1756 -78 \nQ 1088 -78 678 436 \nQ 269 950 269 2269 \nQ 269 3563 719 4131 \nQ 1091 4600 1756 4600 \nz\nM 1756 3872 \nQ 1597 3872 1472 3770 \nQ 1347 3669 1278 3406 \nQ 1188 3066 1188 2259 \nQ 1188 1453 1269 1151 \nQ 1350 850 1473 750 \nQ 1597 650 1756 650 \nQ 1916 650 2041 751 \nQ 2166 853 2234 1116 \nQ 2325 1453 2325 2259 \nQ 2325 3066 2244 3367 \nQ 2163 3669 2039 3770 \nQ 1916 3872 1756 3872 \nz\n\" transform=\"scale(0.015625)\"/>\n      <path id=\"Arial-BoldMT-31\" d=\"M 2519 0 \nL 1641 0 \nL 1641 3309 \nQ 1159 2859 506 2644 \nL 506 3441 \nQ 850 3553 1253 3867 \nQ 1656 4181 1806 4600 \nL 2519 4600 \nL 2519 0 \nz\n\" transform=\"scale(0.015625)\"/>\n      <path id=\"Arial-BoldMT-35\" d=\"M 284 1178 \nL 1159 1269 \nQ 1197 972 1381 798 \nQ 1566 625 1806 625 \nQ 2081 625 2272 848 \nQ 2463 1072 2463 1522 \nQ 2463 1944 2273 2155 \nQ 2084 2366 1781 2366 \nQ 1403 2366 1103 2031 \nL 391 2134 \nL 841 4519 \nL 3163 4519 \nL 3163 3697 \nL 1506 3697 \nL 1369 2919 \nQ 1663 3066 1969 3066 \nQ 2553 3066 2959 2641 \nQ 3366 2216 3366 1538 \nQ 3366 972 3038 528 \nQ 2591 -78 1797 -78 \nQ 1163 -78 763 262 \nQ 363 603 284 1178 \nz\n\" transform=\"scale(0.015625)\"/>\n      <path id=\"Arial-BoldMT-76\" d=\"M 1372 0 \nL 34 3319 \nL 956 3319 \nL 1581 1625 \nL 1763 1059 \nQ 1834 1275 1853 1344 \nQ 1897 1484 1947 1625 \nL 2578 3319 \nL 3481 3319 \nL 2163 0 \nL 1372 0 \nz\n\" transform=\"scale(0.015625)\"/>\n      <path id=\"Arial-BoldMT-2e\" d=\"M 459 0 \nL 459 878 \nL 1338 878 \nL 1338 0 \nL 459 0 \nz\n\" transform=\"scale(0.015625)\"/>\n      <path id=\"Arial-BoldMT-36\" d=\"M 3247 3459 \nL 2397 3366 \nQ 2366 3628 2234 3753 \nQ 2103 3878 1894 3878 \nQ 1616 3878 1423 3628 \nQ 1231 3378 1181 2588 \nQ 1509 2975 1997 2975 \nQ 2547 2975 2939 2556 \nQ 3331 2138 3331 1475 \nQ 3331 772 2918 347 \nQ 2506 -78 1859 -78 \nQ 1166 -78 719 461 \nQ 272 1000 272 2228 \nQ 272 3488 737 4044 \nQ 1203 4600 1947 4600 \nQ 2469 4600 2811 4308 \nQ 3153 4016 3247 3459 \nz\nM 1256 1544 \nQ 1256 1116 1453 883 \nQ 1650 650 1903 650 \nQ 2147 650 2309 840 \nQ 2472 1031 2472 1466 \nQ 2472 1913 2297 2120 \nQ 2122 2328 1859 2328 \nQ 1606 2328 1431 2129 \nQ 1256 1931 1256 1544 \nz\n\" transform=\"scale(0.015625)\"/>\n      <path id=\"Arial-BoldMT-29\" d=\"M 216 -1347 \nQ 475 -791 581 -494 \nQ 688 -197 778 190 \nQ 869 578 912 926 \nQ 956 1275 956 1641 \nQ 956 2384 797 3048 \nQ 638 3713 209 4659 \nL 806 4659 \nQ 1278 3988 1539 3234 \nQ 1800 2481 1800 1706 \nQ 1800 1053 1594 306 \nQ 1359 -531 822 -1347 \nL 216 -1347 \nz\n\" transform=\"scale(0.015625)\"/>\n     </defs>\n     <use xlink:href=\"#Arial-BoldMT-43\"/>\n     <use xlink:href=\"#Arial-BoldMT-6f\" x=\"72.216797\"/>\n     <use xlink:href=\"#Arial-BoldMT-6d\" x=\"133.300781\"/>\n     <use xlink:href=\"#Arial-BoldMT-70\" x=\"222.216797\"/>\n     <use xlink:href=\"#Arial-BoldMT-61\" x=\"283.300781\"/>\n     <use xlink:href=\"#Arial-BoldMT-72\" x=\"338.916016\"/>\n     <use xlink:href=\"#Arial-BoldMT-69\" x=\"377.832031\"/>\n     <use xlink:href=\"#Arial-BoldMT-73\" x=\"405.615234\"/>\n     <use xlink:href=\"#Arial-BoldMT-6f\" x=\"461.230469\"/>\n     <use xlink:href=\"#Arial-BoldMT-6e\" x=\"522.314453\"/>\n     <use xlink:href=\"#Arial-BoldMT-20\" x=\"583.398438\"/>\n     <use xlink:href=\"#Arial-BoldMT-6f\" x=\"611.181641\"/>\n     <use xlink:href=\"#Arial-BoldMT-66\" x=\"672.265625\"/>\n     <use xlink:href=\"#Arial-BoldMT-20\" x=\"705.566406\"/>\n     <use xlink:href=\"#Arial-BoldMT-4b\" x=\"733.349609\"/>\n     <use xlink:href=\"#Arial-BoldMT-44\" x=\"805.566406\"/>\n     <use xlink:href=\"#Arial-BoldMT-45\" x=\"877.783203\"/>\n     <use xlink:href=\"#Arial-BoldMT-20\" x=\"944.482422\"/>\n     <use xlink:href=\"#Arial-BoldMT-44\" x=\"972.265625\"/>\n     <use xlink:href=\"#Arial-BoldMT-69\" x=\"1044.482422\"/>\n     <use xlink:href=\"#Arial-BoldMT-73\" x=\"1072.265625\"/>\n     <use xlink:href=\"#Arial-BoldMT-74\" x=\"1127.880859\"/>\n     <use xlink:href=\"#Arial-BoldMT-72\" x=\"1161.181641\"/>\n     <use xlink:href=\"#Arial-BoldMT-69\" x=\"1200.097656\"/>\n     <use xlink:href=\"#Arial-BoldMT-62\" x=\"1227.880859\"/>\n     <use xlink:href=\"#Arial-BoldMT-75\" x=\"1288.964844\"/>\n     <use xlink:href=\"#Arial-BoldMT-74\" x=\"1350.048828\"/>\n     <use xlink:href=\"#Arial-BoldMT-69\" x=\"1383.349609\"/>\n     <use xlink:href=\"#Arial-BoldMT-6f\" x=\"1411.132812\"/>\n     <use xlink:href=\"#Arial-BoldMT-6e\" x=\"1472.216797\"/>\n     <use xlink:href=\"#Arial-BoldMT-73\" x=\"1533.300781\"/>\n     <use xlink:href=\"#Arial-BoldMT-20\" x=\"1588.916016\"/>\n     <use xlink:href=\"#Arial-BoldMT-66\" x=\"1616.699219\"/>\n     <use xlink:href=\"#Arial-BoldMT-6f\" x=\"1650\"/>\n     <use xlink:href=\"#Arial-BoldMT-72\" x=\"1711.083984\"/>\n     <use xlink:href=\"#Arial-BoldMT-20\" x=\"1750\"/>\n     <use xlink:href=\"#Arial-BoldMT-46\" x=\"1777.783203\"/>\n     <use xlink:href=\"#Arial-BoldMT-61\" x=\"1838.867188\"/>\n     <use xlink:href=\"#Arial-BoldMT-6e\" x=\"1894.482422\"/>\n     <use xlink:href=\"#Arial-BoldMT-64\" x=\"1955.566406\"/>\n     <use xlink:href=\"#Arial-BoldMT-61\" x=\"2016.650391\"/>\n     <use xlink:href=\"#Arial-BoldMT-6e\" x=\"2072.265625\"/>\n     <use xlink:href=\"#Arial-BoldMT-67\" x=\"2133.349609\"/>\n     <use xlink:href=\"#Arial-BoldMT-6f\" x=\"2194.433594\"/>\n     <use xlink:href=\"#Arial-BoldMT-20\" x=\"2255.517578\"/>\n     <use xlink:href=\"#Arial-BoldMT-55\" x=\"2283.300781\"/>\n     <use xlink:href=\"#Arial-BoldMT-73\" x=\"2355.517578\"/>\n     <use xlink:href=\"#Arial-BoldMT-65\" x=\"2411.132812\"/>\n     <use xlink:href=\"#Arial-BoldMT-72\" x=\"2466.748047\"/>\n     <use xlink:href=\"#Arial-BoldMT-20\" x=\"2505.664062\"/>\n     <use xlink:href=\"#Arial-BoldMT-72\" x=\"2533.447266\"/>\n     <use xlink:href=\"#Arial-BoldMT-61\" x=\"2572.363281\"/>\n     <use xlink:href=\"#Arial-BoldMT-74\" x=\"2627.978516\"/>\n     <use xlink:href=\"#Arial-BoldMT-69\" x=\"2661.279297\"/>\n     <use xlink:href=\"#Arial-BoldMT-6e\" x=\"2689.0625\"/>\n     <use xlink:href=\"#Arial-BoldMT-67\" x=\"2750.146484\"/>\n     <use xlink:href=\"#Arial-BoldMT-73\" x=\"2811.230469\"/>\n     <use xlink:href=\"#Arial-BoldMT-20\" x=\"2866.845703\"/>\n     <use xlink:href=\"#Arial-BoldMT-28\" x=\"2894.628906\"/>\n     <use xlink:href=\"#Arial-BoldMT-32\" x=\"2927.929688\"/>\n     <use xlink:href=\"#Arial-BoldMT-30\" x=\"2983.544922\"/>\n     <use xlink:href=\"#Arial-BoldMT-31\" x=\"3039.160156\"/>\n     <use xlink:href=\"#Arial-BoldMT-35\" x=\"3094.775391\"/>\n     <use xlink:href=\"#Arial-BoldMT-20\" x=\"3150.390625\"/>\n     <use xlink:href=\"#Arial-BoldMT-76\" x=\"3178.173828\"/>\n     <use xlink:href=\"#Arial-BoldMT-73\" x=\"3233.789062\"/>\n     <use xlink:href=\"#Arial-BoldMT-2e\" x=\"3289.404297\"/>\n     <use xlink:href=\"#Arial-BoldMT-20\" x=\"3317.1875\"/>\n     <use xlink:href=\"#Arial-BoldMT-32\" x=\"3344.970703\"/>\n     <use xlink:href=\"#Arial-BoldMT-30\" x=\"3400.585938\"/>\n     <use xlink:href=\"#Arial-BoldMT-31\" x=\"3456.201172\"/>\n     <use xlink:href=\"#Arial-BoldMT-36\" x=\"3511.816406\"/>\n     <use xlink:href=\"#Arial-BoldMT-29\" x=\"3567.431641\"/>\n    </g>\n   </g>\n   <g id=\"legend_1\">\n    <g id=\"patch_7\">\n     <path d=\"M 649.336875 63.31125 \nL 709.005 63.31125 \nQ 711.205 63.31125 711.205 61.11125 \nL 711.205 31.091562 \nQ 711.205 28.891562 709.005 28.891562 \nL 649.336875 28.891562 \nQ 647.136875 28.891562 647.136875 31.091562 \nL 647.136875 61.11125 \nQ 647.136875 63.31125 649.336875 63.31125 \nz\n\" style=\"fill: #eaeaf2; opacity: 0.8; stroke: #cccccc; stroke-linejoin: miter\"/>\n    </g>\n    <g id=\"patch_8\">\n     <path d=\"M 651.536875 41.165156 \nL 673.536875 41.165156 \nL 673.536875 33.465156 \nL 651.536875 33.465156 \nz\n\" style=\"fill: #4c72b0; fill-opacity: 0.4; stroke: #4c72b0; stroke-linejoin: miter\"/>\n    </g>\n    <g id=\"text_20\">\n     <!-- 2015 -->\n     <g style=\"fill: #262626\" transform=\"translate(682.336875 41.165156)scale(0.11 -0.11)\">\n      <use xlink:href=\"#ArialMT-32\"/>\n      <use xlink:href=\"#ArialMT-30\" x=\"55.615234\"/>\n      <use xlink:href=\"#ArialMT-31\" x=\"111.230469\"/>\n      <use xlink:href=\"#ArialMT-35\" x=\"166.845703\"/>\n     </g>\n    </g>\n    <g id=\"patch_9\">\n     <path d=\"M 651.536875 56.725 \nL 673.536875 56.725 \nL 673.536875 49.025 \nL 651.536875 49.025 \nz\n\" style=\"fill: #dd8452; fill-opacity: 0.4; stroke: #dd8452; stroke-linejoin: miter\"/>\n    </g>\n    <g id=\"text_21\">\n     <!-- 2016 -->\n     <g style=\"fill: #262626\" transform=\"translate(682.336875 56.725)scale(0.11 -0.11)\">\n      <use xlink:href=\"#ArialMT-32\"/>\n      <use xlink:href=\"#ArialMT-30\" x=\"55.615234\"/>\n      <use xlink:href=\"#ArialMT-31\" x=\"111.230469\"/>\n      <use xlink:href=\"#ArialMT-36\" x=\"166.845703\"/>\n     </g>\n    </g>\n   </g>\n  </g>\n </g>\n <defs>\n  <clipPath id=\"pdc2d446a2c\">\n   <rect x=\"47.105\" y=\"23.391562\" width=\"669.6\" height=\"434.88\"/>\n  </clipPath>\n </defs>\n</svg>\n",
      "text/plain": [
       "<Figure size 864x576 with 1 Axes>"
      ]
     },
     "metadata": {},
     "output_type": "display_data"
    }
   ],
   "source": [
    "sns.set_theme()\n",
    "plt.figure(figsize=(12,8))\n",
    "sns.kdeplot(x = 'Fandango_Stars', data = fandango_2015, fill=True, alpha= 0.4, label='2015')\n",
    "sns.kdeplot(x = 'fandango', data = fandango_2016, fill=True,  alpha = 0.4, label='2016')\n",
    "\n",
    "plt.xlim(0,5)\n",
    "plt.xticks(np.arange(0,5.1,.5))\n",
    "plt.xlabel('Fandango User Ratings')\n",
    "plt.title('Comparison of KDE Distributions for Fandango User ratings (2015 vs. 2016)', fontsize=14, fontweight=\"bold\")\n",
    "plt.legend()\n",
    "plt.show()"
   ]
  },
  {
   "cell_type": "markdown",
   "metadata": {},
   "source": [
    "Based on this first inspection it does look like Fandango has altered it's rating system.\n",
    "\n",
    "The peak of the distribution has been shifted from `4.5` to `4.0` in 2016 and the distribution overall is less left-skewed. There are also a greater density at the lower end (~`2.5`) of the ratings."
   ]
  },
  {
   "cell_type": "markdown",
   "metadata": {},
   "source": [
    "## Relative Frequency"
   ]
  },
  {
   "cell_type": "markdown",
   "metadata": {},
   "source": [
    "We will need to analyze the data more granularly before we can draw any firm conclusions.\n",
    "\n",
    "We will start by comparing the frequency distributions of the two datasets"
   ]
  },
  {
   "cell_type": "code",
   "execution_count": 301,
   "metadata": {},
   "outputs": [
    {
     "data": {
      "text/plain": [
       "5.0     9\n",
       "4.5    49\n",
       "4.0    37\n",
       "3.5    23\n",
       "3.0    11\n",
       "Name: Fandango_Stars, dtype: int64"
      ]
     },
     "metadata": {},
     "output_type": "display_data"
    },
    {
     "data": {
      "text/plain": [
       "129"
      ]
     },
     "metadata": {},
     "output_type": "display_data"
    },
    {
     "data": {
      "text/plain": [
       "5.0     1\n",
       "4.5    47\n",
       "4.0    77\n",
       "3.5    46\n",
       "3.0    14\n",
       "2.5     6\n",
       "Name: fandango, dtype: int64"
      ]
     },
     "metadata": {},
     "output_type": "display_data"
    },
    {
     "data": {
      "text/plain": [
       "191"
      ]
     },
     "metadata": {},
     "output_type": "display_data"
    }
   ],
   "source": [
    "display(fandango_2015['Fandango_Stars'].value_counts().sort_index(ascending=False))\n",
    "display(fandango_2015['Fandango_Stars'].count())\n",
    "display(fandango_2016['fandango'].value_counts().sort_index(ascending=False))\n",
    "display(fandango_2016['fandango'].count())"
   ]
  },
  {
   "cell_type": "markdown",
   "metadata": {},
   "source": [
    "The samples contain different nr. of movies for the different ratings. Due to this difference we will use relative frequency rather than absolute frequency."
   ]
  },
  {
   "cell_type": "code",
   "execution_count": 302,
   "metadata": {},
   "outputs": [
    {
     "data": {
      "text/plain": [
       "5.0     6.976744\n",
       "4.5    37.984496\n",
       "4.0    28.682171\n",
       "3.5    17.829457\n",
       "3.0     8.527132\n",
       "Name: Fandango_Stars, dtype: float64"
      ]
     },
     "metadata": {},
     "output_type": "display_data"
    },
    {
     "data": {
      "text/plain": [
       "5.0     0.523560\n",
       "4.5    24.607330\n",
       "4.0    40.314136\n",
       "3.5    24.083770\n",
       "3.0     7.329843\n",
       "2.5     3.141361\n",
       "Name: fandango, dtype: float64"
      ]
     },
     "metadata": {},
     "output_type": "display_data"
    }
   ],
   "source": [
    "display(fandango_2015['Fandango_Stars'].value_counts(normalize=True).sort_index(ascending=False) * 100)\n",
    "display(fandango_2016['fandango'].value_counts(normalize=True).sort_index(ascending=False) * 100)"
   ]
  },
  {
   "cell_type": "markdown",
   "metadata": {},
   "source": [
    "We can see that the percentage of five-star ratings have gone from ~7% in 2015 to around 0.5% in 2016. The percentage of 4.5 ratings have declined and the 4.0 ratings have increased. There is also around 3% 2.5 ratings in 2016 compared to 2015 when there was none.\n",
    "\n",
    "The direction of change seems to be towards lower scores. The direction is not entirely clear from the relative frequency since the frequency for 4.0 and 3.5 ratings have gone up."
   ]
  },
  {
   "cell_type": "markdown",
   "metadata": {},
   "source": [
    "## Direction of Change"
   ]
  },
  {
   "cell_type": "markdown",
   "metadata": {},
   "source": [
    "We will get more precise details about the direction of the change from 2015 to 2016"
   ]
  },
  {
   "cell_type": "code",
   "execution_count": 303,
   "metadata": {},
   "outputs": [
    {
     "name": "stdout",
     "output_type": "stream",
     "text": [
      "2015 Mean: 4.0852713178294575\n",
      "2015 Median: 4.0\n",
      "2015 Mode: 0    4.5\n",
      "dtype: float64, \n",
      "\n",
      "2016 Mean: 3.887434554973822\n",
      "2016 Median: 4.0\n",
      "2016 Mode: 0    4.0\n",
      "dtype: float64\n"
     ]
    }
   ],
   "source": [
    "print(f\"2015 Mean: {fandango_2015['Fandango_Stars'].mean()}\")\n",
    "print(f\"2015 Median: {fandango_2015['Fandango_Stars'].median()}\")\n",
    "print(f\"2015 Mode: {fandango_2015['Fandango_Stars'].mode()}, \\n\")\n",
    "\n",
    "print(f\"2016 Mean: {fandango_2016['fandango'].mean()}\")\n",
    "print(f\"2016 Median: {fandango_2016['fandango'].median()}\")\n",
    "print(f\"2016 Mode: {fandango_2016['fandango'].mode()}\")\n"
   ]
  },
  {
   "cell_type": "markdown",
   "metadata": {},
   "source": [
    "- The mean value have gone down from 2015 to 2016 but only very slightly.  \n",
    "- The median, or middle value, have not changed.  \n",
    "- The mode, or most common values, have gone down from 4.5 to 4.0.\n",
    "\n",
    "There is a direction of change towards lower scores still, but it is a small one. Let's plot the statistics above to get a better view."
   ]
  },
  {
   "cell_type": "code",
   "execution_count": 304,
   "metadata": {},
   "outputs": [
    {
     "data": {
      "text/html": [
       "<div>\n",
       "<style scoped>\n",
       "    .dataframe tbody tr th:only-of-type {\n",
       "        vertical-align: middle;\n",
       "    }\n",
       "\n",
       "    .dataframe tbody tr th {\n",
       "        vertical-align: top;\n",
       "    }\n",
       "\n",
       "    .dataframe thead th {\n",
       "        text-align: right;\n",
       "    }\n",
       "</style>\n",
       "<table border=\"1\" class=\"dataframe\">\n",
       "  <thead>\n",
       "    <tr style=\"text-align: right;\">\n",
       "      <th></th>\n",
       "      <th>2015</th>\n",
       "      <th>2016</th>\n",
       "    </tr>\n",
       "  </thead>\n",
       "  <tbody>\n",
       "    <tr>\n",
       "      <th>mean</th>\n",
       "      <td>4.085271</td>\n",
       "      <td>3.887435</td>\n",
       "    </tr>\n",
       "    <tr>\n",
       "      <th>median</th>\n",
       "      <td>4.000000</td>\n",
       "      <td>4.000000</td>\n",
       "    </tr>\n",
       "    <tr>\n",
       "      <th>mode</th>\n",
       "      <td>4.500000</td>\n",
       "      <td>4.000000</td>\n",
       "    </tr>\n",
       "  </tbody>\n",
       "</table>\n",
       "</div>"
      ],
      "text/plain": [
       "            2015      2016\n",
       "mean    4.085271  3.887435\n",
       "median  4.000000  4.000000\n",
       "mode    4.500000  4.000000"
      ]
     },
     "execution_count": 304,
     "metadata": {},
     "output_type": "execute_result"
    }
   ],
   "source": [
    "stat_2015 = pd.DataFrame({'mean': fandango_2015['Fandango_Stars'].mean(),\n",
    "                          'median': fandango_2015['Fandango_Stars'].median(),\n",
    "                          'mode' : fandango_2015['Fandango_Stars'].mode()\n",
    "                         }\n",
    "                        )\n",
    "stat_2016 = pd.DataFrame({'mean': fandango_2016['fandango'].mean(),\n",
    "                          'median': fandango_2016['fandango'].median(),\n",
    "                          'mode' : fandango_2016['fandango'].mode()\n",
    "                         }\n",
    "                        )\n",
    "stats = pd.concat([stat_2015, stat_2016])\n",
    "stats.index = ['2015', '2016']\n",
    "stats = stats.T\n",
    "stats"
   ]
  },
  {
   "cell_type": "code",
   "execution_count": 305,
   "metadata": {},
   "outputs": [
    {
     "data": {
      "image/png": "[encoded data removed]",
      "image/svg+xml": "<?xml version=\"1.0\" encoding=\"utf-8\" standalone=\"no\"?>\n<!DOCTYPE svg PUBLIC \"-//W3C//DTD SVG 1.1//EN\"\n  \"http://www.w3.org/Graphics/SVG/1.1/DTD/svg11.dtd\">\n<svg xmlns:xlink=\"http://www.w3.org/1999/xlink\" width=\"708.79pt\" height=\"472.776641pt\" viewBox=\"0 0 708.79 472.776641\" xmlns=\"http://www.w3.org/2000/svg\" version=\"1.1\">\n <metadata>\n  <rdf:RDF xmlns:dc=\"http://purl.org/dc/elements/1.1/\" xmlns:cc=\"http://creativecommons.org/ns#\" xmlns:rdf=\"http://www.w3.org/1999/02/22-rdf-syntax-ns#\">\n   <cc:Work>\n    <dc:type rdf:resource=\"http://purl.org/dc/dcmitype/StillImage\"/>\n    <dc:date>2022-02-06T11:59:07.068272</dc:date>\n    <dc:format>image/svg+xml</dc:format>\n    <dc:creator>\n     <cc:Agent>\n      <dc:title>Matplotlib v3.5.0, https://matplotlib.org/</dc:title>\n     </cc:Agent>\n    </dc:creator>\n   </cc:Work>\n  </rdf:RDF>\n </metadata>\n <defs>\n  <style type=\"text/css\">*{stroke-linejoin: round; stroke-linecap: butt}</style>\n </defs>\n <g id=\"figure_1\">\n  <g id=\"patch_1\">\n   <path d=\"M 0 472.776641 \nL 708.79 472.776641 \nL 708.79 0 \nL 0 0 \nz\n\" style=\"fill: #ffffff\"/>\n  </g>\n  <g id=\"axes_1\">\n   <g id=\"patch_2\">\n    <path d=\"M 31.99 446.016797 \nL 701.59 446.016797 \nL 701.59 11.136797 \nL 31.99 11.136797 \nz\n\" style=\"fill: #eaeaf2\"/>\n   </g>\n   <g id=\"matplotlib.axis_1\">\n    <g id=\"xtick_1\">\n     <g id=\"line2d_1\">\n      <path d=\"M 143.59 446.016797 \nL 143.59 11.136797 \n\" clip-path=\"url(#p0b14d5bc0e)\" style=\"fill: none; stroke: #ffffff; stroke-linecap: round\"/>\n     </g>\n     <g id=\"text_1\">\n      <!-- mean -->\n      <g style=\"fill: #262626\" transform=\"translate(129.833125 463.390391)scale(0.11 -0.11)\">\n       <defs>\n        <path id=\"ArialMT-6d\" d=\"M 422 0 \nL 422 3319 \nL 925 3319 \nL 925 2853 \nQ 1081 3097 1340 3245 \nQ 1600 3394 1931 3394 \nQ 2300 3394 2536 3241 \nQ 2772 3088 2869 2813 \nQ 3263 3394 3894 3394 \nQ 4388 3394 4653 3120 \nQ 4919 2847 4919 2278 \nL 4919 0 \nL 4359 0 \nL 4359 2091 \nQ 4359 2428 4304 2576 \nQ 4250 2725 4106 2815 \nQ 3963 2906 3769 2906 \nQ 3419 2906 3187 2673 \nQ 2956 2441 2956 1928 \nL 2956 0 \nL 2394 0 \nL 2394 2156 \nQ 2394 2531 2256 2718 \nQ 2119 2906 1806 2906 \nQ 1569 2906 1367 2781 \nQ 1166 2656 1075 2415 \nQ 984 2175 984 1722 \nL 984 0 \nL 422 0 \nz\n\" transform=\"scale(0.015625)\"/>\n        <path id=\"ArialMT-65\" d=\"M 2694 1069 \nL 3275 997 \nQ 3138 488 2766 206 \nQ 2394 -75 1816 -75 \nQ 1088 -75 661 373 \nQ 234 822 234 1631 \nQ 234 2469 665 2931 \nQ 1097 3394 1784 3394 \nQ 2450 3394 2872 2941 \nQ 3294 2488 3294 1666 \nQ 3294 1616 3291 1516 \nL 816 1516 \nQ 847 969 1125 678 \nQ 1403 388 1819 388 \nQ 2128 388 2347 550 \nQ 2566 713 2694 1069 \nz\nM 847 1978 \nL 2700 1978 \nQ 2663 2397 2488 2606 \nQ 2219 2931 1791 2931 \nQ 1403 2931 1139 2672 \nQ 875 2413 847 1978 \nz\n\" transform=\"scale(0.015625)\"/>\n        <path id=\"ArialMT-61\" d=\"M 2588 409 \nQ 2275 144 1986 34 \nQ 1697 -75 1366 -75 \nQ 819 -75 525 192 \nQ 231 459 231 875 \nQ 231 1119 342 1320 \nQ 453 1522 633 1644 \nQ 813 1766 1038 1828 \nQ 1203 1872 1538 1913 \nQ 2219 1994 2541 2106 \nQ 2544 2222 2544 2253 \nQ 2544 2597 2384 2738 \nQ 2169 2928 1744 2928 \nQ 1347 2928 1158 2789 \nQ 969 2650 878 2297 \nL 328 2372 \nQ 403 2725 575 2942 \nQ 747 3159 1072 3276 \nQ 1397 3394 1825 3394 \nQ 2250 3394 2515 3294 \nQ 2781 3194 2906 3042 \nQ 3031 2891 3081 2659 \nQ 3109 2516 3109 2141 \nL 3109 1391 \nQ 3109 606 3145 398 \nQ 3181 191 3288 0 \nL 2700 0 \nQ 2613 175 2588 409 \nz\nM 2541 1666 \nQ 2234 1541 1622 1453 \nQ 1275 1403 1131 1340 \nQ 988 1278 909 1158 \nQ 831 1038 831 891 \nQ 831 666 1001 516 \nQ 1172 366 1500 366 \nQ 1825 366 2078 508 \nQ 2331 650 2450 897 \nQ 2541 1088 2541 1459 \nL 2541 1666 \nz\n\" transform=\"scale(0.015625)\"/>\n        <path id=\"ArialMT-6e\" d=\"M 422 0 \nL 422 3319 \nL 928 3319 \nL 928 2847 \nQ 1294 3394 1984 3394 \nQ 2284 3394 2536 3286 \nQ 2788 3178 2913 3003 \nQ 3038 2828 3088 2588 \nQ 3119 2431 3119 2041 \nL 3119 0 \nL 2556 0 \nL 2556 2019 \nQ 2556 2363 2490 2533 \nQ 2425 2703 2258 2804 \nQ 2091 2906 1866 2906 \nQ 1506 2906 1245 2678 \nQ 984 2450 984 1813 \nL 984 0 \nL 422 0 \nz\n\" transform=\"scale(0.015625)\"/>\n       </defs>\n       <use xlink:href=\"#ArialMT-6d\"/>\n       <use xlink:href=\"#ArialMT-65\" x=\"83.300781\"/>\n       <use xlink:href=\"#ArialMT-61\" x=\"138.916016\"/>\n       <use xlink:href=\"#ArialMT-6e\" x=\"194.53125\"/>\n      </g>\n     </g>\n    </g>\n    <g id=\"xtick_2\">\n     <g id=\"line2d_2\">\n      <path d=\"M 366.79 446.016797 \nL 366.79 11.136797 \n\" clip-path=\"url(#p0b14d5bc0e)\" style=\"fill: none; stroke: #ffffff; stroke-linecap: round\"/>\n     </g>\n     <g id=\"text_2\">\n      <!-- median -->\n      <g style=\"fill: #262626\" transform=\"translate(348.752578 463.390391)scale(0.11 -0.11)\">\n       <defs>\n        <path id=\"ArialMT-64\" d=\"M 2575 0 \nL 2575 419 \nQ 2259 -75 1647 -75 \nQ 1250 -75 917 144 \nQ 584 363 401 755 \nQ 219 1147 219 1656 \nQ 219 2153 384 2558 \nQ 550 2963 881 3178 \nQ 1213 3394 1622 3394 \nQ 1922 3394 2156 3267 \nQ 2391 3141 2538 2938 \nL 2538 4581 \nL 3097 4581 \nL 3097 0 \nL 2575 0 \nz\nM 797 1656 \nQ 797 1019 1065 703 \nQ 1334 388 1700 388 \nQ 2069 388 2326 689 \nQ 2584 991 2584 1609 \nQ 2584 2291 2321 2609 \nQ 2059 2928 1675 2928 \nQ 1300 2928 1048 2622 \nQ 797 2316 797 1656 \nz\n\" transform=\"scale(0.015625)\"/>\n        <path id=\"ArialMT-69\" d=\"M 425 3934 \nL 425 4581 \nL 988 4581 \nL 988 3934 \nL 425 3934 \nz\nM 425 0 \nL 425 3319 \nL 988 3319 \nL 988 0 \nL 425 0 \nz\n\" transform=\"scale(0.015625)\"/>\n       </defs>\n       <use xlink:href=\"#ArialMT-6d\"/>\n       <use xlink:href=\"#ArialMT-65\" x=\"83.300781\"/>\n       <use xlink:href=\"#ArialMT-64\" x=\"138.916016\"/>\n       <use xlink:href=\"#ArialMT-69\" x=\"194.53125\"/>\n       <use xlink:href=\"#ArialMT-61\" x=\"216.748047\"/>\n       <use xlink:href=\"#ArialMT-6e\" x=\"272.363281\"/>\n      </g>\n     </g>\n    </g>\n    <g id=\"xtick_3\">\n     <g id=\"line2d_3\">\n      <path d=\"M 589.99 446.016797 \nL 589.99 11.136797 \n\" clip-path=\"url(#p0b14d5bc0e)\" style=\"fill: none; stroke: #ffffff; stroke-linecap: round\"/>\n     </g>\n     <g id=\"text_3\">\n      <!-- mode -->\n      <g style=\"fill: #262626\" transform=\"translate(576.233125 463.390391)scale(0.11 -0.11)\">\n       <defs>\n        <path id=\"ArialMT-6f\" d=\"M 213 1659 \nQ 213 2581 725 3025 \nQ 1153 3394 1769 3394 \nQ 2453 3394 2887 2945 \nQ 3322 2497 3322 1706 \nQ 3322 1066 3130 698 \nQ 2938 331 2570 128 \nQ 2203 -75 1769 -75 \nQ 1072 -75 642 372 \nQ 213 819 213 1659 \nz\nM 791 1659 \nQ 791 1022 1069 705 \nQ 1347 388 1769 388 \nQ 2188 388 2466 706 \nQ 2744 1025 2744 1678 \nQ 2744 2294 2464 2611 \nQ 2184 2928 1769 2928 \nQ 1347 2928 1069 2612 \nQ 791 2297 791 1659 \nz\n\" transform=\"scale(0.015625)\"/>\n       </defs>\n       <use xlink:href=\"#ArialMT-6d\"/>\n       <use xlink:href=\"#ArialMT-6f\" x=\"83.300781\"/>\n       <use xlink:href=\"#ArialMT-64\" x=\"138.916016\"/>\n       <use xlink:href=\"#ArialMT-65\" x=\"194.53125\"/>\n      </g>\n     </g>\n    </g>\n   </g>\n   <g id=\"matplotlib.axis_2\">\n    <g id=\"ytick_1\">\n     <g id=\"line2d_4\">\n      <path d=\"M 31.99 446.016797 \nL 701.59 446.016797 \n\" clip-path=\"url(#p0b14d5bc0e)\" style=\"fill: none; stroke: #ffffff; stroke-linecap: round\"/>\n     </g>\n     <g id=\"text_4\">\n      <!-- 0.0 -->\n      <g style=\"fill: #262626\" transform=\"translate(7.2 449.953594)scale(0.11 -0.11)\">\n       <defs>\n        <path id=\"ArialMT-30\" d=\"M 266 2259 \nQ 266 3072 433 3567 \nQ 600 4063 929 4331 \nQ 1259 4600 1759 4600 \nQ 2128 4600 2406 4451 \nQ 2684 4303 2865 4023 \nQ 3047 3744 3150 3342 \nQ 3253 2941 3253 2259 \nQ 3253 1453 3087 958 \nQ 2922 463 2592 192 \nQ 2263 -78 1759 -78 \nQ 1097 -78 719 397 \nQ 266 969 266 2259 \nz\nM 844 2259 \nQ 844 1131 1108 757 \nQ 1372 384 1759 384 \nQ 2147 384 2411 759 \nQ 2675 1134 2675 2259 \nQ 2675 3391 2411 3762 \nQ 2147 4134 1753 4134 \nQ 1366 4134 1134 3806 \nQ 844 3388 844 2259 \nz\n\" transform=\"scale(0.015625)\"/>\n        <path id=\"ArialMT-2e\" d=\"M 581 0 \nL 581 641 \nL 1222 641 \nL 1222 0 \nL 581 0 \nz\n\" transform=\"scale(0.015625)\"/>\n       </defs>\n       <use xlink:href=\"#ArialMT-30\"/>\n       <use xlink:href=\"#ArialMT-2e\" x=\"55.615234\"/>\n       <use xlink:href=\"#ArialMT-30\" x=\"83.398438\"/>\n      </g>\n     </g>\n    </g>\n    <g id=\"ytick_2\">\n     <g id=\"line2d_5\">\n      <path d=\"M 31.99 402.528797 \nL 701.59 402.528797 \n\" clip-path=\"url(#p0b14d5bc0e)\" style=\"fill: none; stroke: #ffffff; stroke-linecap: round\"/>\n     </g>\n     <g id=\"text_5\">\n      <!-- 0.5 -->\n      <g style=\"fill: #262626\" transform=\"translate(7.2 406.465594)scale(0.11 -0.11)\">\n       <defs>\n        <path id=\"ArialMT-35\" d=\"M 266 1200 \nL 856 1250 \nQ 922 819 1161 601 \nQ 1400 384 1738 384 \nQ 2144 384 2425 690 \nQ 2706 997 2706 1503 \nQ 2706 1984 2436 2262 \nQ 2166 2541 1728 2541 \nQ 1456 2541 1237 2417 \nQ 1019 2294 894 2097 \nL 366 2166 \nL 809 4519 \nL 3088 4519 \nL 3088 3981 \nL 1259 3981 \nL 1013 2750 \nQ 1425 3038 1878 3038 \nQ 2478 3038 2890 2622 \nQ 3303 2206 3303 1553 \nQ 3303 931 2941 478 \nQ 2500 -78 1738 -78 \nQ 1113 -78 717 272 \nQ 322 622 266 1200 \nz\n\" transform=\"scale(0.015625)\"/>\n       </defs>\n       <use xlink:href=\"#ArialMT-30\"/>\n       <use xlink:href=\"#ArialMT-2e\" x=\"55.615234\"/>\n       <use xlink:href=\"#ArialMT-35\" x=\"83.398438\"/>\n      </g>\n     </g>\n    </g>\n    <g id=\"ytick_3\">\n     <g id=\"line2d_6\">\n      <path d=\"M 31.99 359.040797 \nL 701.59 359.040797 \n\" clip-path=\"url(#p0b14d5bc0e)\" style=\"fill: none; stroke: #ffffff; stroke-linecap: round\"/>\n     </g>\n     <g id=\"text_6\">\n      <!-- 1.0 -->\n      <g style=\"fill: #262626\" transform=\"translate(7.2 362.977594)scale(0.11 -0.11)\">\n       <defs>\n        <path id=\"ArialMT-31\" d=\"M 2384 0 \nL 1822 0 \nL 1822 3584 \nQ 1619 3391 1289 3197 \nQ 959 3003 697 2906 \nL 697 3450 \nQ 1169 3672 1522 3987 \nQ 1875 4303 2022 4600 \nL 2384 4600 \nL 2384 0 \nz\n\" transform=\"scale(0.015625)\"/>\n       </defs>\n       <use xlink:href=\"#ArialMT-31\"/>\n       <use xlink:href=\"#ArialMT-2e\" x=\"55.615234\"/>\n       <use xlink:href=\"#ArialMT-30\" x=\"83.398438\"/>\n      </g>\n     </g>\n    </g>\n    <g id=\"ytick_4\">\n     <g id=\"line2d_7\">\n      <path d=\"M 31.99 315.552797 \nL 701.59 315.552797 \n\" clip-path=\"url(#p0b14d5bc0e)\" style=\"fill: none; stroke: #ffffff; stroke-linecap: round\"/>\n     </g>\n     <g id=\"text_7\">\n      <!-- 1.5 -->\n      <g style=\"fill: #262626\" transform=\"translate(7.2 319.489594)scale(0.11 -0.11)\">\n       <use xlink:href=\"#ArialMT-31\"/>\n       <use xlink:href=\"#ArialMT-2e\" x=\"55.615234\"/>\n       <use xlink:href=\"#ArialMT-35\" x=\"83.398438\"/>\n      </g>\n     </g>\n    </g>\n    <g id=\"ytick_5\">\n     <g id=\"line2d_8\">\n      <path d=\"M 31.99 272.064797 \nL 701.59 272.064797 \n\" clip-path=\"url(#p0b14d5bc0e)\" style=\"fill: none; stroke: #ffffff; stroke-linecap: round\"/>\n     </g>\n     <g id=\"text_8\">\n      <!-- 2.0 -->\n      <g style=\"fill: #262626\" transform=\"translate(7.2 276.001594)scale(0.11 -0.11)\">\n       <defs>\n        <path id=\"ArialMT-32\" d=\"M 3222 541 \nL 3222 0 \nL 194 0 \nQ 188 203 259 391 \nQ 375 700 629 1000 \nQ 884 1300 1366 1694 \nQ 2113 2306 2375 2664 \nQ 2638 3022 2638 3341 \nQ 2638 3675 2398 3904 \nQ 2159 4134 1775 4134 \nQ 1369 4134 1125 3890 \nQ 881 3647 878 3216 \nL 300 3275 \nQ 359 3922 746 4261 \nQ 1134 4600 1788 4600 \nQ 2447 4600 2831 4234 \nQ 3216 3869 3216 3328 \nQ 3216 3053 3103 2787 \nQ 2991 2522 2730 2228 \nQ 2469 1934 1863 1422 \nQ 1356 997 1212 845 \nQ 1069 694 975 541 \nL 3222 541 \nz\n\" transform=\"scale(0.015625)\"/>\n       </defs>\n       <use xlink:href=\"#ArialMT-32\"/>\n       <use xlink:href=\"#ArialMT-2e\" x=\"55.615234\"/>\n       <use xlink:href=\"#ArialMT-30\" x=\"83.398438\"/>\n      </g>\n     </g>\n    </g>\n    <g id=\"ytick_6\">\n     <g id=\"line2d_9\">\n      <path d=\"M 31.99 228.576797 \nL 701.59 228.576797 \n\" clip-path=\"url(#p0b14d5bc0e)\" style=\"fill: none; stroke: #ffffff; stroke-linecap: round\"/>\n     </g>\n     <g id=\"text_9\">\n      <!-- 2.5 -->\n      <g style=\"fill: #262626\" transform=\"translate(7.2 232.513594)scale(0.11 -0.11)\">\n       <use xlink:href=\"#ArialMT-32\"/>\n       <use xlink:href=\"#ArialMT-2e\" x=\"55.615234\"/>\n       <use xlink:href=\"#ArialMT-35\" x=\"83.398438\"/>\n      </g>\n     </g>\n    </g>\n    <g id=\"ytick_7\">\n     <g id=\"line2d_10\">\n      <path d=\"M 31.99 185.088797 \nL 701.59 185.088797 \n\" clip-path=\"url(#p0b14d5bc0e)\" style=\"fill: none; stroke: #ffffff; stroke-linecap: round\"/>\n     </g>\n     <g id=\"text_10\">\n      <!-- 3.0 -->\n      <g style=\"fill: #262626\" transform=\"translate(7.2 189.025594)scale(0.11 -0.11)\">\n       <defs>\n        <path id=\"ArialMT-33\" d=\"M 269 1209 \nL 831 1284 \nQ 928 806 1161 595 \nQ 1394 384 1728 384 \nQ 2125 384 2398 659 \nQ 2672 934 2672 1341 \nQ 2672 1728 2419 1979 \nQ 2166 2231 1775 2231 \nQ 1616 2231 1378 2169 \nL 1441 2663 \nQ 1497 2656 1531 2656 \nQ 1891 2656 2178 2843 \nQ 2466 3031 2466 3422 \nQ 2466 3731 2256 3934 \nQ 2047 4138 1716 4138 \nQ 1388 4138 1169 3931 \nQ 950 3725 888 3313 \nL 325 3413 \nQ 428 3978 793 4289 \nQ 1159 4600 1703 4600 \nQ 2078 4600 2393 4439 \nQ 2709 4278 2876 4000 \nQ 3044 3722 3044 3409 \nQ 3044 3113 2884 2869 \nQ 2725 2625 2413 2481 \nQ 2819 2388 3044 2092 \nQ 3269 1797 3269 1353 \nQ 3269 753 2831 336 \nQ 2394 -81 1725 -81 \nQ 1122 -81 723 278 \nQ 325 638 269 1209 \nz\n\" transform=\"scale(0.015625)\"/>\n       </defs>\n       <use xlink:href=\"#ArialMT-33\"/>\n       <use xlink:href=\"#ArialMT-2e\" x=\"55.615234\"/>\n       <use xlink:href=\"#ArialMT-30\" x=\"83.398438\"/>\n      </g>\n     </g>\n    </g>\n    <g id=\"ytick_8\">\n     <g id=\"line2d_11\">\n      <path d=\"M 31.99 141.600797 \nL 701.59 141.600797 \n\" clip-path=\"url(#p0b14d5bc0e)\" style=\"fill: none; stroke: #ffffff; stroke-linecap: round\"/>\n     </g>\n     <g id=\"text_11\">\n      <!-- 3.5 -->\n      <g style=\"fill: #262626\" transform=\"translate(7.2 145.537594)scale(0.11 -0.11)\">\n       <use xlink:href=\"#ArialMT-33\"/>\n       <use xlink:href=\"#ArialMT-2e\" x=\"55.615234\"/>\n       <use xlink:href=\"#ArialMT-35\" x=\"83.398438\"/>\n      </g>\n     </g>\n    </g>\n    <g id=\"ytick_9\">\n     <g id=\"line2d_12\">\n      <path d=\"M 31.99 98.112797 \nL 701.59 98.112797 \n\" clip-path=\"url(#p0b14d5bc0e)\" style=\"fill: none; stroke: #ffffff; stroke-linecap: round\"/>\n     </g>\n     <g id=\"text_12\">\n      <!-- 4.0 -->\n      <g style=\"fill: #262626\" transform=\"translate(7.2 102.049594)scale(0.11 -0.11)\">\n       <defs>\n        <path id=\"ArialMT-34\" d=\"M 2069 0 \nL 2069 1097 \nL 81 1097 \nL 81 1613 \nL 2172 4581 \nL 2631 4581 \nL 2631 1613 \nL 3250 1613 \nL 3250 1097 \nL 2631 1097 \nL 2631 0 \nL 2069 0 \nz\nM 2069 1613 \nL 2069 3678 \nL 634 1613 \nL 2069 1613 \nz\n\" transform=\"scale(0.015625)\"/>\n       </defs>\n       <use xlink:href=\"#ArialMT-34\"/>\n       <use xlink:href=\"#ArialMT-2e\" x=\"55.615234\"/>\n       <use xlink:href=\"#ArialMT-30\" x=\"83.398438\"/>\n      </g>\n     </g>\n    </g>\n    <g id=\"ytick_10\">\n     <g id=\"line2d_13\">\n      <path d=\"M 31.99 54.624797 \nL 701.59 54.624797 \n\" clip-path=\"url(#p0b14d5bc0e)\" style=\"fill: none; stroke: #ffffff; stroke-linecap: round\"/>\n     </g>\n     <g id=\"text_13\">\n      <!-- 4.5 -->\n      <g style=\"fill: #262626\" transform=\"translate(7.2 58.561594)scale(0.11 -0.11)\">\n       <use xlink:href=\"#ArialMT-34\"/>\n       <use xlink:href=\"#ArialMT-2e\" x=\"55.615234\"/>\n       <use xlink:href=\"#ArialMT-35\" x=\"83.398438\"/>\n      </g>\n     </g>\n    </g>\n    <g id=\"ytick_11\">\n     <g id=\"line2d_14\">\n      <path d=\"M 31.99 11.136797 \nL 701.59 11.136797 \n\" clip-path=\"url(#p0b14d5bc0e)\" style=\"fill: none; stroke: #ffffff; stroke-linecap: round\"/>\n     </g>\n     <g id=\"text_14\">\n      <!-- 5.0 -->\n      <g style=\"fill: #262626\" transform=\"translate(7.2 15.073594)scale(0.11 -0.11)\">\n       <use xlink:href=\"#ArialMT-35\"/>\n       <use xlink:href=\"#ArialMT-2e\" x=\"55.615234\"/>\n       <use xlink:href=\"#ArialMT-30\" x=\"83.398438\"/>\n      </g>\n     </g>\n    </g>\n   </g>\n   <g id=\"patch_3\">\n    <path d=\"M 87.79 446.016797 \nL 143.59 446.016797 \nL 143.59 90.696239 \nL 87.79 90.696239 \nz\n\" clip-path=\"url(#p0b14d5bc0e)\" style=\"fill: #4c72b0; stroke: #ffffff; stroke-linejoin: miter\"/>\n   </g>\n   <g id=\"patch_4\">\n    <path d=\"M 310.99 446.016797 \nL 366.79 446.016797 \nL 366.79 98.112797 \nL 310.99 98.112797 \nz\n\" clip-path=\"url(#p0b14d5bc0e)\" style=\"fill: #4c72b0; stroke: #ffffff; stroke-linejoin: miter\"/>\n   </g>\n   <g id=\"patch_5\">\n    <path d=\"M 534.19 446.016797 \nL 589.99 446.016797 \nL 589.99 54.624797 \nL 534.19 54.624797 \nz\n\" clip-path=\"url(#p0b14d5bc0e)\" style=\"fill: #4c72b0; stroke: #ffffff; stroke-linejoin: miter\"/>\n   </g>\n   <g id=\"patch_6\">\n    <path d=\"M 143.59 446.016797 \nL 199.39 446.016797 \nL 199.39 107.903289 \nL 143.59 107.903289 \nz\n\" clip-path=\"url(#p0b14d5bc0e)\" style=\"fill: #dd8452; stroke: #ffffff; stroke-linejoin: miter\"/>\n   </g>\n   <g id=\"patch_7\">\n    <path d=\"M 366.79 446.016797 \nL 422.59 446.016797 \nL 422.59 98.112797 \nL 366.79 98.112797 \nz\n\" clip-path=\"url(#p0b14d5bc0e)\" style=\"fill: #dd8452; stroke: #ffffff; stroke-linejoin: miter\"/>\n   </g>\n   <g id=\"patch_8\">\n    <path d=\"M 589.99 446.016797 \nL 645.79 446.016797 \nL 645.79 98.112797 \nL 589.99 98.112797 \nz\n\" clip-path=\"url(#p0b14d5bc0e)\" style=\"fill: #dd8452; stroke: #ffffff; stroke-linejoin: miter\"/>\n   </g>\n   <g id=\"patch_9\">\n    <path d=\"M 31.99 446.016797 \nL 31.99 11.136797 \n\" style=\"fill: none; stroke: #ffffff; stroke-width: 1.25; stroke-linejoin: miter; stroke-linecap: square\"/>\n   </g>\n   <g id=\"patch_10\">\n    <path d=\"M 701.59 446.016797 \nL 701.59 11.136797 \n\" style=\"fill: none; stroke: #ffffff; stroke-width: 1.25; stroke-linejoin: miter; stroke-linecap: square\"/>\n   </g>\n   <g id=\"patch_11\">\n    <path d=\"M 31.99 446.016797 \nL 701.59 446.016797 \n\" style=\"fill: none; stroke: #ffffff; stroke-width: 1.25; stroke-linejoin: miter; stroke-linecap: square\"/>\n   </g>\n   <g id=\"patch_12\">\n    <path d=\"M 31.99 11.136797 \nL 701.59 11.136797 \n\" style=\"fill: none; stroke: #ffffff; stroke-width: 1.25; stroke-linejoin: miter; stroke-linecap: square\"/>\n   </g>\n   <g id=\"legend_1\">\n    <g id=\"patch_13\">\n     <path d=\"M 634.221875 51.056484 \nL 693.89 51.056484 \nQ 696.09 51.056484 696.09 48.856484 \nL 696.09 18.836797 \nQ 696.09 16.636797 693.89 16.636797 \nL 634.221875 16.636797 \nQ 632.021875 16.636797 632.021875 18.836797 \nL 632.021875 48.856484 \nQ 632.021875 51.056484 634.221875 51.056484 \nz\n\" style=\"fill: #eaeaf2; opacity: 0.8; stroke: #cccccc; stroke-linejoin: miter\"/>\n    </g>\n    <g id=\"patch_14\">\n     <path d=\"M 636.421875 28.910391 \nL 658.421875 28.910391 \nL 658.421875 21.210391 \nL 636.421875 21.210391 \nz\n\" style=\"fill: #4c72b0; stroke: #ffffff; stroke-linejoin: miter\"/>\n    </g>\n    <g id=\"text_15\">\n     <!-- 2015 -->\n     <g style=\"fill: #262626\" transform=\"translate(667.221875 28.910391)scale(0.11 -0.11)\">\n      <use xlink:href=\"#ArialMT-32\"/>\n      <use xlink:href=\"#ArialMT-30\" x=\"55.615234\"/>\n      <use xlink:href=\"#ArialMT-31\" x=\"111.230469\"/>\n      <use xlink:href=\"#ArialMT-35\" x=\"166.845703\"/>\n     </g>\n    </g>\n    <g id=\"patch_15\">\n     <path d=\"M 636.421875 44.470234 \nL 658.421875 44.470234 \nL 658.421875 36.770234 \nL 636.421875 36.770234 \nz\n\" style=\"fill: #dd8452; stroke: #ffffff; stroke-linejoin: miter\"/>\n    </g>\n    <g id=\"text_16\">\n     <!-- 2016 -->\n     <g style=\"fill: #262626\" transform=\"translate(667.221875 44.470234)scale(0.11 -0.11)\">\n      <defs>\n       <path id=\"ArialMT-36\" d=\"M 3184 3459 \nL 2625 3416 \nQ 2550 3747 2413 3897 \nQ 2184 4138 1850 4138 \nQ 1581 4138 1378 3988 \nQ 1113 3794 959 3422 \nQ 806 3050 800 2363 \nQ 1003 2672 1297 2822 \nQ 1591 2972 1913 2972 \nQ 2475 2972 2870 2558 \nQ 3266 2144 3266 1488 \nQ 3266 1056 3080 686 \nQ 2894 316 2569 119 \nQ 2244 -78 1831 -78 \nQ 1128 -78 684 439 \nQ 241 956 241 2144 \nQ 241 3472 731 4075 \nQ 1159 4600 1884 4600 \nQ 2425 4600 2770 4297 \nQ 3116 3994 3184 3459 \nz\nM 888 1484 \nQ 888 1194 1011 928 \nQ 1134 663 1356 523 \nQ 1578 384 1822 384 \nQ 2178 384 2434 671 \nQ 2691 959 2691 1453 \nQ 2691 1928 2437 2201 \nQ 2184 2475 1800 2475 \nQ 1419 2475 1153 2201 \nQ 888 1928 888 1484 \nz\n\" transform=\"scale(0.015625)\"/>\n      </defs>\n      <use xlink:href=\"#ArialMT-32\"/>\n      <use xlink:href=\"#ArialMT-30\" x=\"55.615234\"/>\n      <use xlink:href=\"#ArialMT-31\" x=\"111.230469\"/>\n      <use xlink:href=\"#ArialMT-36\" x=\"166.845703\"/>\n     </g>\n    </g>\n   </g>\n  </g>\n </g>\n <defs>\n  <clipPath id=\"p0b14d5bc0e\">\n   <rect x=\"31.99\" y=\"11.136797\" width=\"669.6\" height=\"434.88\"/>\n  </clipPath>\n </defs>\n</svg>\n",
      "text/plain": [
       "<Figure size 864x576 with 1 Axes>"
      ]
     },
     "metadata": {},
     "output_type": "display_data"
    }
   ],
   "source": [
    "fig, ax = plt.subplots()\n",
    "fig.set_size_inches(12, 8)\n",
    "\n",
    "stats.plot.bar(rot = 0, ax=ax)\n",
    "\n",
    "plt.ylim(0,5)\n",
    "plt.yticks(np.arange(0,5.1,.5))\n",
    "\n",
    "plt.show()"
   ]
  },
  {
   "cell_type": "markdown",
   "metadata": {},
   "source": [
    "Again we can see a small lowering of the mean going from 2015 to 2016. The change in mode is also clear. Overall, there is a small change towards lower scores."
   ]
  },
  {
   "cell_type": "markdown",
   "metadata": {},
   "source": [
    "# IV. Conclusion"
   ]
  },
  {
   "cell_type": "markdown",
   "metadata": {},
   "source": [
    "Based on our analysis we can conclude that there was a slight change towards lower scores on Fandango's website, going from 2015 to 2016. \n",
    "\n",
    "Most likely the change was caused by Fandango correcting their rating system to round user scores appropriately."
   ]
  }
 ],
 "metadata": {
  "interpreter": {
   "hash": "2e918aaa81d99c652401bdd1a0c185581595fb477ac919641bd65261b5d7782a"
  },
  "kernelspec": {
   "display_name": "Python 3.8.12 64-bit ('base': conda)",
   "language": "python",
   "name": "python3"
  },
  "language_info": {
   "codemirror_mode": {
    "name": "ipython",
    "version": 3
   },
   "file_extension": ".py",
   "mimetype": "text/x-python",
   "name": "python",
   "nbconvert_exporter": "python",
   "pygments_lexer": "ipython3",
   "version": "3.8.12"
  },
  "orig_nbformat": 4
 },
 "nbformat": 4,
 "nbformat_minor": 2
}
