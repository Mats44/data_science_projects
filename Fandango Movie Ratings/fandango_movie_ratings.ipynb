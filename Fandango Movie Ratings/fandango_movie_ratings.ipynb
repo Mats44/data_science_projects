{
 "cells": [
  {
   "cell_type": "markdown",
   "metadata": {},
   "source": [
    "# Are Fandango Movie Ratings Inflated?"
   ]
  },
  {
   "attachments": {},
   "cell_type": "markdown",
   "metadata": {},
   "source": [
    "In October 2015, data journalist Walt Hickey discovered than the movie ratings on the [Fandango]() website were inflated by biased rounding. Instead of being rounded to the nearest half-star the ratings were rounded up. In some cases the ratings were even rounded up one whole star. Fandango later released a statement saying the rounding was an unintentional bug in the system that had now been fixed.\n",
    "\n",
    "In this project we will investigate whether Fandango's ratings are still biased. We will use Hickey's original dataset and a new dataset collected by Dataquest for movies released in 2016 and 2017."
   ]
  },
  {
   "cell_type": "markdown",
   "metadata": {},
   "source": [
    "## Import Data & Install Dependencies"
   ]
  },
  {
   "cell_type": "code",
   "execution_count": 1,
   "metadata": {},
   "outputs": [],
   "source": [
    "import pandas as pd\n",
    "import numpy as np\n",
    "import matplotlib.pyplot as plt\n",
    "import seaborn as sns\n",
    "from tabulate import tabulate\n",
    "from IPython.display import display\n",
    "\n",
    "pd.options.display.max_columns = 100  # Avoid truncated output\n",
    "\n",
    "before = pd.read_csv('fandango_score_comparison.csv')\n",
    "after = pd.read_csv('movie_ratings_16_17.csv')"
   ]
  },
  {
   "cell_type": "markdown",
   "metadata": {},
   "source": [
    "# I. Explore the Data"
   ]
  },
  {
   "cell_type": "code",
   "execution_count": 2,
   "metadata": {},
   "outputs": [
    {
     "data": {
      "text/html": [
       "<div>\n",
       "<style scoped>\n",
       "    .dataframe tbody tr th:only-of-type {\n",
       "        vertical-align: middle;\n",
       "    }\n",
       "\n",
       "    .dataframe tbody tr th {\n",
       "        vertical-align: top;\n",
       "    }\n",
       "\n",
       "    .dataframe thead th {\n",
       "        text-align: right;\n",
       "    }\n",
       "</style>\n",
       "<table border=\"1\" class=\"dataframe\">\n",
       "  <thead>\n",
       "    <tr style=\"text-align: right;\">\n",
       "      <th></th>\n",
       "      <th>FILM</th>\n",
       "      <th>RottenTomatoes</th>\n",
       "      <th>RottenTomatoes_User</th>\n",
       "      <th>Metacritic</th>\n",
       "      <th>Metacritic_User</th>\n",
       "      <th>IMDB</th>\n",
       "      <th>Fandango_Stars</th>\n",
       "      <th>Fandango_Ratingvalue</th>\n",
       "      <th>RT_norm</th>\n",
       "      <th>RT_user_norm</th>\n",
       "      <th>Metacritic_norm</th>\n",
       "      <th>Metacritic_user_nom</th>\n",
       "      <th>IMDB_norm</th>\n",
       "      <th>RT_norm_round</th>\n",
       "      <th>RT_user_norm_round</th>\n",
       "      <th>Metacritic_norm_round</th>\n",
       "      <th>Metacritic_user_norm_round</th>\n",
       "      <th>IMDB_norm_round</th>\n",
       "      <th>Metacritic_user_vote_count</th>\n",
       "      <th>IMDB_user_vote_count</th>\n",
       "      <th>Fandango_votes</th>\n",
       "      <th>Fandango_Difference</th>\n",
       "    </tr>\n",
       "  </thead>\n",
       "  <tbody>\n",
       "    <tr>\n",
       "      <th>96</th>\n",
       "      <td>Song of the Sea (2014)</td>\n",
       "      <td>99</td>\n",
       "      <td>92</td>\n",
       "      <td>86</td>\n",
       "      <td>8.2</td>\n",
       "      <td>8.2</td>\n",
       "      <td>4.5</td>\n",
       "      <td>4.3</td>\n",
       "      <td>4.95</td>\n",
       "      <td>4.60</td>\n",
       "      <td>4.30</td>\n",
       "      <td>4.10</td>\n",
       "      <td>4.10</td>\n",
       "      <td>5.0</td>\n",
       "      <td>4.5</td>\n",
       "      <td>4.5</td>\n",
       "      <td>4.0</td>\n",
       "      <td>4.0</td>\n",
       "      <td>62</td>\n",
       "      <td>14067</td>\n",
       "      <td>66</td>\n",
       "      <td>0.2</td>\n",
       "    </tr>\n",
       "    <tr>\n",
       "      <th>36</th>\n",
       "      <td>5 Flights Up (2015)</td>\n",
       "      <td>52</td>\n",
       "      <td>47</td>\n",
       "      <td>55</td>\n",
       "      <td>6.8</td>\n",
       "      <td>6.1</td>\n",
       "      <td>4.0</td>\n",
       "      <td>3.6</td>\n",
       "      <td>2.60</td>\n",
       "      <td>2.35</td>\n",
       "      <td>2.75</td>\n",
       "      <td>3.40</td>\n",
       "      <td>3.05</td>\n",
       "      <td>2.5</td>\n",
       "      <td>2.5</td>\n",
       "      <td>3.0</td>\n",
       "      <td>3.5</td>\n",
       "      <td>3.0</td>\n",
       "      <td>6</td>\n",
       "      <td>2174</td>\n",
       "      <td>79</td>\n",
       "      <td>0.4</td>\n",
       "    </tr>\n",
       "    <tr>\n",
       "      <th>45</th>\n",
       "      <td>Tomorrowland (2015)</td>\n",
       "      <td>50</td>\n",
       "      <td>53</td>\n",
       "      <td>60</td>\n",
       "      <td>6.4</td>\n",
       "      <td>6.6</td>\n",
       "      <td>4.0</td>\n",
       "      <td>3.7</td>\n",
       "      <td>2.50</td>\n",
       "      <td>2.65</td>\n",
       "      <td>3.00</td>\n",
       "      <td>3.20</td>\n",
       "      <td>3.30</td>\n",
       "      <td>2.5</td>\n",
       "      <td>2.5</td>\n",
       "      <td>3.0</td>\n",
       "      <td>3.0</td>\n",
       "      <td>3.5</td>\n",
       "      <td>262</td>\n",
       "      <td>42937</td>\n",
       "      <td>8077</td>\n",
       "      <td>0.3</td>\n",
       "    </tr>\n",
       "    <tr>\n",
       "      <th>102</th>\n",
       "      <td>The Second Best Exotic Marigold Hotel (2015)</td>\n",
       "      <td>62</td>\n",
       "      <td>63</td>\n",
       "      <td>51</td>\n",
       "      <td>6.1</td>\n",
       "      <td>6.6</td>\n",
       "      <td>4.0</td>\n",
       "      <td>3.9</td>\n",
       "      <td>3.10</td>\n",
       "      <td>3.15</td>\n",
       "      <td>2.55</td>\n",
       "      <td>3.05</td>\n",
       "      <td>3.30</td>\n",
       "      <td>3.0</td>\n",
       "      <td>3.0</td>\n",
       "      <td>2.5</td>\n",
       "      <td>3.0</td>\n",
       "      <td>3.5</td>\n",
       "      <td>41</td>\n",
       "      <td>12940</td>\n",
       "      <td>1870</td>\n",
       "      <td>0.1</td>\n",
       "    </tr>\n",
       "    <tr>\n",
       "      <th>50</th>\n",
       "      <td>Pitch Perfect 2 (2015)</td>\n",
       "      <td>67</td>\n",
       "      <td>68</td>\n",
       "      <td>63</td>\n",
       "      <td>5.7</td>\n",
       "      <td>6.7</td>\n",
       "      <td>4.5</td>\n",
       "      <td>4.2</td>\n",
       "      <td>3.35</td>\n",
       "      <td>3.40</td>\n",
       "      <td>3.15</td>\n",
       "      <td>2.85</td>\n",
       "      <td>3.35</td>\n",
       "      <td>3.5</td>\n",
       "      <td>3.5</td>\n",
       "      <td>3.0</td>\n",
       "      <td>3.0</td>\n",
       "      <td>3.5</td>\n",
       "      <td>192</td>\n",
       "      <td>56333</td>\n",
       "      <td>4577</td>\n",
       "      <td>0.3</td>\n",
       "    </tr>\n",
       "  </tbody>\n",
       "</table>\n",
       "</div>"
      ],
      "text/plain": [
       "                                             FILM  RottenTomatoes  \\\n",
       "96                         Song of the Sea (2014)              99   \n",
       "36                            5 Flights Up (2015)              52   \n",
       "45                            Tomorrowland (2015)              50   \n",
       "102  The Second Best Exotic Marigold Hotel (2015)              62   \n",
       "50                         Pitch Perfect 2 (2015)              67   \n",
       "\n",
       "     RottenTomatoes_User  Metacritic  Metacritic_User  IMDB  Fandango_Stars  \\\n",
       "96                    92          86              8.2   8.2             4.5   \n",
       "36                    47          55              6.8   6.1             4.0   \n",
       "45                    53          60              6.4   6.6             4.0   \n",
       "102                   63          51              6.1   6.6             4.0   \n",
       "50                    68          63              5.7   6.7             4.5   \n",
       "\n",
       "     Fandango_Ratingvalue  RT_norm  RT_user_norm  Metacritic_norm  \\\n",
       "96                    4.3     4.95          4.60             4.30   \n",
       "36                    3.6     2.60          2.35             2.75   \n",
       "45                    3.7     2.50          2.65             3.00   \n",
       "102                   3.9     3.10          3.15             2.55   \n",
       "50                    4.2     3.35          3.40             3.15   \n",
       "\n",
       "     Metacritic_user_nom  IMDB_norm  RT_norm_round  RT_user_norm_round  \\\n",
       "96                  4.10       4.10            5.0                 4.5   \n",
       "36                  3.40       3.05            2.5                 2.5   \n",
       "45                  3.20       3.30            2.5                 2.5   \n",
       "102                 3.05       3.30            3.0                 3.0   \n",
       "50                  2.85       3.35            3.5                 3.5   \n",
       "\n",
       "     Metacritic_norm_round  Metacritic_user_norm_round  IMDB_norm_round  \\\n",
       "96                     4.5                         4.0              4.0   \n",
       "36                     3.0                         3.5              3.0   \n",
       "45                     3.0                         3.0              3.5   \n",
       "102                    2.5                         3.0              3.5   \n",
       "50                     3.0                         3.0              3.5   \n",
       "\n",
       "     Metacritic_user_vote_count  IMDB_user_vote_count  Fandango_votes  \\\n",
       "96                           62                 14067              66   \n",
       "36                            6                  2174              79   \n",
       "45                          262                 42937            8077   \n",
       "102                          41                 12940            1870   \n",
       "50                          192                 56333            4577   \n",
       "\n",
       "     Fandango_Difference  \n",
       "96                   0.2  \n",
       "36                   0.4  \n",
       "45                   0.3  \n",
       "102                  0.1  \n",
       "50                   0.3  "
      ]
     },
     "metadata": {},
     "output_type": "display_data"
    },
    {
     "data": {
      "text/html": [
       "<div>\n",
       "<style scoped>\n",
       "    .dataframe tbody tr th:only-of-type {\n",
       "        vertical-align: middle;\n",
       "    }\n",
       "\n",
       "    .dataframe tbody tr th {\n",
       "        vertical-align: top;\n",
       "    }\n",
       "\n",
       "    .dataframe thead th {\n",
       "        text-align: right;\n",
       "    }\n",
       "</style>\n",
       "<table border=\"1\" class=\"dataframe\">\n",
       "  <thead>\n",
       "    <tr style=\"text-align: right;\">\n",
       "      <th></th>\n",
       "      <th>movie</th>\n",
       "      <th>year</th>\n",
       "      <th>metascore</th>\n",
       "      <th>imdb</th>\n",
       "      <th>tmeter</th>\n",
       "      <th>audience</th>\n",
       "      <th>fandango</th>\n",
       "      <th>n_metascore</th>\n",
       "      <th>n_imdb</th>\n",
       "      <th>n_tmeter</th>\n",
       "      <th>n_audience</th>\n",
       "      <th>nr_metascore</th>\n",
       "      <th>nr_imdb</th>\n",
       "      <th>nr_tmeter</th>\n",
       "      <th>nr_audience</th>\n",
       "    </tr>\n",
       "  </thead>\n",
       "  <tbody>\n",
       "    <tr>\n",
       "      <th>60</th>\n",
       "      <td>Get a Job</td>\n",
       "      <td>2016</td>\n",
       "      <td>31</td>\n",
       "      <td>5.3</td>\n",
       "      <td>5</td>\n",
       "      <td>22</td>\n",
       "      <td>3.0</td>\n",
       "      <td>1.55</td>\n",
       "      <td>2.65</td>\n",
       "      <td>0.25</td>\n",
       "      <td>1.10</td>\n",
       "      <td>1.5</td>\n",
       "      <td>2.5</td>\n",
       "      <td>0.0</td>\n",
       "      <td>1.0</td>\n",
       "    </tr>\n",
       "    <tr>\n",
       "      <th>139</th>\n",
       "      <td>Risen</td>\n",
       "      <td>2016</td>\n",
       "      <td>51</td>\n",
       "      <td>6.3</td>\n",
       "      <td>51</td>\n",
       "      <td>70</td>\n",
       "      <td>4.5</td>\n",
       "      <td>2.55</td>\n",
       "      <td>3.15</td>\n",
       "      <td>2.55</td>\n",
       "      <td>3.50</td>\n",
       "      <td>2.5</td>\n",
       "      <td>3.0</td>\n",
       "      <td>2.5</td>\n",
       "      <td>3.5</td>\n",
       "    </tr>\n",
       "    <tr>\n",
       "      <th>206</th>\n",
       "      <td>Warcraft</td>\n",
       "      <td>2016</td>\n",
       "      <td>32</td>\n",
       "      <td>7.0</td>\n",
       "      <td>28</td>\n",
       "      <td>71</td>\n",
       "      <td>4.0</td>\n",
       "      <td>1.60</td>\n",
       "      <td>3.50</td>\n",
       "      <td>1.40</td>\n",
       "      <td>3.55</td>\n",
       "      <td>1.5</td>\n",
       "      <td>3.5</td>\n",
       "      <td>1.5</td>\n",
       "      <td>3.5</td>\n",
       "    </tr>\n",
       "    <tr>\n",
       "      <th>191</th>\n",
       "      <td>The Perfect Match</td>\n",
       "      <td>2016</td>\n",
       "      <td>41</td>\n",
       "      <td>4.8</td>\n",
       "      <td>27</td>\n",
       "      <td>45</td>\n",
       "      <td>4.0</td>\n",
       "      <td>2.05</td>\n",
       "      <td>2.40</td>\n",
       "      <td>1.35</td>\n",
       "      <td>2.25</td>\n",
       "      <td>2.0</td>\n",
       "      <td>2.5</td>\n",
       "      <td>1.5</td>\n",
       "      <td>2.0</td>\n",
       "    </tr>\n",
       "    <tr>\n",
       "      <th>75</th>\n",
       "      <td>Ice Age: Collision Course</td>\n",
       "      <td>2016</td>\n",
       "      <td>34</td>\n",
       "      <td>5.7</td>\n",
       "      <td>15</td>\n",
       "      <td>40</td>\n",
       "      <td>4.0</td>\n",
       "      <td>1.70</td>\n",
       "      <td>2.85</td>\n",
       "      <td>0.75</td>\n",
       "      <td>2.00</td>\n",
       "      <td>1.5</td>\n",
       "      <td>3.0</td>\n",
       "      <td>1.0</td>\n",
       "      <td>2.0</td>\n",
       "    </tr>\n",
       "  </tbody>\n",
       "</table>\n",
       "</div>"
      ],
      "text/plain": [
       "                         movie  year  metascore  imdb  tmeter  audience  \\\n",
       "60                   Get a Job  2016         31   5.3       5        22   \n",
       "139                      Risen  2016         51   6.3      51        70   \n",
       "206                   Warcraft  2016         32   7.0      28        71   \n",
       "191          The Perfect Match  2016         41   4.8      27        45   \n",
       "75   Ice Age: Collision Course  2016         34   5.7      15        40   \n",
       "\n",
       "     fandango  n_metascore  n_imdb  n_tmeter  n_audience  nr_metascore  \\\n",
       "60        3.0         1.55    2.65      0.25        1.10           1.5   \n",
       "139       4.5         2.55    3.15      2.55        3.50           2.5   \n",
       "206       4.0         1.60    3.50      1.40        3.55           1.5   \n",
       "191       4.0         2.05    2.40      1.35        2.25           2.0   \n",
       "75        4.0         1.70    2.85      0.75        2.00           1.5   \n",
       "\n",
       "     nr_imdb  nr_tmeter  nr_audience  \n",
       "60       2.5        0.0          1.0  \n",
       "139      3.0        2.5          3.5  \n",
       "206      3.5        1.5          3.5  \n",
       "191      2.5        1.5          2.0  \n",
       "75       3.0        1.0          2.0  "
      ]
     },
     "metadata": {},
     "output_type": "display_data"
    }
   ],
   "source": [
    "display(before.sample(5))\n",
    "display(after.sample(5))"
   ]
  },
  {
   "cell_type": "code",
   "execution_count": 3,
   "metadata": {},
   "outputs": [
    {
     "data": {
      "text/html": [
       "<div>\n",
       "<style scoped>\n",
       "    .dataframe tbody tr th:only-of-type {\n",
       "        vertical-align: middle;\n",
       "    }\n",
       "\n",
       "    .dataframe tbody tr th {\n",
       "        vertical-align: top;\n",
       "    }\n",
       "\n",
       "    .dataframe thead th {\n",
       "        text-align: right;\n",
       "    }\n",
       "</style>\n",
       "<table border=\"1\" class=\"dataframe\">\n",
       "  <thead>\n",
       "    <tr style=\"text-align: right;\">\n",
       "      <th></th>\n",
       "      <th>FILM</th>\n",
       "      <th>Fandango_Stars</th>\n",
       "      <th>Fandango_Ratingvalue</th>\n",
       "      <th>Fandango_votes</th>\n",
       "      <th>Fandango_Difference</th>\n",
       "    </tr>\n",
       "  </thead>\n",
       "  <tbody>\n",
       "    <tr>\n",
       "      <th>42</th>\n",
       "      <td>About Elly (2015)</td>\n",
       "      <td>4.0</td>\n",
       "      <td>3.6</td>\n",
       "      <td>43</td>\n",
       "      <td>0.4</td>\n",
       "    </tr>\n",
       "    <tr>\n",
       "      <th>107</th>\n",
       "      <td>The Vatican Tapes (2015)</td>\n",
       "      <td>3.0</td>\n",
       "      <td>2.9</td>\n",
       "      <td>210</td>\n",
       "      <td>0.1</td>\n",
       "    </tr>\n",
       "    <tr>\n",
       "      <th>145</th>\n",
       "      <td>Kumiko, The Treasure Hunter (2015)</td>\n",
       "      <td>3.5</td>\n",
       "      <td>3.5</td>\n",
       "      <td>41</td>\n",
       "      <td>0.0</td>\n",
       "    </tr>\n",
       "    <tr>\n",
       "      <th>101</th>\n",
       "      <td>The Gallows (2015)</td>\n",
       "      <td>3.0</td>\n",
       "      <td>2.9</td>\n",
       "      <td>1896</td>\n",
       "      <td>0.1</td>\n",
       "    </tr>\n",
       "    <tr>\n",
       "      <th>125</th>\n",
       "      <td>The Wedding Ringer (2015)</td>\n",
       "      <td>4.5</td>\n",
       "      <td>4.4</td>\n",
       "      <td>6506</td>\n",
       "      <td>0.1</td>\n",
       "    </tr>\n",
       "  </tbody>\n",
       "</table>\n",
       "</div>"
      ],
      "text/plain": [
       "                                   FILM  Fandango_Stars  Fandango_Ratingvalue  \\\n",
       "42                    About Elly (2015)             4.0                   3.6   \n",
       "107            The Vatican Tapes (2015)             3.0                   2.9   \n",
       "145  Kumiko, The Treasure Hunter (2015)             3.5                   3.5   \n",
       "101                  The Gallows (2015)             3.0                   2.9   \n",
       "125           The Wedding Ringer (2015)             4.5                   4.4   \n",
       "\n",
       "     Fandango_votes  Fandango_Difference  \n",
       "42               43                  0.4  \n",
       "107             210                  0.1  \n",
       "145              41                  0.0  \n",
       "101            1896                  0.1  \n",
       "125            6506                  0.1  "
      ]
     },
     "metadata": {},
     "output_type": "display_data"
    },
    {
     "data": {
      "text/html": [
       "<div>\n",
       "<style scoped>\n",
       "    .dataframe tbody tr th:only-of-type {\n",
       "        vertical-align: middle;\n",
       "    }\n",
       "\n",
       "    .dataframe tbody tr th {\n",
       "        vertical-align: top;\n",
       "    }\n",
       "\n",
       "    .dataframe thead th {\n",
       "        text-align: right;\n",
       "    }\n",
       "</style>\n",
       "<table border=\"1\" class=\"dataframe\">\n",
       "  <thead>\n",
       "    <tr style=\"text-align: right;\">\n",
       "      <th></th>\n",
       "      <th>movie</th>\n",
       "      <th>year</th>\n",
       "      <th>fandango</th>\n",
       "    </tr>\n",
       "  </thead>\n",
       "  <tbody>\n",
       "    <tr>\n",
       "      <th>184</th>\n",
       "      <td>The Legend of Tarzan</td>\n",
       "      <td>2016</td>\n",
       "      <td>4.5</td>\n",
       "    </tr>\n",
       "    <tr>\n",
       "      <th>20</th>\n",
       "      <td>Before I Fall</td>\n",
       "      <td>2017</td>\n",
       "      <td>3.5</td>\n",
       "    </tr>\n",
       "    <tr>\n",
       "      <th>177</th>\n",
       "      <td>The Girl on the Train</td>\n",
       "      <td>2016</td>\n",
       "      <td>4.0</td>\n",
       "    </tr>\n",
       "    <tr>\n",
       "      <th>69</th>\n",
       "      <td>Hidden Figures</td>\n",
       "      <td>2016</td>\n",
       "      <td>5.0</td>\n",
       "    </tr>\n",
       "    <tr>\n",
       "      <th>194</th>\n",
       "      <td>The Shack</td>\n",
       "      <td>2017</td>\n",
       "      <td>4.5</td>\n",
       "    </tr>\n",
       "  </tbody>\n",
       "</table>\n",
       "</div>"
      ],
      "text/plain": [
       "                     movie  year  fandango\n",
       "184   The Legend of Tarzan  2016       4.5\n",
       "20           Before I Fall  2017       3.5\n",
       "177  The Girl on the Train  2016       4.0\n",
       "69          Hidden Figures  2016       5.0\n",
       "194              The Shack  2017       4.5"
      ]
     },
     "metadata": {},
     "output_type": "display_data"
    }
   ],
   "source": [
    "# selecting only the columns that are relevant to Fandango ratings\n",
    "\n",
    "fandango_before = before[['FILM', 'Fandango_Stars', 'Fandango_Ratingvalue', 'Fandango_votes', 'Fandango_Difference']].copy()\n",
    "fandango_after = after[['movie', 'year', 'fandango']].copy()\n",
    "\n",
    "display(fandango_before.sample(5))\n",
    "display(fandango_after.sample(5))"
   ]
  },
  {
   "attachments": {},
   "cell_type": "markdown",
   "metadata": {},
   "source": [
    "The aim of the project is to check for any change in Fandango scores after the release of Hick's article. Which means our analysis' population ideally would be all of the ratings on Fandango's website.\n",
    "\n",
    "To perform the analysis we need to take two samples from the population: one before the analysis (Hick's data) and one after (our DataQuest dataset). We need to make sure these two samples are representative of the population we want to analyze.\n",
    "\n",
    "The sampling conditions for Hick's data (according to the [README](https://github.com/fivethirtyeight/data/tree/master/fandango)):\n",
    "- At least 30 fan ratings on Fandango at the time of sampling (24.08.2015)\n",
    "- The movie must have had tickets for sale in 2015\n",
    "\n",
    "The sampling was not done randomly; it might not be representative. It doesn't capture any time trends extending over the years (2015 might have been an outlier.)\n",
    "\n",
    "The sampling conditions for the DataQuest data (according to the [README](https://github.com/mircealex/Movie_ratings_2016_17)):\n",
    "- Only movies from 2016 or later\n",
    "- Only the 214 most popular movies, determined by number of rating votes, were included.\n",
    "\n",
    "This dataset sampling has the same problem with temporal trends and is unlikely to be representative of our population."
   ]
  },
  {
   "cell_type": "markdown",
   "metadata": {},
   "source": [
    "# II. Refining Project Goal"
   ]
  },
  {
   "cell_type": "markdown",
   "metadata": {},
   "source": [
    "Based on the limitations discovered in the datasets samplings we will narrow down our initial goal.\n",
    "\n",
    "Instead of attempting to determine if there was a change in Fandango's entire rating system after Hick's article, we will try to determine if there was a change in the rating of popular movies in 2015 and ratings for popular movies in 2016.\n",
    "\n",
    "The new goal takes into account the limitations of our datasets, but is still fairly close to the original goal."
   ]
  },
  {
   "cell_type": "markdown",
   "metadata": {},
   "source": [
    "## Refining the Datasets"
   ]
  },
  {
   "cell_type": "markdown",
   "metadata": {},
   "source": [
    "Based on our new goal of comparing popular movies on Fandango in 2015 with popular movies on Fandango in 2016 we will need to filter our datasets.\n",
    "\n",
    "Hick's dataset used the criteria of 30 or more fan ratings to determine popularity. We will apply this same criteria to our DataQuest dataset. In other words, our definition of 'popular' will be movies with at least 30 fan ratings on Fandango."
   ]
  },
  {
   "cell_type": "markdown",
   "metadata": {},
   "source": [
    "### Filtering `fandango_before` Dataset"
   ]
  },
  {
   "cell_type": "code",
   "execution_count": 4,
   "metadata": {},
   "outputs": [
    {
     "data": {
      "text/html": [
       "<div>\n",
       "<style scoped>\n",
       "    .dataframe tbody tr th:only-of-type {\n",
       "        vertical-align: middle;\n",
       "    }\n",
       "\n",
       "    .dataframe tbody tr th {\n",
       "        vertical-align: top;\n",
       "    }\n",
       "\n",
       "    .dataframe thead th {\n",
       "        text-align: right;\n",
       "    }\n",
       "</style>\n",
       "<table border=\"1\" class=\"dataframe\">\n",
       "  <thead>\n",
       "    <tr style=\"text-align: right;\">\n",
       "      <th></th>\n",
       "      <th>FILM</th>\n",
       "      <th>Fandango_Stars</th>\n",
       "      <th>Fandango_Ratingvalue</th>\n",
       "      <th>Fandango_votes</th>\n",
       "      <th>Fandango_Difference</th>\n",
       "      <th>Year</th>\n",
       "    </tr>\n",
       "  </thead>\n",
       "  <tbody>\n",
       "    <tr>\n",
       "      <th>0</th>\n",
       "      <td>Avengers: Age of Ultron (2015)</td>\n",
       "      <td>5.0</td>\n",
       "      <td>4.5</td>\n",
       "      <td>14846</td>\n",
       "      <td>0.5</td>\n",
       "      <td>2015</td>\n",
       "    </tr>\n",
       "    <tr>\n",
       "      <th>1</th>\n",
       "      <td>Cinderella (2015)</td>\n",
       "      <td>5.0</td>\n",
       "      <td>4.5</td>\n",
       "      <td>12640</td>\n",
       "      <td>0.5</td>\n",
       "      <td>2015</td>\n",
       "    </tr>\n",
       "    <tr>\n",
       "      <th>2</th>\n",
       "      <td>Ant-Man (2015)</td>\n",
       "      <td>5.0</td>\n",
       "      <td>4.5</td>\n",
       "      <td>12055</td>\n",
       "      <td>0.5</td>\n",
       "      <td>2015</td>\n",
       "    </tr>\n",
       "  </tbody>\n",
       "</table>\n",
       "</div>"
      ],
      "text/plain": [
       "                             FILM  Fandango_Stars  Fandango_Ratingvalue  \\\n",
       "0  Avengers: Age of Ultron (2015)             5.0                   4.5   \n",
       "1               Cinderella (2015)             5.0                   4.5   \n",
       "2                  Ant-Man (2015)             5.0                   4.5   \n",
       "\n",
       "   Fandango_votes  Fandango_Difference  Year  \n",
       "0           14846                  0.5  2015  \n",
       "1           12640                  0.5  2015  \n",
       "2           12055                  0.5  2015  "
      ]
     },
     "execution_count": 4,
     "metadata": {},
     "output_type": "execute_result"
    }
   ],
   "source": [
    "fandango_before['Year'] = fandango_before['FILM'].str[-5:-1]\n",
    "fandango_before.head(3)"
   ]
  },
  {
   "cell_type": "code",
   "execution_count": 5,
   "metadata": {},
   "outputs": [
    {
     "data": {
      "text/plain": [
       "2015    129\n",
       "2014     17\n",
       "Name: Year, dtype: int64"
      ]
     },
     "execution_count": 5,
     "metadata": {},
     "output_type": "execute_result"
    }
   ],
   "source": [
    "fandango_before['Year'].value_counts()"
   ]
  },
  {
   "cell_type": "code",
   "execution_count": 6,
   "metadata": {},
   "outputs": [
    {
     "data": {
      "text/plain": [
       "2015    129\n",
       "Name: Year, dtype: int64"
      ]
     },
     "execution_count": 6,
     "metadata": {},
     "output_type": "execute_result"
    }
   ],
   "source": [
    "fandango_2015 = fandango_before[fandango_before['Year'] == '2015'].copy()\n",
    "fandango_2015['Year'].value_counts()"
   ]
  },
  {
   "cell_type": "markdown",
   "metadata": {},
   "source": [
    "### Filtering `fandango_after` Dataset"
   ]
  },
  {
   "cell_type": "code",
   "execution_count": 7,
   "metadata": {},
   "outputs": [
    {
     "data": {
      "text/html": [
       "<div>\n",
       "<style scoped>\n",
       "    .dataframe tbody tr th:only-of-type {\n",
       "        vertical-align: middle;\n",
       "    }\n",
       "\n",
       "    .dataframe tbody tr th {\n",
       "        vertical-align: top;\n",
       "    }\n",
       "\n",
       "    .dataframe thead th {\n",
       "        text-align: right;\n",
       "    }\n",
       "</style>\n",
       "<table border=\"1\" class=\"dataframe\">\n",
       "  <thead>\n",
       "    <tr style=\"text-align: right;\">\n",
       "      <th></th>\n",
       "      <th>movie</th>\n",
       "      <th>year</th>\n",
       "      <th>fandango</th>\n",
       "    </tr>\n",
       "  </thead>\n",
       "  <tbody>\n",
       "    <tr>\n",
       "      <th>136</th>\n",
       "      <td>Resident Evil: The Final Chapter</td>\n",
       "      <td>2016</td>\n",
       "      <td>4.0</td>\n",
       "    </tr>\n",
       "    <tr>\n",
       "      <th>86</th>\n",
       "      <td>Julieta</td>\n",
       "      <td>2016</td>\n",
       "      <td>3.5</td>\n",
       "    </tr>\n",
       "    <tr>\n",
       "      <th>190</th>\n",
       "      <td>The Other Side of the Door</td>\n",
       "      <td>2016</td>\n",
       "      <td>3.5</td>\n",
       "    </tr>\n",
       "  </tbody>\n",
       "</table>\n",
       "</div>"
      ],
      "text/plain": [
       "                                movie  year  fandango\n",
       "136  Resident Evil: The Final Chapter  2016       4.0\n",
       "86                            Julieta  2016       3.5\n",
       "190        The Other Side of the Door  2016       3.5"
      ]
     },
     "metadata": {},
     "output_type": "display_data"
    },
    {
     "data": {
      "text/plain": [
       "2016    191\n",
       "2017     23\n",
       "Name: year, dtype: int64"
      ]
     },
     "metadata": {},
     "output_type": "display_data"
    }
   ],
   "source": [
    "display(fandango_after.sample(3))\n",
    "display((fandango_after['year'].value_counts()))"
   ]
  },
  {
   "cell_type": "code",
   "execution_count": 8,
   "metadata": {},
   "outputs": [
    {
     "data": {
      "text/plain": [
       "2016    191\n",
       "Name: year, dtype: int64"
      ]
     },
     "execution_count": 8,
     "metadata": {},
     "output_type": "execute_result"
    }
   ],
   "source": [
    "fandango_2016 = fandango_after[fandango_after['year'] == 2016]\n",
    "fandango_2016['year'].value_counts()"
   ]
  },
  {
   "cell_type": "markdown",
   "metadata": {},
   "source": [
    "## Checking the Datasets"
   ]
  },
  {
   "cell_type": "markdown",
   "metadata": {},
   "source": [
    "Using Hick's benchmark of a minimum of 30 fan ratings let's check if the datasets contain only information that matches this."
   ]
  },
  {
   "cell_type": "code",
   "execution_count": 9,
   "metadata": {},
   "outputs": [
    {
     "data": {
      "text/plain": [
       "35"
      ]
     },
     "execution_count": 9,
     "metadata": {},
     "output_type": "execute_result"
    }
   ],
   "source": [
    "fandango_before['Fandango_votes'].min()"
   ]
  },
  {
   "cell_type": "markdown",
   "metadata": {},
   "source": [
    "The minimum nr. of fan ratings in Hick's data is 35. All films in the dataset can therefore be classified as popular."
   ]
  },
  {
   "cell_type": "markdown",
   "metadata": {},
   "source": [
    "Next, we check the dataset collected by DataQuest. However, this dataset does not contain information about the nr. of votes.\n",
    "\n",
    "Instead we will sample 10 films randomly from the dataset and check the films manually. At least 8 out 10 samples should match our criteria.\n",
    "\n",
    "We can't check against Fandango anymore since they replaced their rating system with the Rotten Tomatoes one in 2019. We will instead check the films against the Rotten Tomatoes ratings.\n",
    "\n"
   ]
  },
  {
   "cell_type": "code",
   "execution_count": 10,
   "metadata": {},
   "outputs": [
    {
     "name": "stdout",
     "output_type": "stream",
     "text": [
      "|     | movie                           |   year |   fandango |\n",
      "|----:|:--------------------------------|-------:|-----------:|\n",
      "|  36 | Collide                         |   2016 |        3.5 |\n",
      "|  75 | Ice Age: Collision Course       |   2016 |        4   |\n",
      "| 125 | Now You See Me 2                |   2016 |        4   |\n",
      "| 171 | The Disappointments Room        |   2016 |        2.5 |\n",
      "|  92 | Kubo and the Two Strings        |   2016 |        4.5 |\n",
      "| 134 | Pride and Prejudice and Zombies |   2016 |        4   |\n",
      "|  40 | Deadpool                        |   2016 |        4.5 |\n",
      "| 115 | Money Monster                   |   2016 |        4   |\n",
      "| 204 | War Dogs                        |   2016 |        4   |\n",
      "| 111 | Miracles from Heaven            |   2016 |        4.5 |\n"
     ]
    }
   ],
   "source": [
    "print(fandango_2016.sample(10, random_state=1).to_markdown())"
   ]
  },
  {
   "cell_type": "markdown",
   "metadata": {},
   "source": [
    "After consulting Rotten Tomatoes for all of the movies above we end up with the following table:\n",
    "\n",
    "|     | movie                           |   year |   fandango | rotten tomatoes fan reviews |\n",
    "|----:|:--------------------------------|-------:|-----------:|----------------------------:|\n",
    "|  36 | Collide                         |   2016 |        3.5 |                2500+    |   \n",
    "|  75 | Ice Age: Collision Course       |   2016 |        4   |               25000+    |\n",
    "| 125 | Now You See Me 2                |   2016 |        4   |               50000+    |\n",
    "| 171 | The Disappointments Room        |   2016 |        2.5 |                2500+    |\n",
    "|  92 | Kubo and the Two Strings        |   2016 |        4.5 |               25000+    |\n",
    "| 134 | Pride and Prejudice and Zombies |   2016 |        4   |               25000+    |\n",
    "|  40 | Deadpool                        |   2016 |        4.5 |              100000+    | \n",
    "| 115 | Money Monster                   |   2016 |        4   |               10000+    |\n",
    "| 204 | War Dogs                        |   2016 |        4   |               25000+    |\n",
    "| 111 | Miracles from Heaven            |   2016 |        4.5 |               10000+    |\n",
    "\n",
    "All the movies have received far more than 30 fan ratings. We will proceed with the assumption that this holds for the rest of the dataset."
   ]
  },
  {
   "cell_type": "markdown",
   "metadata": {},
   "source": [
    "# III. Analyzing the Data"
   ]
  },
  {
   "cell_type": "markdown",
   "metadata": {},
   "source": [
    "Now that we finally have our analysis goal and the datasets needed we can start our analysis.\n",
    "\n",
    "We will start by looking at the distribution of movie ratings for the two datasets."
   ]
  },
  {
   "cell_type": "markdown",
   "metadata": {},
   "source": [
    "## Kernel Density Plot"
   ]
  },
  {
   "cell_type": "code",
   "execution_count": 11,
   "metadata": {},
   "outputs": [
    {
     "data": {
      "image/png": "[encoded data removed]",
      "text/plain": [
       "<Figure size 1200x800 with 1 Axes>"
      ]
     },
     "metadata": {},
     "output_type": "display_data"
    }
   ],
   "source": [
    "sns.set_theme()\n",
    "plt.figure(figsize=(12,8))\n",
    "sns.kdeplot(x = 'Fandango_Stars', data = fandango_2015, fill=True, alpha= 0.4, label='2015')\n",
    "sns.kdeplot(x = 'fandango', data = fandango_2016, fill=True,  alpha = 0.4, label='2016')\n",
    "\n",
    "plt.xlim(0,5)\n",
    "plt.xticks(np.arange(0,5.1,.5))\n",
    "plt.xlabel('Fandango User Ratings')\n",
    "plt.title('Comparison of KDE Distributions for Fandango User ratings (2015 vs. 2016)', fontsize=14, fontweight=\"bold\")\n",
    "plt.legend()\n",
    "plt.show()"
   ]
  },
  {
   "cell_type": "markdown",
   "metadata": {},
   "source": [
    "Based on this first inspection it does look like Fandango has altered it's rating system.\n",
    "\n",
    "The peak of the distribution has been shifted from `4.5` to `4.0` in 2016 and the distribution overall is less left-skewed. There are also a greater density at the lower end (~`2.5`) of the ratings."
   ]
  },
  {
   "cell_type": "markdown",
   "metadata": {},
   "source": [
    "## Relative Frequency"
   ]
  },
  {
   "cell_type": "markdown",
   "metadata": {},
   "source": [
    "We will need to analyze the data more granularly before we can draw any firm conclusions.\n",
    "\n",
    "We will start by comparing the frequency distributions of the two datasets"
   ]
  },
  {
   "cell_type": "code",
   "execution_count": 12,
   "metadata": {},
   "outputs": [
    {
     "data": {
      "text/plain": [
       "5.0     9\n",
       "4.5    49\n",
       "4.0    37\n",
       "3.5    23\n",
       "3.0    11\n",
       "Name: Fandango_Stars, dtype: int64"
      ]
     },
     "metadata": {},
     "output_type": "display_data"
    },
    {
     "data": {
      "text/plain": [
       "129"
      ]
     },
     "metadata": {},
     "output_type": "display_data"
    },
    {
     "data": {
      "text/plain": [
       "5.0     1\n",
       "4.5    47\n",
       "4.0    77\n",
       "3.5    46\n",
       "3.0    14\n",
       "2.5     6\n",
       "Name: fandango, dtype: int64"
      ]
     },
     "metadata": {},
     "output_type": "display_data"
    },
    {
     "data": {
      "text/plain": [
       "191"
      ]
     },
     "metadata": {},
     "output_type": "display_data"
    }
   ],
   "source": [
    "display(fandango_2015['Fandango_Stars'].value_counts().sort_index(ascending=False))\n",
    "display(fandango_2015['Fandango_Stars'].count())\n",
    "display(fandango_2016['fandango'].value_counts().sort_index(ascending=False))\n",
    "display(fandango_2016['fandango'].count())"
   ]
  },
  {
   "cell_type": "markdown",
   "metadata": {},
   "source": [
    "The samples contain different nr. of movies for the different ratings. Due to this difference we will use relative frequency rather than absolute frequency."
   ]
  },
  {
   "cell_type": "code",
   "execution_count": 13,
   "metadata": {},
   "outputs": [
    {
     "data": {
      "text/plain": [
       "5.0     6.976744\n",
       "4.5    37.984496\n",
       "4.0    28.682171\n",
       "3.5    17.829457\n",
       "3.0     8.527132\n",
       "Name: Fandango_Stars, dtype: float64"
      ]
     },
     "metadata": {},
     "output_type": "display_data"
    },
    {
     "data": {
      "text/plain": [
       "5.0     0.523560\n",
       "4.5    24.607330\n",
       "4.0    40.314136\n",
       "3.5    24.083770\n",
       "3.0     7.329843\n",
       "2.5     3.141361\n",
       "Name: fandango, dtype: float64"
      ]
     },
     "metadata": {},
     "output_type": "display_data"
    }
   ],
   "source": [
    "display(fandango_2015['Fandango_Stars'].value_counts(normalize=True).sort_index(ascending=False) * 100)\n",
    "display(fandango_2016['fandango'].value_counts(normalize=True).sort_index(ascending=False) * 100)"
   ]
  },
  {
   "cell_type": "markdown",
   "metadata": {},
   "source": [
    "We can see that the percentage of five-star ratings have gone from ~7% in 2015 to around 0.5% in 2016. The percentage of 4.5 ratings have declined and the 4.0 ratings have increased. There is also around 3% 2.5 ratings in 2016 compared to 2015 when there was none.\n",
    "\n",
    "The direction of change seems to be towards lower scores. The direction is not entirely clear from the relative frequency since the frequency for 4.0 and 3.5 ratings have gone up."
   ]
  },
  {
   "cell_type": "markdown",
   "metadata": {},
   "source": [
    "## Direction of Change"
   ]
  },
  {
   "attachments": {},
   "cell_type": "markdown",
   "metadata": {},
   "source": [
    "We will get more precise details about the direction of the change from 2015 to 2016."
   ]
  },
  {
   "cell_type": "code",
   "execution_count": 14,
   "metadata": {},
   "outputs": [
    {
     "name": "stdout",
     "output_type": "stream",
     "text": [
      "2015 Mean: 4.0852713178294575\n",
      "2015 Median: 4.0\n",
      "2015 Mode: 0    4.5\n",
      "Name: Fandango_Stars, dtype: float64, \n",
      "\n",
      "2016 Mean: 3.887434554973822\n",
      "2016 Median: 4.0\n",
      "2016 Mode: 0    4.0\n",
      "Name: fandango, dtype: float64\n"
     ]
    }
   ],
   "source": [
    "print(f\"2015 Mean: {fandango_2015['Fandango_Stars'].mean()}\")\n",
    "print(f\"2015 Median: {fandango_2015['Fandango_Stars'].median()}\")\n",
    "print(f\"2015 Mode: {fandango_2015['Fandango_Stars'].mode()}, \\n\")\n",
    "\n",
    "print(f\"2016 Mean: {fandango_2016['fandango'].mean()}\")\n",
    "print(f\"2016 Median: {fandango_2016['fandango'].median()}\")\n",
    "print(f\"2016 Mode: {fandango_2016['fandango'].mode()}\")\n"
   ]
  },
  {
   "cell_type": "markdown",
   "metadata": {},
   "source": [
    "- The mean value have gone down from 2015 to 2016 but only very slightly.  \n",
    "- The median, or middle value, have not changed.  \n",
    "- The mode, or most common values, have gone down from 4.5 to 4.0.\n",
    "\n",
    "There is a direction of change towards lower scores still, but it is a small one. Let's plot the statistics above to get a better view."
   ]
  },
  {
   "cell_type": "code",
   "execution_count": 15,
   "metadata": {},
   "outputs": [
    {
     "data": {
      "text/html": [
       "<div>\n",
       "<style scoped>\n",
       "    .dataframe tbody tr th:only-of-type {\n",
       "        vertical-align: middle;\n",
       "    }\n",
       "\n",
       "    .dataframe tbody tr th {\n",
       "        vertical-align: top;\n",
       "    }\n",
       "\n",
       "    .dataframe thead th {\n",
       "        text-align: right;\n",
       "    }\n",
       "</style>\n",
       "<table border=\"1\" class=\"dataframe\">\n",
       "  <thead>\n",
       "    <tr style=\"text-align: right;\">\n",
       "      <th></th>\n",
       "      <th>2015</th>\n",
       "      <th>2016</th>\n",
       "    </tr>\n",
       "  </thead>\n",
       "  <tbody>\n",
       "    <tr>\n",
       "      <th>mean</th>\n",
       "      <td>4.085271</td>\n",
       "      <td>3.887435</td>\n",
       "    </tr>\n",
       "    <tr>\n",
       "      <th>median</th>\n",
       "      <td>4.000000</td>\n",
       "      <td>4.000000</td>\n",
       "    </tr>\n",
       "    <tr>\n",
       "      <th>mode</th>\n",
       "      <td>4.500000</td>\n",
       "      <td>4.000000</td>\n",
       "    </tr>\n",
       "  </tbody>\n",
       "</table>\n",
       "</div>"
      ],
      "text/plain": [
       "            2015      2016\n",
       "mean    4.085271  3.887435\n",
       "median  4.000000  4.000000\n",
       "mode    4.500000  4.000000"
      ]
     },
     "execution_count": 15,
     "metadata": {},
     "output_type": "execute_result"
    }
   ],
   "source": [
    "stat_2015 = pd.DataFrame({'mean': fandango_2015['Fandango_Stars'].mean(),\n",
    "                          'median': fandango_2015['Fandango_Stars'].median(),\n",
    "                          'mode' : fandango_2015['Fandango_Stars'].mode()\n",
    "                         }\n",
    "                        )\n",
    "stat_2016 = pd.DataFrame({'mean': fandango_2016['fandango'].mean(),\n",
    "                          'median': fandango_2016['fandango'].median(),\n",
    "                          'mode' : fandango_2016['fandango'].mode()\n",
    "                         }\n",
    "                        )\n",
    "stats = pd.concat([stat_2015, stat_2016])\n",
    "stats.index = ['2015', '2016']\n",
    "stats = stats.T\n",
    "stats"
   ]
  },
  {
   "cell_type": "code",
   "execution_count": 16,
   "metadata": {},
   "outputs": [
    {
     "data": {
      "image/png": "[encoded data removed]",
      "text/plain": [
       "<Figure size 1200x800 with 1 Axes>"
      ]
     },
     "metadata": {},
     "output_type": "display_data"
    }
   ],
   "source": [
    "fig, ax = plt.subplots()\n",
    "fig.set_size_inches(12, 8)\n",
    "\n",
    "stats.plot.bar(rot = 0, ax=ax)\n",
    "\n",
    "plt.ylim(0,5)\n",
    "plt.yticks(np.arange(0,5.1,.5))\n",
    "\n",
    "plt.show()"
   ]
  },
  {
   "cell_type": "markdown",
   "metadata": {},
   "source": [
    "Again we can see a small lowering of the mean going from 2015 to 2016. The change in mode is also clear. Overall, there is a small change towards lower scores."
   ]
  },
  {
   "cell_type": "markdown",
   "metadata": {},
   "source": [
    "# IV. Conclusion"
   ]
  },
  {
   "attachments": {},
   "cell_type": "markdown",
   "metadata": {},
   "source": [
    "Based on our analysis we can conclude that there was a slight change towards lower scores on Fandango's website, going from 2015 to 2016. \n",
    "\n",
    "It's possible the change was caused by Fandango correcting their rating system to round user scores appropriately."
   ]
  }
 ],
 "metadata": {
  "interpreter": {
   "hash": "2e918aaa81d99c652401bdd1a0c185581595fb477ac919641bd65261b5d7782a"
  },
  "kernelspec": {
   "display_name": "Python 3.8.12 64-bit ('base': conda)",
   "language": "python",
   "name": "python3"
  },
  "language_info": {
   "codemirror_mode": {
    "name": "ipython",
    "version": 3
   },
   "file_extension": ".py",
   "mimetype": "text/x-python",
   "name": "python",
   "nbconvert_exporter": "python",
   "pygments_lexer": "ipython3",
   "version": "3.8.13"
  },
  "orig_nbformat": 4
 },
 "nbformat": 4,
 "nbformat_minor": 2
}
