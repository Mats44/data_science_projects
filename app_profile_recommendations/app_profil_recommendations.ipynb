{
 "cells": [
  {
   "cell_type": "markdown",
   "id": "hearing-rating",
   "metadata": {},
   "source": [
    "# App Profile Recommendation\n",
    "\n",
    "This analysis is done on behalf of a developer that makes free apps for Android and iOS. The developer gets the majority of their revenue from in-app ads. The result is that the revenue is primarily influenced by how many users use their apps; the more users who engage with the app, the better. The developer is primarily concerned with the English-speaking market.\n",
    "\n",
    "The goal of the analysis is to use data from a sample of iOS and Android apps to determine what type of apps are most likely to be downloaded.\n",
    "\n",
    "Below is an exploration of the dataset. A function is created to easily extract various information from the data sets."
   ]
  },
  {
   "cell_type": "code",
   "execution_count": 1,
   "id": "demographic-portugal",
   "metadata": {},
   "outputs": [],
   "source": [
    "def explore_data(dataset, start, end, rows_and_columns=False):\n",
    "        '''\n",
    "        dataset: list of list\n",
    "        start, end: integers ; Represents start & end indices of slice of the data set.\n",
    "        rows_and_columns: boolean \n",
    "        \n",
    "        return: None\n",
    "        \n",
    "        The function prints out the rows in the dataset within the slice specified.\n",
    "        Each row is separated by an empty line for readability.\n",
    "        The function also prints out the number or rows & columns if the argument is set to True.\n",
    "        '''\n",
    "\n",
    "        dataset_slice = dataset[start:end]\n",
    "        for row in dataset_slice:\n",
    "            print(row)\n",
    "            print('\\n')\n",
    "        \n",
    "        #prints out the number of rows and columns if the argument is set to True.\n",
    "        #dataset should not have a header row. If it does the function will print actual number of data rows + 1.\n",
    "        if rows_and_columns:\n",
    "            print('Number of rows:', len(dataset))\n",
    "            print('Number of columns:', len(dataset[0]))\n",
    "        "
   ]
  },
  {
   "cell_type": "markdown",
   "id": "deadly-royal",
   "metadata": {},
   "source": [
    "## Relevant Columns\n",
    "\n",
    "The output above shows the column names from the header rows in the dataset. The aim is to identify columns that are relevant to this analysis.\n",
    "\n",
    "The documentation for the data sets can be found here:\n",
    "- [Android dataset](https://www.kaggle.com/lava18/google-play-store-apps)\n",
    "- [Apple dataset](https://www.kaggle.com/ramamet4/app-store-apple-data-set-10k-apps)"
   ]
  },
  {
   "cell_type": "code",
   "execution_count": 2,
   "id": "mediterranean-india",
   "metadata": {},
   "outputs": [],
   "source": [
    "from csv import reader\n",
    "opened_file = open('apple_store.csv', encoding=\"utf8\")\n",
    "read_file = reader(opened_file)\n",
    "apple_data = list(read_file)\n",
    "\n",
    "opened_file = open('google_play_store.csv', encoding=\"utf8\")\n",
    "read_file = reader(opened_file)\n",
    "android_data = list(read_file)"
   ]
  },
  {
   "cell_type": "code",
   "execution_count": 3,
   "id": "sealed-pricing",
   "metadata": {},
   "outputs": [
    {
     "name": "stdout",
     "output_type": "stream",
     "text": [
      "Apple Data \n",
      "\n",
      "['id', 'track_name', 'size_bytes', 'currency', 'price', 'rating_count_tot', 'rating_count_ver', 'user_rating', 'user_rating_ver', 'ver', 'cont_rating', 'prime_genre', 'sup_devices.num', 'ipadSc_urls.num', 'lang.num', 'vpp_lic']\n",
      "\n",
      "\n",
      "None\n",
      "Android Data \n",
      "\n",
      "['App', 'Category', 'Rating', 'Reviews', 'Size', 'Installs', 'Type', 'Price', 'Content Rating', 'Genres', 'Last Updated', 'Current Ver', 'Android Ver']\n",
      "\n",
      "\n",
      "None\n"
     ]
    }
   ],
   "source": [
    "print('Apple Data \\n')\n",
    "print(explore_data(apple_data[0:], 0, 1, False))\n",
    "print('Android Data \\n')\n",
    "print(explore_data(android_data[0:], 0, 1, False))"
   ]
  },
  {
   "attachments": {},
   "cell_type": "markdown",
   "id": "incoming-volunteer",
   "metadata": {},
   "source": [
    "## Looking for errors in the data\n",
    "\n",
    "The exploration of the data below reveals that there is an issue with one row (missing 'genre' value), as well as numerous duplicate entries. A closer look at the duplicate entries show that they are information for the same app collected at different times. The entry for an app with the greatest number of reviews will be considered to be the most recent, and this entry for the app will be kept while the other duplicates are deleted."
   ]
  },
  {
   "cell_type": "code",
   "execution_count": 4,
   "id": "authentic-finder",
   "metadata": {},
   "outputs": [
    {
     "name": "stdout",
     "output_type": "stream",
     "text": [
      "['Life Made WI-Fi Touchscreen Photo Frame', '1.9', '19', '3.0M', '1,000+', 'Free', '0', 'Everyone', '', 'February 11, 2018', '1.0.19', '4.0 and up']\n",
      "['osmino Wi-Fi: free WiFi', 'TOOLS', '4.2', '134203', '4.1M', '10,000,000+', 'Free', '0', 'Everyone', 'Tools', 'August 7, 2018', '6.06.14', '4.4 and up']\n"
     ]
    }
   ],
   "source": [
    "#remove row with missing genre data.\n",
    "print(android_data[10473])\n",
    "del android_data[10473]\n",
    "print(android_data[10473])"
   ]
  },
  {
   "cell_type": "code",
   "execution_count": 5,
   "id": "renewable-anaheim",
   "metadata": {},
   "outputs": [
    {
     "name": "stdout",
     "output_type": "stream",
     "text": [
      "Number of duplicate apps:  1181\n",
      "\n",
      "\n",
      "Examples of duplicate apps:  ['Quick PDF Scanner + OCR FREE', 'Box', 'Google My Business', 'ZOOM Cloud Meetings', 'join.me - Simple Meetings', 'Box', 'Zenefits', 'Google Ads', 'Google My Business', 'Slack', 'FreshBooks Classic', 'Insightly CRM', 'QuickBooks Accounting: Invoicing & Expenses', 'HipChat - Chat Built for Teams', 'Xero Accounting Software']\n"
     ]
    }
   ],
   "source": [
    "#Look for duplicate apps in android_data\n",
    "duplicate_apps = []\n",
    "unique_apps = []\n",
    "\n",
    "for app in android_data:\n",
    "    name = app[0]\n",
    "    if name in unique_apps:\n",
    "        duplicate_apps.append(name)\n",
    "    else:\n",
    "        unique_apps.append(name)\n",
    "\n",
    "print('Number of duplicate apps: ', len(duplicate_apps))\n",
    "print('\\n')\n",
    "print('Examples of duplicate apps: ', duplicate_apps[:15])"
   ]
  },
  {
   "cell_type": "code",
   "execution_count": 6,
   "id": "opposed-stations",
   "metadata": {},
   "outputs": [
    {
     "name": "stdout",
     "output_type": "stream",
     "text": [
      "['Slack', 'BUSINESS', '4.4', '51507', 'Varies with device', '5,000,000+', 'Free', '0', 'Everyone', 'Business', 'August 2, 2018', 'Varies with device', 'Varies with device']\n",
      "['Slack', 'BUSINESS', '4.4', '51507', 'Varies with device', '5,000,000+', 'Free', '0', 'Everyone', 'Business', 'August 2, 2018', 'Varies with device', 'Varies with device']\n",
      "['Slack', 'BUSINESS', '4.4', '51510', 'Varies with device', '5,000,000+', 'Free', '0', 'Everyone', 'Business', 'August 2, 2018', 'Varies with device', 'Varies with device']\n"
     ]
    }
   ],
   "source": [
    "#Exploring duplicate entries\n",
    "for app in android_data:\n",
    "    name = app[0]\n",
    "    if name == 'Slack':\n",
    "        print (app)"
   ]
  },
  {
   "cell_type": "code",
   "execution_count": 7,
   "id": "adequate-synthetic",
   "metadata": {},
   "outputs": [
    {
     "name": "stdout",
     "output_type": "stream",
     "text": [
      "9659\n",
      "51510.0\n"
     ]
    }
   ],
   "source": [
    "#App entry with the highest number of reviews is kept and the duplicates are deleted. There should be a total of 9659 unique apps.\n",
    "reviews_max = {}\n",
    "\n",
    "for app in android_data[1:]:\n",
    "    \n",
    "    name = app[0]\n",
    "    reviews = float(app[3])\n",
    "    \n",
    "    if name in reviews_max and reviews_max[name] < reviews:\n",
    "        reviews_max[name] = reviews\n",
    "    else:\n",
    "        reviews_max.update({name: reviews})\n",
    "        \n",
    "\n",
    "\n",
    "print(len(reviews_max)) #checking for correct length\n",
    "print(reviews_max['Slack']) #comparing against range of Slack ratings shown above."
   ]
  },
  {
   "cell_type": "code",
   "execution_count": 8,
   "id": "instant-volume",
   "metadata": {},
   "outputs": [
    {
     "name": "stdout",
     "output_type": "stream",
     "text": [
      "9659\n"
     ]
    }
   ],
   "source": [
    "android_clean = []\n",
    "already_added = []\n",
    "\n",
    "for app in android_data[1:]:\n",
    "     \n",
    "    name = app[0]\n",
    "    reviews = float(app[3])\n",
    "    \n",
    "    if (reviews == reviews_max[name]) and (name not in already_added):\n",
    "        android_clean.append(app)\n",
    "        already_added.append(name)\n",
    "\n",
    "print(len(android_clean))"
   ]
  },
  {
   "cell_type": "markdown",
   "id": "fifteen-tracy",
   "metadata": {},
   "source": [
    "## Non-English Apps\n",
    "The company only creates apps for the English speaking market, we therefore want to remove all non-english apps from the dataset. This will make any analysis done on the dataset more relevant for our company."
   ]
  },
  {
   "cell_type": "code",
   "execution_count": 9,
   "id": "numerous-throw",
   "metadata": {},
   "outputs": [
    {
     "name": "stdout",
     "output_type": "stream",
     "text": [
      "True\n",
      "False\n",
      "False\n",
      "False\n"
     ]
    }
   ],
   "source": [
    "def is_english_test(string):\n",
    "    '''\n",
    "    string: any string\n",
    "    return: boolean\n",
    "    \n",
    "    Checks character encoding of string characters.\n",
    "    Returns False is the string contains any non-english characters.\n",
    "    '''\n",
    "    \n",
    "    for character in string:\n",
    "        if ord(character) > 127:\n",
    "            return False\n",
    "    return True\n",
    "\n",
    "print(is_english_test('Instagram'))\n",
    "print(is_english_test('爱奇艺PPS -《欢乐颂2》电视剧热播'))\n",
    "print(is_english_test('Docs To Go™ Free Office Suite'))\n",
    "print(is_english_test('Instachat 😜'))"
   ]
  },
  {
   "cell_type": "markdown",
   "id": "twenty-blade",
   "metadata": {},
   "source": [
    "As seen above, English apps are mistakenly being detected as non-English. This is due to emojis and certain characters, like the trademark character, having an ASCII code above 127.\n",
    "To refine the filter we will only remove apps with 3 or more characters above ASCII = 127."
   ]
  },
  {
   "cell_type": "code",
   "execution_count": 10,
   "id": "exotic-producer",
   "metadata": {},
   "outputs": [
    {
     "name": "stdout",
     "output_type": "stream",
     "text": [
      "True\n",
      "False\n",
      "True\n",
      "True\n"
     ]
    }
   ],
   "source": [
    "def is_english(string):\n",
    "    '''\n",
    "    string: any string\n",
    "    return: boolean\n",
    "    \n",
    "    Checks character encoding of string characters.\n",
    "    Returns False is the string contains any non-english characters.\n",
    "    '''\n",
    "    count = 0\n",
    "    \n",
    "    for character in string:\n",
    "        \n",
    "        if ord(character) > 127:\n",
    "            count += 1\n",
    "            \n",
    "    if count > 3:\n",
    "        return False\n",
    "    else:\n",
    "        return True\n",
    "    \n",
    "print(is_english('Instagram'))\n",
    "print(is_english('爱奇艺PPS -《欢乐颂2》电视剧热播'))\n",
    "print(is_english('Docs To Go™ Free Office Suite'))\n",
    "print(is_english('Instachat 😜'))"
   ]
  },
  {
   "cell_type": "code",
   "execution_count": 11,
   "id": "interior-escape",
   "metadata": {},
   "outputs": [
    {
     "name": "stdout",
     "output_type": "stream",
     "text": [
      "['Photo Editor & Candy Camera & Grid & ScrapBook', 'ART_AND_DESIGN', '4.1', '159', '19M', '10,000+', 'Free', '0', 'Everyone', 'Art & Design', 'January 7, 2018', '1.0.0', '4.0.3 and up']\n",
      "\n",
      "\n",
      "['U Launcher Lite – FREE Live Cool Themes, Hide Apps', 'ART_AND_DESIGN', '4.7', '87510', '8.7M', '5,000,000+', 'Free', '0', 'Everyone', 'Art & Design', 'August 1, 2018', '1.2.4', '4.0.3 and up']\n",
      "\n",
      "\n",
      "['Sketch - Draw & Paint', 'ART_AND_DESIGN', '4.5', '215644', '25M', '50,000,000+', 'Free', '0', 'Teen', 'Art & Design', 'June 8, 2018', 'Varies with device', '4.2 and up']\n",
      "\n",
      "\n",
      "Number of rows: 9614\n",
      "Number of columns: 13\n",
      "\n",
      "\n",
      "['284882215', 'Facebook', '389879808', 'USD', '0.0', '2974676', '212', '3.5', '3.5', '95.0', '4+', 'Social Networking', '37', '1', '29', '1']\n",
      "\n",
      "\n",
      "['389801252', 'Instagram', '113954816', 'USD', '0.0', '2161558', '1289', '4.5', '4.0', '10.23', '12+', 'Photo & Video', '37', '0', '29', '1']\n",
      "\n",
      "\n",
      "['529479190', 'Clash of Clans', '116476928', 'USD', '0.0', '2130805', '579', '4.5', '4.5', '9.24.12', '9+', 'Games', '38', '5', '18', '1']\n",
      "\n",
      "\n",
      "Number of rows: 6183\n",
      "Number of columns: 16\n"
     ]
    }
   ],
   "source": [
    "#Using the functions created above to remove non-english apps from the datasets\n",
    "android_english = []\n",
    "ios_english = []\n",
    "\n",
    "for app in android_clean:\n",
    "    name = app[0]\n",
    "    if is_english(name):\n",
    "        android_english.append(app)\n",
    "\n",
    "for app in apple_data[1:]:\n",
    "    name = app[1]\n",
    "    if is_english(name):\n",
    "        ios_english.append(app)\n",
    "\n",
    "explore_data(android_english, 0, 3, True)\n",
    "print('\\n')\n",
    "explore_data(ios_english, 0, 3, True)"
   ]
  },
  {
   "cell_type": "code",
   "execution_count": 12,
   "id": "retired-picnic",
   "metadata": {},
   "outputs": [
    {
     "name": "stdout",
     "output_type": "stream",
     "text": [
      "8863\n",
      "3222\n"
     ]
    }
   ],
   "source": [
    "#sorting out apps that are free\n",
    "free_android = []\n",
    "free_ios = []\n",
    "\n",
    "for app in android_english:\n",
    "    if app[6] == 'Free':\n",
    "        free_android.append(app)\n",
    "\n",
    "for app in ios_english:\n",
    "    if app[4] == '0.0':\n",
    "        free_ios.append(app)\n",
    "        \n",
    "print(len(free_android))\n",
    "print(len(free_ios))"
   ]
  },
  {
   "cell_type": "markdown",
   "id": "political-mills",
   "metadata": {},
   "source": [
    "## Most Common Apps by Genre\n",
    "To minimize risks and overhead, our validation strategy for an app idea is comprised of three steps:\n",
    "1. Build a minimal Android version of the app, and add it to Google Play.\n",
    "2. If the app has a good response from users, we develop it further.\n",
    "3. If the app is profitable after six months, we build an iOS version of the app and add it to the App Store.\n",
    "\n",
    "Ideally, the app we create will be added to both the App Store and Google Play. Therefore we look for app profiles that are successful in both of these stores.\n",
    "\n",
    "We begin by finding out what the most common genres in both stores are. The relevant data is stored in the `'prime_genre'` column for ios and in `'Genres'` and `'Category'` for android."
   ]
  },
  {
   "cell_type": "code",
   "execution_count": 13,
   "id": "794d637e",
   "metadata": {},
   "outputs": [],
   "source": [
    "def freq_table(dataset, index):\n",
    "    '''\n",
    "    Returns dictionary-form frequency table for a dataset and desired column(index)\n",
    "    \n",
    "    dataset: list of lists. The function expects the header row to be removed.\n",
    "    index: integer. Column to generate frequency table for\n",
    "    return: dictionary. Frequency table in the form of a dictionary\n",
    "    '''\n",
    "    genres_dict = {}\n",
    "    count = 0\n",
    "    \n",
    "    for row in dataset:\n",
    "        count += 1\n",
    "        value = row[index]\n",
    "        if value in genres_dict:\n",
    "            genres_dict[value] += 1\n",
    "        else:\n",
    "            genres_dict[value] = 1\n",
    "    \n",
    "    genres_per = {}\n",
    "    for key in genres_dict:\n",
    "        percentage = (genres_dict[key] / count) * 100\n",
    "        genres_per[key] = percentage \n",
    "    \n",
    "    return genres_per\n",
    "\n",
    "\n",
    "def display_table(dataset, index):\n",
    "    '''\n",
    "    Prints a list of the genre percentages in descending order\n",
    "    '''\n",
    "    table = freq_table(dataset, index)\n",
    "    table_display = []\n",
    "    for key in table:\n",
    "        key_val_as_tuple = (table[key], key)\n",
    "        table_display.append(key_val_as_tuple)\n",
    "        \n",
    "    table_sorted = sorted(table_display, reverse = True)\n",
    "    for entry in table_sorted:\n",
    "        print(entry[1], ':', entry[0])"
   ]
  },
  {
   "cell_type": "code",
   "execution_count": 14,
   "id": "ecbad332",
   "metadata": {},
   "outputs": [
    {
     "name": "stdout",
     "output_type": "stream",
     "text": [
      "FAMILY : 19.21471285117906\n",
      "GAME : 9.511452104253639\n",
      "TOOLS : 8.462146000225657\n",
      "BUSINESS : 4.580841701455489\n",
      "LIFESTYLE : 3.9038700214374367\n",
      "PRODUCTIVITY : 3.8925871601038025\n",
      "FINANCE : 3.7007785174320205\n",
      "MEDICAL : 3.542818458761142\n",
      "SPORTS : 3.4187069840911652\n",
      "PERSONALIZATION : 3.317161232088458\n",
      "COMMUNICATION : 3.2494640640866526\n",
      "HEALTH_AND_FITNESS : 3.068938282748505\n",
      "PHOTOGRAPHY : 2.944826808078529\n",
      "NEWS_AND_MAGAZINES : 2.798149610741284\n",
      "SOCIAL : 2.6627552747376737\n",
      "TRAVEL_AND_LOCAL : 2.335552296062281\n",
      "SHOPPING : 2.245289405393208\n",
      "BOOKS_AND_REFERENCE : 2.1437436533904997\n",
      "DATING : 1.8616721200496444\n",
      "VIDEO_PLAYERS : 1.7826920907142052\n",
      "MAPS_AND_NAVIGATION : 1.399074805370642\n",
      "FOOD_AND_DRINK : 1.241114746699763\n",
      "EDUCATION : 1.128286133363421\n",
      "LIBRARIES_AND_DEMO : 0.9364774906916393\n",
      "AUTO_AND_VEHICLES : 0.9251946293580051\n",
      "ENTERTAINMENT : 0.8800631840234684\n",
      "HOUSE_AND_HOME : 0.8236488773552973\n",
      "WEATHER : 0.8010831546880289\n",
      "EVENTS : 0.7108202640189552\n",
      "PARENTING : 0.6544059573507841\n",
      "ART_AND_DESIGN : 0.6431230960171499\n",
      "COMICS : 0.6205573733498815\n",
      "BEAUTY : 0.5979916506826132\n"
     ]
    }
   ],
   "source": [
    "display_table(free_android, 1)\n"
   ]
  },
  {
   "cell_type": "markdown",
   "id": "4fff93ec",
   "metadata": {},
   "source": [
    "`FAMILY` and `GAMES` make up the majority of the apps. If we browse Google Play we can see that most of the apps in the `Family` category are games intended for children. Despite this, practical, non-entertainment apps seems to be well represented."
   ]
  },
  {
   "cell_type": "code",
   "execution_count": 15,
   "id": "f09bf1e3",
   "metadata": {},
   "outputs": [
    {
     "name": "stdout",
     "output_type": "stream",
     "text": [
      "Games : 58.16263190564867\n",
      "Entertainment : 7.883302296710118\n",
      "Photo & Video : 4.9658597144630665\n",
      "Education : 3.662321539416512\n",
      "Social Networking : 3.2898820608317814\n",
      "Shopping : 2.60707635009311\n",
      "Utilities : 2.5139664804469275\n",
      "Sports : 2.1415270018621975\n",
      "Music : 2.0484171322160147\n",
      "Health & Fitness : 2.0173805090006205\n",
      "Productivity : 1.7380509000620732\n",
      "Lifestyle : 1.5828677839851024\n",
      "News : 1.3345747982619491\n",
      "Travel : 1.2414649286157666\n",
      "Finance : 1.1173184357541899\n",
      "Weather : 0.8690254500310366\n",
      "Food & Drink : 0.8069522036002483\n",
      "Reference : 0.5586592178770949\n",
      "Business : 0.5276225946617008\n",
      "Book : 0.4345127250155183\n",
      "Navigation : 0.186219739292365\n",
      "Medical : 0.186219739292365\n",
      "Catalogs : 0.12414649286157665\n"
     ]
    }
   ],
   "source": [
    "display_table(free_ios, -5)"
   ]
  },
  {
   "cell_type": "markdown",
   "id": "fb05fe8b",
   "metadata": {},
   "source": [
    "Over half of all apps on the iOS store is in the `Games` category with another 7% in the `Entertainment` category. The general trend seems to be that apps intended for entertainment make up the majority. Apps for practical or educational purposes is only a small percent.\n",
    "It is still unclear if this is a reflection of demand. It might be that all the games are competing in a market that doesn't have room for them all."
   ]
  },
  {
   "cell_type": "markdown",
   "id": "8069d971",
   "metadata": {},
   "source": [
    "## Most Popular Apps according to Genre"
   ]
  },
  {
   "cell_type": "markdown",
   "id": "e74a9c9b",
   "metadata": {},
   "source": [
    "Next, we will investigate which types of apps have the most users. We will do this by using the `Installs` column for Google Play. For the iOS App Store we will use the number of user ratings, `rating_count_tot`, as an approximation of the number of users."
   ]
  },
  {
   "cell_type": "markdown",
   "id": "cb09f6be",
   "metadata": {},
   "source": [
    "### iOS App Store"
   ]
  },
  {
   "cell_type": "markdown",
   "id": "ca5086e4",
   "metadata": {},
   "source": [
    "We investigate the iOS App Store first."
   ]
  },
  {
   "cell_type": "code",
   "execution_count": 16,
   "id": "c805d4a9",
   "metadata": {},
   "outputs": [
    {
     "name": "stdout",
     "output_type": "stream",
     "text": [
      "Social Networking : 71548.34905660378\n",
      "Photo & Video : 28441.54375\n",
      "Games : 22788.6696905016\n",
      "Music : 57326.530303030304\n",
      "Reference : 74942.11111111111\n",
      "Health & Fitness : 23298.015384615384\n",
      "Weather : 52279.892857142855\n",
      "Utilities : 18684.456790123455\n",
      "Travel : 28243.8\n",
      "Shopping : 26919.690476190477\n",
      "News : 21248.023255813954\n",
      "Navigation : 86090.33333333333\n",
      "Lifestyle : 16485.764705882353\n",
      "Entertainment : 14029.830708661417\n",
      "Food & Drink : 33333.92307692308\n",
      "Sports : 23008.898550724636\n",
      "Book : 39758.5\n",
      "Finance : 31467.944444444445\n",
      "Education : 7003.983050847458\n",
      "Productivity : 21028.410714285714\n",
      "Business : 7491.117647058823\n",
      "Catalogs : 4004.0\n",
      "Medical : 612.0\n"
     ]
    }
   ],
   "source": [
    "#Looping through the apps and totaling the ratings for apps with the same genre\n",
    "genres_ios = freq_table(free_ios, -5)\n",
    "\n",
    "for genre in genres_ios:\n",
    "    count = 0\n",
    "    length = 0\n",
    "    \n",
    "    for app in free_ios:\n",
    "        genre_app = app[-5]\n",
    "        if genre_app == genre:\n",
    "            ratings = float(app[5])\n",
    "            count += ratings\n",
    "            length += 1\n",
    "    \n",
    "    avg_ratings = count / length\n",
    "    print(genre, ':', avg_ratings)"
   ]
  },
  {
   "cell_type": "code",
   "execution_count": 17,
   "id": "0bc432a3",
   "metadata": {},
   "outputs": [
    {
     "name": "stdout",
     "output_type": "stream",
     "text": [
      "Waze - GPS Navigation, Maps & Real-time Traffic : 345046\n",
      "Google Maps - Navigation & Transit : 154911\n",
      "Geocaching® : 12811\n",
      "CoPilot GPS – Car Navigation & Offline Maps : 3582\n",
      "ImmobilienScout24: Real Estate Search in Germany : 187\n",
      "Railway Route Search : 5\n"
     ]
    }
   ],
   "source": [
    "for app in free_ios:\n",
    "    if app[-5] == 'Navigation':\n",
    "        print(app[1], ':', app[5])"
   ]
  },
  {
   "cell_type": "markdown",
   "id": "98592c0d",
   "metadata": {},
   "source": [
    "The `Navigation` genre is the one with the most ratings, but we can see that Waze and Google Maps are responsible for over half of the ratings. The same pattern is found in the other genres. `Social Networking` has Facebook, `Music` has Spotify, `Reference` has the bible, and so forth. We are trying to find the most popular genres but the few, very large apps might be skewing our ranking. We will look into this in a bit."
   ]
  },
  {
   "cell_type": "markdown",
   "id": "1589cdab",
   "metadata": {},
   "source": [
    "### Google Play Store"
   ]
  },
  {
   "cell_type": "markdown",
   "id": "2b08d372",
   "metadata": {},
   "source": [
    "Now we check the Google Play store."
   ]
  },
  {
   "cell_type": "code",
   "execution_count": 18,
   "id": "f3679899",
   "metadata": {},
   "outputs": [
    {
     "name": "stdout",
     "output_type": "stream",
     "text": [
      "Number of app installs:\n",
      "1,000,000+ : 15.750874421753355\n",
      "100,000+ : 11.564932866975065\n",
      "10,000,000+ : 10.50434390161345\n",
      "10,000+ : 10.21098950693896\n",
      "1,000+ : 8.394448832223853\n",
      "100+ : 6.916393997517771\n",
      "5,000,000+ : 6.826131106848697\n",
      "500,000+ : 5.562450637481666\n",
      "50,000+ : 4.772650344127271\n",
      "5,000+ : 4.513144533453684\n",
      "10+ : 3.542818458761142\n",
      "500+ : 3.2494640640866526\n",
      "50,000,000+ : 2.3017037120613786\n",
      "100,000,000+ : 2.1324607920568655\n",
      "50+ : 1.9180864267178157\n",
      "5+ : 0.7898002933543946\n",
      "1+ : 0.5077287600135394\n",
      "500,000,000+ : 0.270788672007221\n",
      "1,000,000,000+ : 0.2256572266726842\n",
      "0+ : 0.045131445334536835\n"
     ]
    }
   ],
   "source": [
    "print('Number of app installs:')\n",
    "display_table(free_android, 5)"
   ]
  },
  {
   "cell_type": "markdown",
   "id": "10686966",
   "metadata": {},
   "source": [
    "The numbers are not very precise. `100,000+` could mean anywhere from 100 000 to 1M. However, the data doesn't have to be all that precise for our purposes. We will use the current data as it is. `100,000+` will count as 100 000 installations exactly and so on.\n",
    "As can be seen from the list above the numbers are in string format. We will need to convert them to float and then calculate the averages."
   ]
  },
  {
   "cell_type": "code",
   "execution_count": 19,
   "id": "ddacab3a",
   "metadata": {},
   "outputs": [
    {
     "name": "stdout",
     "output_type": "stream",
     "text": [
      "ART_AND_DESIGN : 1986335.0877192982\n",
      "AUTO_AND_VEHICLES : 647317.8170731707\n",
      "BEAUTY : 513151.88679245283\n",
      "BOOKS_AND_REFERENCE : 8767811.894736841\n",
      "BUSINESS : 1704192.3399014778\n",
      "COMICS : 817657.2727272727\n",
      "COMMUNICATION : 38326063.197916664\n",
      "DATING : 854028.8303030303\n",
      "EDUCATION : 1768500.0\n",
      "ENTERTAINMENT : 9146923.076923076\n",
      "EVENTS : 253542.22222222222\n",
      "FINANCE : 1387692.475609756\n",
      "FOOD_AND_DRINK : 1924897.7363636363\n",
      "HEALTH_AND_FITNESS : 4167457.3602941176\n",
      "HOUSE_AND_HOME : 1331540.5616438356\n",
      "LIBRARIES_AND_DEMO : 638503.734939759\n",
      "LIFESTYLE : 1437816.2687861272\n",
      "GAME : 12914435.883748516\n",
      "FAMILY : 5183203.576042279\n",
      "MEDICAL : 123064.7898089172\n",
      "SOCIAL : 23253652.127118643\n",
      "SHOPPING : 7036877.311557789\n",
      "PHOTOGRAPHY : 17840110.40229885\n",
      "SPORTS : 4274688.722772277\n",
      "TRAVEL_AND_LOCAL : 13984077.710144928\n",
      "TOOLS : 10801391.298666667\n",
      "PERSONALIZATION : 5201482.6122448975\n",
      "PRODUCTIVITY : 16772838.591304347\n",
      "PARENTING : 542603.6206896552\n",
      "WEATHER : 5074486.197183099\n",
      "VIDEO_PLAYERS : 24790074.17721519\n",
      "NEWS_AND_MAGAZINES : 9549178.467741935\n",
      "MAPS_AND_NAVIGATION : 4056941.7741935486\n"
     ]
    }
   ],
   "source": [
    "genres_android = freq_table(free_android, 1)\n",
    "\n",
    "for genre in genres_android:\n",
    "    count = 0\n",
    "    length = 0\n",
    "    \n",
    "    for app in free_android:\n",
    "        genre_app = app[1]\n",
    "        if genre_app == genre:\n",
    "            installs = app[5]\n",
    "            installs = installs.replace(',', '')\n",
    "            installs = installs.replace('+', '')\n",
    "            count += float(installs)\n",
    "            length += 1\n",
    "    \n",
    "    avg_installs = count / length\n",
    "    print(genre, ':', avg_installs)\n",
    "        "
   ]
  },
  {
   "cell_type": "markdown",
   "id": "56c04268",
   "metadata": {},
   "source": [
    "As with the App Store, these numbers can be misleading as they are skewed in most genres by a few big apps that have 100M - 1B installs(Facebook, Youtube, Chrome, MS Word etc).\n",
    "As before, the problem is that the install numbers might not truly reflect the popularity of the genre of apps as a whole. It also seems difficult to compete in most of the genres due to domination by a few giants."
   ]
  },
  {
   "cell_type": "markdown",
   "id": "b8141c5c",
   "metadata": {},
   "source": [
    "# Conclusion"
   ]
  },
  {
   "cell_type": "markdown",
   "id": "2686761c",
   "metadata": {},
   "source": [
    "The app markets on both Google Play store and iOS App Store. The various genres are either saturated by competitors (i.e. Gaming) or dominated by a few giant apps.\n",
    "The most plausible strategy is to find a genre on both markets that is only dominated by a few giants and is not saturated in the <100M segment. With proper resources it should be possible to create a successful app in this genre.\n",
    "\n",
    "What genre is chosen would also depend on what kind of resources are available to the company:\n",
    "- What is the marketing budget?\n",
    "- What kinds of domain knowledge does the company have?\n",
    "- Can they partner with various brands?\n",
    "\n",
    "Since the company gets it's money from inn-app ads the app would have to be one that is frequently used. Weather apps, travel apps and other apps that the user is unlikely to interface with often will probably not be a good investment."
   ]
  }
 ],
 "metadata": {
  "kernelspec": {
   "display_name": "Python 3",
   "language": "python",
   "name": "python3"
  },
  "language_info": {
   "codemirror_mode": {
    "name": "ipython",
    "version": 3
   },
   "file_extension": ".py",
   "mimetype": "text/x-python",
   "name": "python",
   "nbconvert_exporter": "python",
   "pygments_lexer": "ipython3",
   "version": "3.8.13"
  }
 },
 "nbformat": 4,
 "nbformat_minor": 5
}
